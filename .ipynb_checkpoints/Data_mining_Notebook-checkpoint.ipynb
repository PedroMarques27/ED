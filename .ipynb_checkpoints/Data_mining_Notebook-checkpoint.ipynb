{
 "cells": [
  {
   "cell_type": "markdown",
   "metadata": {},
   "source": [
    "# GROUP  MEMBERS\n",
    "1- Doaa Mohamed    106413\n",
    "\n",
    "2- Inês Leite      92928\n",
    "\n",
    "3- Pedro Marques  92926"
   ]
  },
  {
   "cell_type": "code",
   "execution_count": 1,
   "metadata": {},
   "outputs": [
    {
     "ename": "SyntaxError",
     "evalue": "invalid syntax (Temp/ipykernel_23488/4126037848.py, line 1)",
     "output_type": "error",
     "traceback": [
      "\u001b[1;36m  File \u001b[1;32m\"C:\\Users\\pedro\\AppData\\Local\\Temp/ipykernel_23488/4126037848.py\"\u001b[1;36m, line \u001b[1;32m1\u001b[0m\n\u001b[1;33m    https://www.analyticsvidhya.com/blog/2020/07/10-techniques-to-deal-with-class-imbalance-in-machine-learning/\u001b[0m\n\u001b[1;37m          ^\u001b[0m\n\u001b[1;31mSyntaxError\u001b[0m\u001b[1;31m:\u001b[0m invalid syntax\n"
     ]
    }
   ],
   "source": [
    "https://www.analyticsvidhya.com/blog/2020/07/10-techniques-to-deal-with-class-imbalance-in-machine-learning/\n",
    "https://towardsdatascience.com/how-to-deal-with-imbalanced-data-in-python-f9b71aba53eb\n",
    "https://www.analyticsvidhya.com/blog/2020/10/overcoming-class-imbalance-using-smote-techniques/"
   ]
  },
  {
   "cell_type": "markdown",
   "metadata": {},
   "source": [
    "# Turbo Engine data description\n",
    "\n",
    "The engine under study is a turbofan engine (a jet engine). A turbofan engine has many components. A few important components are: Fan, Low Pressure Compressor (LPC), High Pressure Compressor (HPC), Low Pressure Turbine (LPT), High Pressure Turbine (HPT)."
   ]
  },
  {
   "cell_type": "code",
   "execution_count": 2,
   "metadata": {},
   "outputs": [
    {
     "name": "stdout",
     "output_type": "stream",
     "text": [
      "Requirement already satisfied: pandas in e:\\anaconda\\lib\\site-packages (1.3.4)\n",
      "Requirement already satisfied: python-dateutil>=2.7.3 in e:\\anaconda\\lib\\site-packages (from pandas) (2.8.2)\n",
      "Requirement already satisfied: numpy>=1.17.3 in e:\\anaconda\\lib\\site-packages (from pandas) (1.20.3)\n",
      "Requirement already satisfied: pytz>=2017.3 in e:\\anaconda\\lib\\site-packages (from pandas) (2021.3)\n",
      "Requirement already satisfied: six>=1.5 in e:\\anaconda\\lib\\site-packages (from python-dateutil>=2.7.3->pandas) (1.16.0)\n",
      "Requirement already satisfied: numpy in e:\\anaconda\\lib\\site-packages (1.20.3)\n",
      "Requirement already satisfied: imblearn in e:\\anaconda\\lib\\site-packages (0.0)\n",
      "Requirement already satisfied: imbalanced-learn in e:\\anaconda\\lib\\site-packages (from imblearn) (0.9.0)\n",
      "Requirement already satisfied: scipy>=1.1.0 in e:\\anaconda\\lib\\site-packages (from imbalanced-learn->imblearn) (1.7.1)\n",
      "Requirement already satisfied: joblib>=0.11 in e:\\anaconda\\lib\\site-packages (from imbalanced-learn->imblearn) (1.1.0)\n",
      "Requirement already satisfied: threadpoolctl>=2.0.0 in e:\\anaconda\\lib\\site-packages (from imbalanced-learn->imblearn) (2.2.0)\n",
      "Requirement already satisfied: numpy>=1.14.6 in e:\\anaconda\\lib\\site-packages (from imbalanced-learn->imblearn) (1.20.3)\n",
      "Requirement already satisfied: scikit-learn>=1.0.1 in e:\\anaconda\\lib\\site-packages (from imbalanced-learn->imblearn) (1.0.2)\n"
     ]
    }
   ],
   "source": [
    "!pip install pandas\n",
    "!pip install numpy\n",
    "!pip install imblearn"
   ]
  },
  {
   "cell_type": "markdown",
   "metadata": {},
   "source": [
    "https://www.youtube.com/watch?v=m7KWxX23zCU"
   ]
  },
  {
   "cell_type": "code",
   "execution_count": 69,
   "metadata": {},
   "outputs": [],
   "source": [
    "import pandas as pd\n",
    "import matplotlib.pyplot as plt\n",
    "from imblearn.over_sampling import SMOTE, ADASYN\n",
    "from imblearn.under_sampling import RandomUnderSampler\n",
    "from scipy.stats import zscore\n",
    "from sklearn import svm\n",
    "from sklearn.decomposition import PCA\n",
    "from sklearn.metrics import accuracy_score, plot_confusion_matrix, confusion_matrix, ConfusionMatrixDisplay, f1_score, \\\n",
    "    roc_auc_score\n",
    "from sklearn.utils import resample\n",
    "from sklearn.model_selection import GridSearchCV, cross_val_score, cross_val_predict\n",
    "from sklearn.svm import SVC\n",
    "import numpy as np\n",
    "import seaborn as sn\n",
    "from sklearn.feature_selection import SelectKBest, f_classif\n",
    "from imblearn.pipeline import Pipeline\n",
    "from sklearn.model_selection import cross_val_score\n",
    "from sklearn.metrics import roc_auc_score\n",
    "from numpy import mean\n",
    "from imblearn.under_sampling import TomekLinks \n",
    "from imblearn.combine import SMOTETomek \n"
   ]
  },
  {
   "cell_type": "markdown",
   "metadata": {},
   "source": [
    "## Load Data"
   ]
  },
  {
   "cell_type": "code",
   "execution_count": 28,
   "metadata": {
    "scrolled": false
   },
   "outputs": [
    {
     "data": {
      "text/html": [
       "<div>\n",
       "<style scoped>\n",
       "    .dataframe tbody tr th:only-of-type {\n",
       "        vertical-align: middle;\n",
       "    }\n",
       "\n",
       "    .dataframe tbody tr th {\n",
       "        vertical-align: top;\n",
       "    }\n",
       "\n",
       "    .dataframe thead th {\n",
       "        text-align: right;\n",
       "    }\n",
       "</style>\n",
       "<table border=\"1\" class=\"dataframe\">\n",
       "  <thead>\n",
       "    <tr style=\"text-align: right;\">\n",
       "      <th></th>\n",
       "      <th>setting1</th>\n",
       "      <th>setting2</th>\n",
       "      <th>setting3</th>\n",
       "      <th>s1</th>\n",
       "      <th>s2</th>\n",
       "      <th>s3</th>\n",
       "      <th>s4</th>\n",
       "      <th>s5</th>\n",
       "      <th>s6</th>\n",
       "      <th>s7</th>\n",
       "      <th>...</th>\n",
       "      <th>s13</th>\n",
       "      <th>s14</th>\n",
       "      <th>s15</th>\n",
       "      <th>s16</th>\n",
       "      <th>s17</th>\n",
       "      <th>s18</th>\n",
       "      <th>s19</th>\n",
       "      <th>s20</th>\n",
       "      <th>s21</th>\n",
       "      <th>Failure_status</th>\n",
       "    </tr>\n",
       "  </thead>\n",
       "  <tbody>\n",
       "    <tr>\n",
       "      <th>0</th>\n",
       "      <td>-0.0007</td>\n",
       "      <td>-0.0004</td>\n",
       "      <td>100.0</td>\n",
       "      <td>518.67</td>\n",
       "      <td>641.82</td>\n",
       "      <td>1589.70</td>\n",
       "      <td>1400.60</td>\n",
       "      <td>14.62</td>\n",
       "      <td>21.61</td>\n",
       "      <td>554.36</td>\n",
       "      <td>...</td>\n",
       "      <td>2388.02</td>\n",
       "      <td>8138.62</td>\n",
       "      <td>8.4195</td>\n",
       "      <td>0.03</td>\n",
       "      <td>392</td>\n",
       "      <td>2388</td>\n",
       "      <td>100.0</td>\n",
       "      <td>39.06</td>\n",
       "      <td>23.4190</td>\n",
       "      <td>no</td>\n",
       "    </tr>\n",
       "    <tr>\n",
       "      <th>1</th>\n",
       "      <td>0.0019</td>\n",
       "      <td>-0.0003</td>\n",
       "      <td>100.0</td>\n",
       "      <td>518.67</td>\n",
       "      <td>642.15</td>\n",
       "      <td>1591.82</td>\n",
       "      <td>1403.14</td>\n",
       "      <td>14.62</td>\n",
       "      <td>21.61</td>\n",
       "      <td>553.75</td>\n",
       "      <td>...</td>\n",
       "      <td>2388.07</td>\n",
       "      <td>8131.49</td>\n",
       "      <td>8.4318</td>\n",
       "      <td>0.03</td>\n",
       "      <td>392</td>\n",
       "      <td>2388</td>\n",
       "      <td>100.0</td>\n",
       "      <td>39.00</td>\n",
       "      <td>23.4236</td>\n",
       "      <td>no</td>\n",
       "    </tr>\n",
       "    <tr>\n",
       "      <th>2</th>\n",
       "      <td>-0.0043</td>\n",
       "      <td>0.0003</td>\n",
       "      <td>100.0</td>\n",
       "      <td>518.67</td>\n",
       "      <td>642.35</td>\n",
       "      <td>1587.99</td>\n",
       "      <td>1404.20</td>\n",
       "      <td>14.62</td>\n",
       "      <td>21.61</td>\n",
       "      <td>554.26</td>\n",
       "      <td>...</td>\n",
       "      <td>2388.03</td>\n",
       "      <td>8133.23</td>\n",
       "      <td>8.4178</td>\n",
       "      <td>0.03</td>\n",
       "      <td>390</td>\n",
       "      <td>2388</td>\n",
       "      <td>100.0</td>\n",
       "      <td>38.95</td>\n",
       "      <td>23.3442</td>\n",
       "      <td>no</td>\n",
       "    </tr>\n",
       "    <tr>\n",
       "      <th>3</th>\n",
       "      <td>0.0007</td>\n",
       "      <td>0.0000</td>\n",
       "      <td>100.0</td>\n",
       "      <td>518.67</td>\n",
       "      <td>642.35</td>\n",
       "      <td>1582.79</td>\n",
       "      <td>1401.87</td>\n",
       "      <td>14.62</td>\n",
       "      <td>21.61</td>\n",
       "      <td>554.45</td>\n",
       "      <td>...</td>\n",
       "      <td>2388.08</td>\n",
       "      <td>8133.83</td>\n",
       "      <td>8.3682</td>\n",
       "      <td>0.03</td>\n",
       "      <td>392</td>\n",
       "      <td>2388</td>\n",
       "      <td>100.0</td>\n",
       "      <td>38.88</td>\n",
       "      <td>23.3739</td>\n",
       "      <td>no</td>\n",
       "    </tr>\n",
       "    <tr>\n",
       "      <th>4</th>\n",
       "      <td>-0.0019</td>\n",
       "      <td>-0.0002</td>\n",
       "      <td>100.0</td>\n",
       "      <td>518.67</td>\n",
       "      <td>642.37</td>\n",
       "      <td>1582.85</td>\n",
       "      <td>1406.22</td>\n",
       "      <td>14.62</td>\n",
       "      <td>21.61</td>\n",
       "      <td>554.00</td>\n",
       "      <td>...</td>\n",
       "      <td>2388.04</td>\n",
       "      <td>8133.80</td>\n",
       "      <td>8.4294</td>\n",
       "      <td>0.03</td>\n",
       "      <td>393</td>\n",
       "      <td>2388</td>\n",
       "      <td>100.0</td>\n",
       "      <td>38.90</td>\n",
       "      <td>23.4044</td>\n",
       "      <td>no</td>\n",
       "    </tr>\n",
       "    <tr>\n",
       "      <th>...</th>\n",
       "      <td>...</td>\n",
       "      <td>...</td>\n",
       "      <td>...</td>\n",
       "      <td>...</td>\n",
       "      <td>...</td>\n",
       "      <td>...</td>\n",
       "      <td>...</td>\n",
       "      <td>...</td>\n",
       "      <td>...</td>\n",
       "      <td>...</td>\n",
       "      <td>...</td>\n",
       "      <td>...</td>\n",
       "      <td>...</td>\n",
       "      <td>...</td>\n",
       "      <td>...</td>\n",
       "      <td>...</td>\n",
       "      <td>...</td>\n",
       "      <td>...</td>\n",
       "      <td>...</td>\n",
       "      <td>...</td>\n",
       "      <td>...</td>\n",
       "    </tr>\n",
       "    <tr>\n",
       "      <th>20626</th>\n",
       "      <td>-0.0004</td>\n",
       "      <td>-0.0003</td>\n",
       "      <td>100.0</td>\n",
       "      <td>518.67</td>\n",
       "      <td>643.49</td>\n",
       "      <td>1597.98</td>\n",
       "      <td>1428.63</td>\n",
       "      <td>14.62</td>\n",
       "      <td>21.61</td>\n",
       "      <td>551.43</td>\n",
       "      <td>...</td>\n",
       "      <td>2388.26</td>\n",
       "      <td>8137.60</td>\n",
       "      <td>8.4956</td>\n",
       "      <td>0.03</td>\n",
       "      <td>397</td>\n",
       "      <td>2388</td>\n",
       "      <td>100.0</td>\n",
       "      <td>38.49</td>\n",
       "      <td>22.9735</td>\n",
       "      <td>yes</td>\n",
       "    </tr>\n",
       "    <tr>\n",
       "      <th>20627</th>\n",
       "      <td>-0.0016</td>\n",
       "      <td>-0.0005</td>\n",
       "      <td>100.0</td>\n",
       "      <td>518.67</td>\n",
       "      <td>643.54</td>\n",
       "      <td>1604.50</td>\n",
       "      <td>1433.58</td>\n",
       "      <td>14.62</td>\n",
       "      <td>21.61</td>\n",
       "      <td>550.86</td>\n",
       "      <td>...</td>\n",
       "      <td>2388.22</td>\n",
       "      <td>8136.50</td>\n",
       "      <td>8.5139</td>\n",
       "      <td>0.03</td>\n",
       "      <td>395</td>\n",
       "      <td>2388</td>\n",
       "      <td>100.0</td>\n",
       "      <td>38.30</td>\n",
       "      <td>23.1594</td>\n",
       "      <td>yes</td>\n",
       "    </tr>\n",
       "    <tr>\n",
       "      <th>20628</th>\n",
       "      <td>0.0004</td>\n",
       "      <td>0.0000</td>\n",
       "      <td>100.0</td>\n",
       "      <td>518.67</td>\n",
       "      <td>643.42</td>\n",
       "      <td>1602.46</td>\n",
       "      <td>1428.18</td>\n",
       "      <td>14.62</td>\n",
       "      <td>21.61</td>\n",
       "      <td>550.94</td>\n",
       "      <td>...</td>\n",
       "      <td>2388.24</td>\n",
       "      <td>8141.05</td>\n",
       "      <td>8.5646</td>\n",
       "      <td>0.03</td>\n",
       "      <td>398</td>\n",
       "      <td>2388</td>\n",
       "      <td>100.0</td>\n",
       "      <td>38.44</td>\n",
       "      <td>22.9333</td>\n",
       "      <td>yes</td>\n",
       "    </tr>\n",
       "    <tr>\n",
       "      <th>20629</th>\n",
       "      <td>-0.0011</td>\n",
       "      <td>0.0003</td>\n",
       "      <td>100.0</td>\n",
       "      <td>518.67</td>\n",
       "      <td>643.23</td>\n",
       "      <td>1605.26</td>\n",
       "      <td>1426.53</td>\n",
       "      <td>14.62</td>\n",
       "      <td>21.61</td>\n",
       "      <td>550.68</td>\n",
       "      <td>...</td>\n",
       "      <td>2388.23</td>\n",
       "      <td>8139.29</td>\n",
       "      <td>8.5389</td>\n",
       "      <td>0.03</td>\n",
       "      <td>395</td>\n",
       "      <td>2388</td>\n",
       "      <td>100.0</td>\n",
       "      <td>38.29</td>\n",
       "      <td>23.0640</td>\n",
       "      <td>yes</td>\n",
       "    </tr>\n",
       "    <tr>\n",
       "      <th>20630</th>\n",
       "      <td>-0.0032</td>\n",
       "      <td>-0.0005</td>\n",
       "      <td>100.0</td>\n",
       "      <td>518.67</td>\n",
       "      <td>643.85</td>\n",
       "      <td>1600.38</td>\n",
       "      <td>1432.14</td>\n",
       "      <td>14.62</td>\n",
       "      <td>21.61</td>\n",
       "      <td>550.79</td>\n",
       "      <td>...</td>\n",
       "      <td>2388.26</td>\n",
       "      <td>8137.33</td>\n",
       "      <td>8.5036</td>\n",
       "      <td>0.03</td>\n",
       "      <td>396</td>\n",
       "      <td>2388</td>\n",
       "      <td>100.0</td>\n",
       "      <td>38.37</td>\n",
       "      <td>23.0522</td>\n",
       "      <td>yes</td>\n",
       "    </tr>\n",
       "  </tbody>\n",
       "</table>\n",
       "<p>20631 rows × 25 columns</p>\n",
       "</div>"
      ],
      "text/plain": [
       "       setting1  setting2  setting3      s1      s2       s3       s4     s5  \\\n",
       "0       -0.0007   -0.0004     100.0  518.67  641.82  1589.70  1400.60  14.62   \n",
       "1        0.0019   -0.0003     100.0  518.67  642.15  1591.82  1403.14  14.62   \n",
       "2       -0.0043    0.0003     100.0  518.67  642.35  1587.99  1404.20  14.62   \n",
       "3        0.0007    0.0000     100.0  518.67  642.35  1582.79  1401.87  14.62   \n",
       "4       -0.0019   -0.0002     100.0  518.67  642.37  1582.85  1406.22  14.62   \n",
       "...         ...       ...       ...     ...     ...      ...      ...    ...   \n",
       "20626   -0.0004   -0.0003     100.0  518.67  643.49  1597.98  1428.63  14.62   \n",
       "20627   -0.0016   -0.0005     100.0  518.67  643.54  1604.50  1433.58  14.62   \n",
       "20628    0.0004    0.0000     100.0  518.67  643.42  1602.46  1428.18  14.62   \n",
       "20629   -0.0011    0.0003     100.0  518.67  643.23  1605.26  1426.53  14.62   \n",
       "20630   -0.0032   -0.0005     100.0  518.67  643.85  1600.38  1432.14  14.62   \n",
       "\n",
       "          s6      s7  ...      s13      s14     s15   s16  s17   s18    s19  \\\n",
       "0      21.61  554.36  ...  2388.02  8138.62  8.4195  0.03  392  2388  100.0   \n",
       "1      21.61  553.75  ...  2388.07  8131.49  8.4318  0.03  392  2388  100.0   \n",
       "2      21.61  554.26  ...  2388.03  8133.23  8.4178  0.03  390  2388  100.0   \n",
       "3      21.61  554.45  ...  2388.08  8133.83  8.3682  0.03  392  2388  100.0   \n",
       "4      21.61  554.00  ...  2388.04  8133.80  8.4294  0.03  393  2388  100.0   \n",
       "...      ...     ...  ...      ...      ...     ...   ...  ...   ...    ...   \n",
       "20626  21.61  551.43  ...  2388.26  8137.60  8.4956  0.03  397  2388  100.0   \n",
       "20627  21.61  550.86  ...  2388.22  8136.50  8.5139  0.03  395  2388  100.0   \n",
       "20628  21.61  550.94  ...  2388.24  8141.05  8.5646  0.03  398  2388  100.0   \n",
       "20629  21.61  550.68  ...  2388.23  8139.29  8.5389  0.03  395  2388  100.0   \n",
       "20630  21.61  550.79  ...  2388.26  8137.33  8.5036  0.03  396  2388  100.0   \n",
       "\n",
       "         s20      s21  Failure_status  \n",
       "0      39.06  23.4190              no  \n",
       "1      39.00  23.4236              no  \n",
       "2      38.95  23.3442              no  \n",
       "3      38.88  23.3739              no  \n",
       "4      38.90  23.4044              no  \n",
       "...      ...      ...             ...  \n",
       "20626  38.49  22.9735             yes  \n",
       "20627  38.30  23.1594             yes  \n",
       "20628  38.44  22.9333             yes  \n",
       "20629  38.29  23.0640             yes  \n",
       "20630  38.37  23.0522             yes  \n",
       "\n",
       "[20631 rows x 25 columns]"
      ]
     },
     "execution_count": 28,
     "metadata": {},
     "output_type": "execute_result"
    }
   ],
   "source": [
    "train = pd.read_csv(r'dataTopicF/train_FD001.csv', sep=';')\n",
    "train"
   ]
  },
  {
   "cell_type": "code",
   "execution_count": 29,
   "metadata": {},
   "outputs": [
    {
     "data": {
      "text/html": [
       "<div>\n",
       "<style scoped>\n",
       "    .dataframe tbody tr th:only-of-type {\n",
       "        vertical-align: middle;\n",
       "    }\n",
       "\n",
       "    .dataframe tbody tr th {\n",
       "        vertical-align: top;\n",
       "    }\n",
       "\n",
       "    .dataframe thead th {\n",
       "        text-align: right;\n",
       "    }\n",
       "</style>\n",
       "<table border=\"1\" class=\"dataframe\">\n",
       "  <thead>\n",
       "    <tr style=\"text-align: right;\">\n",
       "      <th></th>\n",
       "      <th>setting1</th>\n",
       "      <th>setting2</th>\n",
       "      <th>setting3</th>\n",
       "      <th>s1</th>\n",
       "      <th>s2</th>\n",
       "      <th>s3</th>\n",
       "      <th>s4</th>\n",
       "      <th>s5</th>\n",
       "      <th>s6</th>\n",
       "      <th>s7</th>\n",
       "      <th>...</th>\n",
       "      <th>s13</th>\n",
       "      <th>s14</th>\n",
       "      <th>s15</th>\n",
       "      <th>s16</th>\n",
       "      <th>s17</th>\n",
       "      <th>s18</th>\n",
       "      <th>s19</th>\n",
       "      <th>s20</th>\n",
       "      <th>s21</th>\n",
       "      <th>Failure_status</th>\n",
       "    </tr>\n",
       "  </thead>\n",
       "  <tbody>\n",
       "    <tr>\n",
       "      <th>0</th>\n",
       "      <td>0.0023</td>\n",
       "      <td>0.0003</td>\n",
       "      <td>100.0</td>\n",
       "      <td>518.67</td>\n",
       "      <td>643.02</td>\n",
       "      <td>1585.29</td>\n",
       "      <td>1398.21</td>\n",
       "      <td>14.62</td>\n",
       "      <td>21.61</td>\n",
       "      <td>553.90</td>\n",
       "      <td>...</td>\n",
       "      <td>2388.03</td>\n",
       "      <td>8125.55</td>\n",
       "      <td>8.4052</td>\n",
       "      <td>0.03</td>\n",
       "      <td>392</td>\n",
       "      <td>2388</td>\n",
       "      <td>100.0</td>\n",
       "      <td>38.86</td>\n",
       "      <td>23.3735</td>\n",
       "      <td>no</td>\n",
       "    </tr>\n",
       "    <tr>\n",
       "      <th>1</th>\n",
       "      <td>-0.0027</td>\n",
       "      <td>-0.0003</td>\n",
       "      <td>100.0</td>\n",
       "      <td>518.67</td>\n",
       "      <td>641.71</td>\n",
       "      <td>1588.45</td>\n",
       "      <td>1395.42</td>\n",
       "      <td>14.62</td>\n",
       "      <td>21.61</td>\n",
       "      <td>554.85</td>\n",
       "      <td>...</td>\n",
       "      <td>2388.06</td>\n",
       "      <td>8139.62</td>\n",
       "      <td>8.3803</td>\n",
       "      <td>0.03</td>\n",
       "      <td>393</td>\n",
       "      <td>2388</td>\n",
       "      <td>100.0</td>\n",
       "      <td>39.02</td>\n",
       "      <td>23.3916</td>\n",
       "      <td>no</td>\n",
       "    </tr>\n",
       "    <tr>\n",
       "      <th>2</th>\n",
       "      <td>0.0003</td>\n",
       "      <td>0.0001</td>\n",
       "      <td>100.0</td>\n",
       "      <td>518.67</td>\n",
       "      <td>642.46</td>\n",
       "      <td>1586.94</td>\n",
       "      <td>1401.34</td>\n",
       "      <td>14.62</td>\n",
       "      <td>21.61</td>\n",
       "      <td>554.11</td>\n",
       "      <td>...</td>\n",
       "      <td>2388.03</td>\n",
       "      <td>8130.10</td>\n",
       "      <td>8.4441</td>\n",
       "      <td>0.03</td>\n",
       "      <td>393</td>\n",
       "      <td>2388</td>\n",
       "      <td>100.0</td>\n",
       "      <td>39.08</td>\n",
       "      <td>23.4166</td>\n",
       "      <td>no</td>\n",
       "    </tr>\n",
       "    <tr>\n",
       "      <th>3</th>\n",
       "      <td>0.0042</td>\n",
       "      <td>0.0000</td>\n",
       "      <td>100.0</td>\n",
       "      <td>518.67</td>\n",
       "      <td>642.44</td>\n",
       "      <td>1584.12</td>\n",
       "      <td>1406.42</td>\n",
       "      <td>14.62</td>\n",
       "      <td>21.61</td>\n",
       "      <td>554.07</td>\n",
       "      <td>...</td>\n",
       "      <td>2388.05</td>\n",
       "      <td>8132.90</td>\n",
       "      <td>8.3917</td>\n",
       "      <td>0.03</td>\n",
       "      <td>391</td>\n",
       "      <td>2388</td>\n",
       "      <td>100.0</td>\n",
       "      <td>39.00</td>\n",
       "      <td>23.3737</td>\n",
       "      <td>no</td>\n",
       "    </tr>\n",
       "    <tr>\n",
       "      <th>4</th>\n",
       "      <td>0.0014</td>\n",
       "      <td>0.0000</td>\n",
       "      <td>100.0</td>\n",
       "      <td>518.67</td>\n",
       "      <td>642.51</td>\n",
       "      <td>1587.19</td>\n",
       "      <td>1401.92</td>\n",
       "      <td>14.62</td>\n",
       "      <td>21.61</td>\n",
       "      <td>554.16</td>\n",
       "      <td>...</td>\n",
       "      <td>2388.03</td>\n",
       "      <td>8129.54</td>\n",
       "      <td>8.4031</td>\n",
       "      <td>0.03</td>\n",
       "      <td>390</td>\n",
       "      <td>2388</td>\n",
       "      <td>100.0</td>\n",
       "      <td>38.99</td>\n",
       "      <td>23.4130</td>\n",
       "      <td>no</td>\n",
       "    </tr>\n",
       "    <tr>\n",
       "      <th>...</th>\n",
       "      <td>...</td>\n",
       "      <td>...</td>\n",
       "      <td>...</td>\n",
       "      <td>...</td>\n",
       "      <td>...</td>\n",
       "      <td>...</td>\n",
       "      <td>...</td>\n",
       "      <td>...</td>\n",
       "      <td>...</td>\n",
       "      <td>...</td>\n",
       "      <td>...</td>\n",
       "      <td>...</td>\n",
       "      <td>...</td>\n",
       "      <td>...</td>\n",
       "      <td>...</td>\n",
       "      <td>...</td>\n",
       "      <td>...</td>\n",
       "      <td>...</td>\n",
       "      <td>...</td>\n",
       "      <td>...</td>\n",
       "      <td>...</td>\n",
       "    </tr>\n",
       "    <tr>\n",
       "      <th>13091</th>\n",
       "      <td>0.0049</td>\n",
       "      <td>0.0000</td>\n",
       "      <td>100.0</td>\n",
       "      <td>518.67</td>\n",
       "      <td>643.24</td>\n",
       "      <td>1599.45</td>\n",
       "      <td>1415.79</td>\n",
       "      <td>14.62</td>\n",
       "      <td>21.61</td>\n",
       "      <td>553.41</td>\n",
       "      <td>...</td>\n",
       "      <td>2388.00</td>\n",
       "      <td>8213.28</td>\n",
       "      <td>8.4715</td>\n",
       "      <td>0.03</td>\n",
       "      <td>394</td>\n",
       "      <td>2388</td>\n",
       "      <td>100.0</td>\n",
       "      <td>38.65</td>\n",
       "      <td>23.1974</td>\n",
       "      <td>yes</td>\n",
       "    </tr>\n",
       "    <tr>\n",
       "      <th>13092</th>\n",
       "      <td>-0.0011</td>\n",
       "      <td>-0.0001</td>\n",
       "      <td>100.0</td>\n",
       "      <td>518.67</td>\n",
       "      <td>643.22</td>\n",
       "      <td>1595.69</td>\n",
       "      <td>1422.05</td>\n",
       "      <td>14.62</td>\n",
       "      <td>21.61</td>\n",
       "      <td>553.22</td>\n",
       "      <td>...</td>\n",
       "      <td>2388.09</td>\n",
       "      <td>8210.85</td>\n",
       "      <td>8.4512</td>\n",
       "      <td>0.03</td>\n",
       "      <td>395</td>\n",
       "      <td>2388</td>\n",
       "      <td>100.0</td>\n",
       "      <td>38.57</td>\n",
       "      <td>23.2771</td>\n",
       "      <td>yes</td>\n",
       "    </tr>\n",
       "    <tr>\n",
       "      <th>13093</th>\n",
       "      <td>-0.0006</td>\n",
       "      <td>-0.0003</td>\n",
       "      <td>100.0</td>\n",
       "      <td>518.67</td>\n",
       "      <td>643.44</td>\n",
       "      <td>1593.15</td>\n",
       "      <td>1406.82</td>\n",
       "      <td>14.62</td>\n",
       "      <td>21.61</td>\n",
       "      <td>553.04</td>\n",
       "      <td>...</td>\n",
       "      <td>2388.04</td>\n",
       "      <td>8217.24</td>\n",
       "      <td>8.4569</td>\n",
       "      <td>0.03</td>\n",
       "      <td>395</td>\n",
       "      <td>2388</td>\n",
       "      <td>100.0</td>\n",
       "      <td>38.62</td>\n",
       "      <td>23.2051</td>\n",
       "      <td>yes</td>\n",
       "    </tr>\n",
       "    <tr>\n",
       "      <th>13094</th>\n",
       "      <td>-0.0038</td>\n",
       "      <td>0.0001</td>\n",
       "      <td>100.0</td>\n",
       "      <td>518.67</td>\n",
       "      <td>643.26</td>\n",
       "      <td>1594.99</td>\n",
       "      <td>1419.36</td>\n",
       "      <td>14.62</td>\n",
       "      <td>21.61</td>\n",
       "      <td>553.37</td>\n",
       "      <td>...</td>\n",
       "      <td>2388.08</td>\n",
       "      <td>8220.48</td>\n",
       "      <td>8.4711</td>\n",
       "      <td>0.03</td>\n",
       "      <td>395</td>\n",
       "      <td>2388</td>\n",
       "      <td>100.0</td>\n",
       "      <td>38.66</td>\n",
       "      <td>23.2699</td>\n",
       "      <td>yes</td>\n",
       "    </tr>\n",
       "    <tr>\n",
       "      <th>13095</th>\n",
       "      <td>0.0013</td>\n",
       "      <td>0.0003</td>\n",
       "      <td>100.0</td>\n",
       "      <td>518.67</td>\n",
       "      <td>642.95</td>\n",
       "      <td>1601.62</td>\n",
       "      <td>1424.99</td>\n",
       "      <td>14.62</td>\n",
       "      <td>21.61</td>\n",
       "      <td>552.48</td>\n",
       "      <td>...</td>\n",
       "      <td>2388.05</td>\n",
       "      <td>8214.64</td>\n",
       "      <td>8.4903</td>\n",
       "      <td>0.03</td>\n",
       "      <td>396</td>\n",
       "      <td>2388</td>\n",
       "      <td>100.0</td>\n",
       "      <td>38.70</td>\n",
       "      <td>23.1855</td>\n",
       "      <td>yes</td>\n",
       "    </tr>\n",
       "  </tbody>\n",
       "</table>\n",
       "<p>13096 rows × 25 columns</p>\n",
       "</div>"
      ],
      "text/plain": [
       "       setting1  setting2  setting3      s1      s2       s3       s4     s5  \\\n",
       "0        0.0023    0.0003     100.0  518.67  643.02  1585.29  1398.21  14.62   \n",
       "1       -0.0027   -0.0003     100.0  518.67  641.71  1588.45  1395.42  14.62   \n",
       "2        0.0003    0.0001     100.0  518.67  642.46  1586.94  1401.34  14.62   \n",
       "3        0.0042    0.0000     100.0  518.67  642.44  1584.12  1406.42  14.62   \n",
       "4        0.0014    0.0000     100.0  518.67  642.51  1587.19  1401.92  14.62   \n",
       "...         ...       ...       ...     ...     ...      ...      ...    ...   \n",
       "13091    0.0049    0.0000     100.0  518.67  643.24  1599.45  1415.79  14.62   \n",
       "13092   -0.0011   -0.0001     100.0  518.67  643.22  1595.69  1422.05  14.62   \n",
       "13093   -0.0006   -0.0003     100.0  518.67  643.44  1593.15  1406.82  14.62   \n",
       "13094   -0.0038    0.0001     100.0  518.67  643.26  1594.99  1419.36  14.62   \n",
       "13095    0.0013    0.0003     100.0  518.67  642.95  1601.62  1424.99  14.62   \n",
       "\n",
       "          s6      s7  ...      s13      s14     s15   s16  s17   s18    s19  \\\n",
       "0      21.61  553.90  ...  2388.03  8125.55  8.4052  0.03  392  2388  100.0   \n",
       "1      21.61  554.85  ...  2388.06  8139.62  8.3803  0.03  393  2388  100.0   \n",
       "2      21.61  554.11  ...  2388.03  8130.10  8.4441  0.03  393  2388  100.0   \n",
       "3      21.61  554.07  ...  2388.05  8132.90  8.3917  0.03  391  2388  100.0   \n",
       "4      21.61  554.16  ...  2388.03  8129.54  8.4031  0.03  390  2388  100.0   \n",
       "...      ...     ...  ...      ...      ...     ...   ...  ...   ...    ...   \n",
       "13091  21.61  553.41  ...  2388.00  8213.28  8.4715  0.03  394  2388  100.0   \n",
       "13092  21.61  553.22  ...  2388.09  8210.85  8.4512  0.03  395  2388  100.0   \n",
       "13093  21.61  553.04  ...  2388.04  8217.24  8.4569  0.03  395  2388  100.0   \n",
       "13094  21.61  553.37  ...  2388.08  8220.48  8.4711  0.03  395  2388  100.0   \n",
       "13095  21.61  552.48  ...  2388.05  8214.64  8.4903  0.03  396  2388  100.0   \n",
       "\n",
       "         s20      s21  Failure_status  \n",
       "0      38.86  23.3735              no  \n",
       "1      39.02  23.3916              no  \n",
       "2      39.08  23.4166              no  \n",
       "3      39.00  23.3737              no  \n",
       "4      38.99  23.4130              no  \n",
       "...      ...      ...             ...  \n",
       "13091  38.65  23.1974             yes  \n",
       "13092  38.57  23.2771             yes  \n",
       "13093  38.62  23.2051             yes  \n",
       "13094  38.66  23.2699             yes  \n",
       "13095  38.70  23.1855             yes  \n",
       "\n",
       "[13096 rows x 25 columns]"
      ]
     },
     "execution_count": 29,
     "metadata": {},
     "output_type": "execute_result"
    }
   ],
   "source": [
    "test = pd.read_csv(r'dataTopicF\\test_FD001.csv', sep=';')\n",
    "test"
   ]
  },
  {
   "cell_type": "markdown",
   "metadata": {},
   "source": [
    "### Data Analysis\n",
    "-Remove rows with missing values\n",
    "-Remove duplicate rows\n",
    "-Check features/types\n",
    "  "
   ]
  },
  {
   "cell_type": "code",
   "execution_count": 30,
   "metadata": {},
   "outputs": [
    {
     "name": "stdout",
     "output_type": "stream",
     "text": [
      "Features: ['setting1', 'setting2', 'setting3', 's1', 's2', 's3', 's4', 's5', 's6', 's7', 's8', 's9', 's10', 's11', 's12', 's13', 's14', 's15', 's16', 's17', 's18', 's19', 's20', 's21', 'Failure_status']\n",
      "Entries in train dataset: 20631\n",
      "Missing Values in train dataset: 0\n",
      "Duplicate rows in train dataset: 0\n",
      "\n",
      "Entries in test dataset: 13096\n",
      "Missing Values in test dataset: 0\n",
      "Duplicate rows in test dataset: 0\n"
     ]
    }
   ],
   "source": [
    "print(f\"Features: {list(train.columns)}\")\n",
    "print(f\"Entries in train dataset: {train.shape[0]}\")\n",
    "print(f\"Missing Values in train dataset: {train.isna().sum().sum()}\")\n",
    "print(f\"Duplicate rows in train dataset: {train[train.duplicated(keep=False)].shape[0]}\")\n",
    "print()\n",
    "print(f\"Entries in test dataset: {test.shape[0]}\")\n",
    "print(f\"Missing Values in test dataset: {test.isna().sum().sum()}\")\n",
    "print(f\"Duplicate rows in test dataset: {test[test.duplicated(keep=False)].shape[0]}\")"
   ]
  },
  {
   "cell_type": "markdown",
   "metadata": {},
   "source": [
    "### Class Imbalance\n",
    "\n",
    "The distribution of Failure status is important because it speaks to class imbalance within machine learning and data mining applications. \n",
    "Class imbalance is a term used to describe when a target class within a data set is outnumbered by another target class (or classes). \n",
    "This can create misleading accuracy metrics, known as an accuracy paradox. To make sure our target classes aren't imbalanced, create a function that will output the distribution of the target classes."
   ]
  },
  {
   "cell_type": "code",
   "execution_count": 31,
   "metadata": {},
   "outputs": [
    {
     "name": "stdout",
     "output_type": "stream",
     "text": [
      "Train dataset: Failure Status\n",
      " no     17531\n",
      "yes     3100\n",
      "Name: Failure_status, dtype: int64\n"
     ]
    }
   ],
   "source": [
    "print(f\"Train dataset: Failure Status\\n {train.iloc[:, train.shape[1]-1].value_counts()}\")"
   ]
  },
  {
   "cell_type": "code",
   "execution_count": 32,
   "metadata": {},
   "outputs": [
    {
     "name": "stdout",
     "output_type": "stream",
     "text": [
      "Test dataset: Failure Status\n",
      " no     8810\n",
      "yes    4286\n",
      "Name: Failure_status, dtype: int64\n"
     ]
    }
   ],
   "source": [
    "print(f\"Test dataset: Failure Status\\n {test.iloc[:, test.shape[1]-1].value_counts()}\")"
   ]
  },
  {
   "cell_type": "markdown",
   "metadata": {},
   "source": [
    "As we can see, the data is imbalanced in both datasets, furthermore we can actually visualize this disparity below"
   ]
  },
  {
   "cell_type": "code",
   "execution_count": 33,
   "metadata": {},
   "outputs": [
    {
     "data": {
      "image/png": "[encoded data removed]",
      "text/plain": [
       "<Figure size 432x288 with 1 Axes>"
      ]
     },
     "metadata": {
      "needs_background": "light"
     },
     "output_type": "display_data"
    }
   ],
   "source": [
    "x = train['Failure_status'].map({'yes':0.9,'no':0})\n",
    "a=x\n",
    "plt.hist(a)\n",
    "\n",
    "x = test['Failure_status'].map({'yes':1,'no':0.1})\n",
    "a=x\n",
    "plt.hist(a)\n",
    "\n",
    "plt.title('Failure_status (Yes on the right, No on the left) - Orange: Test, Blue: Train')\n",
    "plt.show()"
   ]
  },
  {
   "cell_type": "markdown",
   "metadata": {},
   "source": [
    "# Pre Processing\n"
   ]
  },
  {
   "cell_type": "markdown",
   "metadata": {},
   "source": [
    "#### Feature Selection\n",
    "Some features which pose no value to our algorithm can be dropped"
   ]
  },
  {
   "cell_type": "code",
   "execution_count": 34,
   "metadata": {},
   "outputs": [
    {
     "name": "stdout",
     "output_type": "stream",
     "text": [
      "Features with no variance: ['setting3', 's1', 's5', 's10', 's16', 's18', 's19']\n"
     ]
    }
   ],
   "source": [
    "cols = list(train.select_dtypes(include=[float, int]).columns)\n",
    "train_max = train.select_dtypes(include=[float, int]).max()\n",
    "train_min = train.select_dtypes(include=[float, int]).min()\n",
    "variance = (train_max - train_min)\n",
    "\n",
    "dont_use_cols = [x for x in cols if variance[x] == 0]\n",
    "print(f\"Features with no variance: {dont_use_cols}\")\n",
    "cols.append(\"Failure_status\")\n",
    "#These features provide no useful value to the model, so they are dropped\n",
    "\n",
    "train = train[[x for x in cols if x not in dont_use_cols]]\n",
    "test = test[[x for x in cols if x not in dont_use_cols]]"
   ]
  },
  {
   "cell_type": "markdown",
   "metadata": {},
   "source": [
    "#### Normalization\n",
    "Values for each feature are really diverse and need to be normalized, below are all the values for the train dataset for all features excluding the ones with no variance"
   ]
  },
  {
   "cell_type": "code",
   "execution_count": 35,
   "metadata": {},
   "outputs": [
    {
     "data": {
      "image/png": "[encoded data removed]",
      "text/plain": [
       "<Figure size 1080x1080 with 18 Axes>"
      ]
     },
     "metadata": {
      "needs_background": "light"
     },
     "output_type": "display_data"
    }
   ],
   "source": [
    "#Joining both datasets to check values\n",
    "df = pd.concat([train, test])\n",
    "features_mean = train.select_dtypes(include=[float, int]).columns\n",
    "# Separating the data \n",
    "df_yes=df[df['Failure_status'] ==\"yes\"]\n",
    "df_no=df[df['Failure_status'] ==\"no\"]\n",
    "\n",
    "#Creating the window with all subplots.\n",
    "plt.rcParams.update({'font.size': 8})\n",
    "fig, axes = plt.subplots(nrows=6, ncols=3, figsize=(15,15))\n",
    "axes = axes.ravel()\n",
    "\n",
    "#Creating histograms with 50 bins\n",
    "for idx,ax in enumerate(axes):\n",
    "    if idx<len(features_mean):\n",
    "        ax.figure\n",
    "        ax.hist([df_yes[features_mean[idx]],df_no[features_mean[idx]]], bins = 50 ,alpha=0.5, stacked=True, label=['yes','no'],color=['r','g'])\n",
    "        ax.legend(loc='upper right')\n",
    "        ax.set_title(features_mean[idx])\n",
    "plt.tight_layout()\n",
    "plt.show()"
   ]
  },
  {
   "cell_type": "markdown",
   "metadata": {},
   "source": [
    "These values need to be normalized, we use the zscore"
   ]
  },
  {
   "cell_type": "code",
   "execution_count": 36,
   "metadata": {},
   "outputs": [
    {
     "name": "stderr",
     "output_type": "stream",
     "text": [
      "C:\\Users\\pedro\\AppData\\Local\\Temp/ipykernel_24540/4940999.py:1: SettingWithCopyWarning: \n",
      "A value is trying to be set on a copy of a slice from a DataFrame.\n",
      "Try using .loc[row_indexer,col_indexer] = value instead\n",
      "\n",
      "See the caveats in the documentation: https://pandas.pydata.org/pandas-docs/stable/user_guide/indexing.html#returning-a-view-versus-a-copy\n",
      "  train['Failure_status'] = train['Failure_status'].map({'yes':0,'no':1})\n"
     ]
    },
    {
     "data": {
      "text/html": [
       "<div>\n",
       "<style scoped>\n",
       "    .dataframe tbody tr th:only-of-type {\n",
       "        vertical-align: middle;\n",
       "    }\n",
       "\n",
       "    .dataframe tbody tr th {\n",
       "        vertical-align: top;\n",
       "    }\n",
       "\n",
       "    .dataframe thead th {\n",
       "        text-align: right;\n",
       "    }\n",
       "</style>\n",
       "<table border=\"1\" class=\"dataframe\">\n",
       "  <thead>\n",
       "    <tr style=\"text-align: right;\">\n",
       "      <th></th>\n",
       "      <th>setting1</th>\n",
       "      <th>setting2</th>\n",
       "      <th>s2</th>\n",
       "      <th>s3</th>\n",
       "      <th>s4</th>\n",
       "      <th>s6</th>\n",
       "      <th>s7</th>\n",
       "      <th>s8</th>\n",
       "      <th>s9</th>\n",
       "      <th>s11</th>\n",
       "      <th>s12</th>\n",
       "      <th>s13</th>\n",
       "      <th>s14</th>\n",
       "      <th>s15</th>\n",
       "      <th>s17</th>\n",
       "      <th>s20</th>\n",
       "      <th>s21</th>\n",
       "    </tr>\n",
       "  </thead>\n",
       "  <tbody>\n",
       "    <tr>\n",
       "      <th>0</th>\n",
       "      <td>-0.315980</td>\n",
       "      <td>-1.372953</td>\n",
       "      <td>-1.721725</td>\n",
       "      <td>-0.134255</td>\n",
       "      <td>-0.925936</td>\n",
       "      <td>0.141683</td>\n",
       "      <td>1.121141</td>\n",
       "      <td>-0.516338</td>\n",
       "      <td>-0.862813</td>\n",
       "      <td>-0.266467</td>\n",
       "      <td>0.334262</td>\n",
       "      <td>-1.058890</td>\n",
       "      <td>-0.269071</td>\n",
       "      <td>-0.603816</td>\n",
       "      <td>-0.781710</td>\n",
       "      <td>1.348493</td>\n",
       "      <td>1.194427</td>\n",
       "    </tr>\n",
       "    <tr>\n",
       "      <th>1</th>\n",
       "      <td>0.872722</td>\n",
       "      <td>-1.031720</td>\n",
       "      <td>-1.061780</td>\n",
       "      <td>0.211528</td>\n",
       "      <td>-0.643726</td>\n",
       "      <td>0.141683</td>\n",
       "      <td>0.431930</td>\n",
       "      <td>-0.798093</td>\n",
       "      <td>-0.958818</td>\n",
       "      <td>-0.191583</td>\n",
       "      <td>1.174899</td>\n",
       "      <td>-0.363646</td>\n",
       "      <td>-0.642845</td>\n",
       "      <td>-0.275852</td>\n",
       "      <td>-0.781710</td>\n",
       "      <td>1.016528</td>\n",
       "      <td>1.236922</td>\n",
       "    </tr>\n",
       "    <tr>\n",
       "      <th>2</th>\n",
       "      <td>-1.961874</td>\n",
       "      <td>1.015677</td>\n",
       "      <td>-0.661813</td>\n",
       "      <td>-0.413166</td>\n",
       "      <td>-0.525953</td>\n",
       "      <td>0.141683</td>\n",
       "      <td>1.008155</td>\n",
       "      <td>-0.234584</td>\n",
       "      <td>-0.557139</td>\n",
       "      <td>-1.015303</td>\n",
       "      <td>1.364721</td>\n",
       "      <td>-0.919841</td>\n",
       "      <td>-0.551629</td>\n",
       "      <td>-0.649144</td>\n",
       "      <td>-2.073094</td>\n",
       "      <td>0.739891</td>\n",
       "      <td>0.503423</td>\n",
       "    </tr>\n",
       "    <tr>\n",
       "      <th>3</th>\n",
       "      <td>0.324090</td>\n",
       "      <td>-0.008022</td>\n",
       "      <td>-0.661813</td>\n",
       "      <td>-1.261314</td>\n",
       "      <td>-0.784831</td>\n",
       "      <td>0.141683</td>\n",
       "      <td>1.222827</td>\n",
       "      <td>0.188048</td>\n",
       "      <td>-0.713826</td>\n",
       "      <td>-1.539489</td>\n",
       "      <td>1.961302</td>\n",
       "      <td>-0.224597</td>\n",
       "      <td>-0.520176</td>\n",
       "      <td>-1.971665</td>\n",
       "      <td>-0.781710</td>\n",
       "      <td>0.352598</td>\n",
       "      <td>0.777792</td>\n",
       "    </tr>\n",
       "    <tr>\n",
       "      <th>4</th>\n",
       "      <td>-0.864611</td>\n",
       "      <td>-0.690488</td>\n",
       "      <td>-0.621816</td>\n",
       "      <td>-1.251528</td>\n",
       "      <td>-0.301518</td>\n",
       "      <td>0.141683</td>\n",
       "      <td>0.714393</td>\n",
       "      <td>-0.516338</td>\n",
       "      <td>-0.457059</td>\n",
       "      <td>-0.977861</td>\n",
       "      <td>1.052871</td>\n",
       "      <td>-0.780793</td>\n",
       "      <td>-0.521748</td>\n",
       "      <td>-0.339845</td>\n",
       "      <td>-0.136018</td>\n",
       "      <td>0.463253</td>\n",
       "      <td>1.059552</td>\n",
       "    </tr>\n",
       "    <tr>\n",
       "      <th>...</th>\n",
       "      <td>...</td>\n",
       "      <td>...</td>\n",
       "      <td>...</td>\n",
       "      <td>...</td>\n",
       "      <td>...</td>\n",
       "      <td>...</td>\n",
       "      <td>...</td>\n",
       "      <td>...</td>\n",
       "      <td>...</td>\n",
       "      <td>...</td>\n",
       "      <td>...</td>\n",
       "      <td>...</td>\n",
       "      <td>...</td>\n",
       "      <td>...</td>\n",
       "      <td>...</td>\n",
       "      <td>...</td>\n",
       "      <td>...</td>\n",
       "    </tr>\n",
       "    <tr>\n",
       "      <th>20626</th>\n",
       "      <td>-0.178822</td>\n",
       "      <td>-1.031720</td>\n",
       "      <td>1.618000</td>\n",
       "      <td>1.216258</td>\n",
       "      <td>2.188375</td>\n",
       "      <td>0.141683</td>\n",
       "      <td>-2.189329</td>\n",
       "      <td>1.315066</td>\n",
       "      <td>0.012547</td>\n",
       "      <td>1.980044</td>\n",
       "      <td>-2.607969</td>\n",
       "      <td>2.278282</td>\n",
       "      <td>-0.322542</td>\n",
       "      <td>1.425294</td>\n",
       "      <td>2.446751</td>\n",
       "      <td>-1.805173</td>\n",
       "      <td>-2.921113</td>\n",
       "    </tr>\n",
       "    <tr>\n",
       "      <th>20627</th>\n",
       "      <td>-0.727453</td>\n",
       "      <td>-1.714186</td>\n",
       "      <td>1.717992</td>\n",
       "      <td>2.279706</td>\n",
       "      <td>2.738351</td>\n",
       "      <td>0.141683</td>\n",
       "      <td>-2.833345</td>\n",
       "      <td>1.878576</td>\n",
       "      <td>-0.006020</td>\n",
       "      <td>1.867718</td>\n",
       "      <td>-2.350355</td>\n",
       "      <td>1.722087</td>\n",
       "      <td>-0.380207</td>\n",
       "      <td>1.913240</td>\n",
       "      <td>1.155367</td>\n",
       "      <td>-2.856395</td>\n",
       "      <td>-1.203764</td>\n",
       "    </tr>\n",
       "    <tr>\n",
       "      <th>20628</th>\n",
       "      <td>0.186933</td>\n",
       "      <td>-0.008022</td>\n",
       "      <td>1.478011</td>\n",
       "      <td>1.946971</td>\n",
       "      <td>2.138377</td>\n",
       "      <td>0.141683</td>\n",
       "      <td>-2.742957</td>\n",
       "      <td>2.019453</td>\n",
       "      <td>0.029755</td>\n",
       "      <td>2.054927</td>\n",
       "      <td>-1.902919</td>\n",
       "      <td>2.000184</td>\n",
       "      <td>-0.141684</td>\n",
       "      <td>3.265092</td>\n",
       "      <td>3.092444</td>\n",
       "      <td>-2.081810</td>\n",
       "      <td>-3.292481</td>\n",
       "    </tr>\n",
       "    <tr>\n",
       "      <th>20629</th>\n",
       "      <td>-0.498857</td>\n",
       "      <td>1.015677</td>\n",
       "      <td>1.098043</td>\n",
       "      <td>2.403666</td>\n",
       "      <td>1.955051</td>\n",
       "      <td>0.141683</td>\n",
       "      <td>-3.036719</td>\n",
       "      <td>2.160330</td>\n",
       "      <td>0.383884</td>\n",
       "      <td>3.178182</td>\n",
       "      <td>-2.363913</td>\n",
       "      <td>1.861136</td>\n",
       "      <td>-0.233948</td>\n",
       "      <td>2.579834</td>\n",
       "      <td>1.155367</td>\n",
       "      <td>-2.911722</td>\n",
       "      <td>-2.085072</td>\n",
       "    </tr>\n",
       "    <tr>\n",
       "      <th>20630</th>\n",
       "      <td>-1.458962</td>\n",
       "      <td>-1.714186</td>\n",
       "      <td>2.337940</td>\n",
       "      <td>1.607712</td>\n",
       "      <td>2.578358</td>\n",
       "      <td>0.141683</td>\n",
       "      <td>-2.912435</td>\n",
       "      <td>2.301208</td>\n",
       "      <td>-0.170405</td>\n",
       "      <td>2.466787</td>\n",
       "      <td>-2.865584</td>\n",
       "      <td>2.278282</td>\n",
       "      <td>-0.336696</td>\n",
       "      <td>1.638604</td>\n",
       "      <td>1.801059</td>\n",
       "      <td>-2.469103</td>\n",
       "      <td>-2.194080</td>\n",
       "    </tr>\n",
       "  </tbody>\n",
       "</table>\n",
       "<p>20631 rows × 17 columns</p>\n",
       "</div>"
      ],
      "text/plain": [
       "       setting1  setting2        s2        s3        s4        s6        s7  \\\n",
       "0     -0.315980 -1.372953 -1.721725 -0.134255 -0.925936  0.141683  1.121141   \n",
       "1      0.872722 -1.031720 -1.061780  0.211528 -0.643726  0.141683  0.431930   \n",
       "2     -1.961874  1.015677 -0.661813 -0.413166 -0.525953  0.141683  1.008155   \n",
       "3      0.324090 -0.008022 -0.661813 -1.261314 -0.784831  0.141683  1.222827   \n",
       "4     -0.864611 -0.690488 -0.621816 -1.251528 -0.301518  0.141683  0.714393   \n",
       "...         ...       ...       ...       ...       ...       ...       ...   \n",
       "20626 -0.178822 -1.031720  1.618000  1.216258  2.188375  0.141683 -2.189329   \n",
       "20627 -0.727453 -1.714186  1.717992  2.279706  2.738351  0.141683 -2.833345   \n",
       "20628  0.186933 -0.008022  1.478011  1.946971  2.138377  0.141683 -2.742957   \n",
       "20629 -0.498857  1.015677  1.098043  2.403666  1.955051  0.141683 -3.036719   \n",
       "20630 -1.458962 -1.714186  2.337940  1.607712  2.578358  0.141683 -2.912435   \n",
       "\n",
       "             s8        s9       s11       s12       s13       s14       s15  \\\n",
       "0     -0.516338 -0.862813 -0.266467  0.334262 -1.058890 -0.269071 -0.603816   \n",
       "1     -0.798093 -0.958818 -0.191583  1.174899 -0.363646 -0.642845 -0.275852   \n",
       "2     -0.234584 -0.557139 -1.015303  1.364721 -0.919841 -0.551629 -0.649144   \n",
       "3      0.188048 -0.713826 -1.539489  1.961302 -0.224597 -0.520176 -1.971665   \n",
       "4     -0.516338 -0.457059 -0.977861  1.052871 -0.780793 -0.521748 -0.339845   \n",
       "...         ...       ...       ...       ...       ...       ...       ...   \n",
       "20626  1.315066  0.012547  1.980044 -2.607969  2.278282 -0.322542  1.425294   \n",
       "20627  1.878576 -0.006020  1.867718 -2.350355  1.722087 -0.380207  1.913240   \n",
       "20628  2.019453  0.029755  2.054927 -1.902919  2.000184 -0.141684  3.265092   \n",
       "20629  2.160330  0.383884  3.178182 -2.363913  1.861136 -0.233948  2.579834   \n",
       "20630  2.301208 -0.170405  2.466787 -2.865584  2.278282 -0.336696  1.638604   \n",
       "\n",
       "            s17       s20       s21  \n",
       "0     -0.781710  1.348493  1.194427  \n",
       "1     -0.781710  1.016528  1.236922  \n",
       "2     -2.073094  0.739891  0.503423  \n",
       "3     -0.781710  0.352598  0.777792  \n",
       "4     -0.136018  0.463253  1.059552  \n",
       "...         ...       ...       ...  \n",
       "20626  2.446751 -1.805173 -2.921113  \n",
       "20627  1.155367 -2.856395 -1.203764  \n",
       "20628  3.092444 -2.081810 -3.292481  \n",
       "20629  1.155367 -2.911722 -2.085072  \n",
       "20630  1.801059 -2.469103 -2.194080  \n",
       "\n",
       "[20631 rows x 17 columns]"
      ]
     },
     "execution_count": 36,
     "metadata": {},
     "output_type": "execute_result"
    }
   ],
   "source": [
    "train['Failure_status'] = train['Failure_status'].map({'yes':0,'no':1})\n",
    "X_train = train.iloc[:, :train.shape[1]-1]\n",
    "Y_train = train.iloc[:, train.shape[1]-1]\n",
    "X_train = X_train.apply(zscore)\n",
    "X_train"
   ]
  },
  {
   "cell_type": "code",
   "execution_count": 37,
   "metadata": {},
   "outputs": [
    {
     "name": "stderr",
     "output_type": "stream",
     "text": [
      "C:\\Users\\pedro\\AppData\\Local\\Temp/ipykernel_24540/1075452562.py:1: SettingWithCopyWarning: \n",
      "A value is trying to be set on a copy of a slice from a DataFrame.\n",
      "Try using .loc[row_indexer,col_indexer] = value instead\n",
      "\n",
      "See the caveats in the documentation: https://pandas.pydata.org/pandas-docs/stable/user_guide/indexing.html#returning-a-view-versus-a-copy\n",
      "  test['Failure_status'] = test['Failure_status'].map({'yes':0,'no':1})\n"
     ]
    },
    {
     "data": {
      "text/html": [
       "<div>\n",
       "<style scoped>\n",
       "    .dataframe tbody tr th:only-of-type {\n",
       "        vertical-align: middle;\n",
       "    }\n",
       "\n",
       "    .dataframe tbody tr th {\n",
       "        vertical-align: top;\n",
       "    }\n",
       "\n",
       "    .dataframe thead th {\n",
       "        text-align: right;\n",
       "    }\n",
       "</style>\n",
       "<table border=\"1\" class=\"dataframe\">\n",
       "  <thead>\n",
       "    <tr style=\"text-align: right;\">\n",
       "      <th></th>\n",
       "      <th>setting1</th>\n",
       "      <th>setting2</th>\n",
       "      <th>s2</th>\n",
       "      <th>s3</th>\n",
       "      <th>s4</th>\n",
       "      <th>s6</th>\n",
       "      <th>s7</th>\n",
       "      <th>s8</th>\n",
       "      <th>s9</th>\n",
       "      <th>s11</th>\n",
       "      <th>s12</th>\n",
       "      <th>s13</th>\n",
       "      <th>s14</th>\n",
       "      <th>s15</th>\n",
       "      <th>s17</th>\n",
       "      <th>s20</th>\n",
       "      <th>s21</th>\n",
       "    </tr>\n",
       "  </thead>\n",
       "  <tbody>\n",
       "    <tr>\n",
       "      <th>0</th>\n",
       "      <td>1.049295</td>\n",
       "      <td>1.005927</td>\n",
       "      <td>1.359276</td>\n",
       "      <td>-0.561495</td>\n",
       "      <td>-0.975674</td>\n",
       "      <td>0.17566</td>\n",
       "      <td>0.209138</td>\n",
       "      <td>-0.539078</td>\n",
       "      <td>-0.720312</td>\n",
       "      <td>-1.103591</td>\n",
       "      <td>-0.049542</td>\n",
       "      <td>-0.720590</td>\n",
       "      <td>-1.315031</td>\n",
       "      <td>-0.711659</td>\n",
       "      <td>-0.463406</td>\n",
       "      <td>-0.229408</td>\n",
       "      <td>0.448866</td>\n",
       "    </tr>\n",
       "    <tr>\n",
       "      <th>1</th>\n",
       "      <td>-1.220748</td>\n",
       "      <td>-1.034755</td>\n",
       "      <td>-1.908502</td>\n",
       "      <td>0.070116</td>\n",
       "      <td>-1.392836</td>\n",
       "      <td>0.17566</td>\n",
       "      <td>1.603612</td>\n",
       "      <td>-1.061366</td>\n",
       "      <td>-0.348673</td>\n",
       "      <td>0.427727</td>\n",
       "      <td>0.736727</td>\n",
       "      <td>-0.193647</td>\n",
       "      <td>0.065977</td>\n",
       "      <td>-1.570037</td>\n",
       "      <td>0.347276</td>\n",
       "      <td>0.899934</td>\n",
       "      <td>0.664042</td>\n",
       "    </tr>\n",
       "    <tr>\n",
       "      <th>2</th>\n",
       "      <td>0.141278</td>\n",
       "      <td>0.325700</td>\n",
       "      <td>-0.037636</td>\n",
       "      <td>-0.231698</td>\n",
       "      <td>-0.507676</td>\n",
       "      <td>0.17566</td>\n",
       "      <td>0.517390</td>\n",
       "      <td>-0.364982</td>\n",
       "      <td>-0.126564</td>\n",
       "      <td>0.427727</td>\n",
       "      <td>0.397202</td>\n",
       "      <td>-0.720590</td>\n",
       "      <td>-0.868436</td>\n",
       "      <td>0.629340</td>\n",
       "      <td>0.347276</td>\n",
       "      <td>1.323438</td>\n",
       "      <td>0.961247</td>\n",
       "    </tr>\n",
       "    <tr>\n",
       "      <th>3</th>\n",
       "      <td>1.911912</td>\n",
       "      <td>-0.014414</td>\n",
       "      <td>-0.087526</td>\n",
       "      <td>-0.795350</td>\n",
       "      <td>0.251888</td>\n",
       "      <td>0.17566</td>\n",
       "      <td>0.458675</td>\n",
       "      <td>-0.713174</td>\n",
       "      <td>-1.147041</td>\n",
       "      <td>-0.695239</td>\n",
       "      <td>-0.657113</td>\n",
       "      <td>-0.369295</td>\n",
       "      <td>-0.593609</td>\n",
       "      <td>-1.177045</td>\n",
       "      <td>-1.274088</td>\n",
       "      <td>0.758766</td>\n",
       "      <td>0.451244</td>\n",
       "    </tr>\n",
       "    <tr>\n",
       "      <th>4</th>\n",
       "      <td>0.640688</td>\n",
       "      <td>-0.014414</td>\n",
       "      <td>0.087088</td>\n",
       "      <td>-0.181729</td>\n",
       "      <td>-0.420954</td>\n",
       "      <td>0.17566</td>\n",
       "      <td>0.590783</td>\n",
       "      <td>-1.061366</td>\n",
       "      <td>-1.211750</td>\n",
       "      <td>-0.542108</td>\n",
       "      <td>0.718857</td>\n",
       "      <td>-0.720590</td>\n",
       "      <td>-0.923402</td>\n",
       "      <td>-0.784053</td>\n",
       "      <td>-2.084769</td>\n",
       "      <td>0.688182</td>\n",
       "      <td>0.918450</td>\n",
       "    </tr>\n",
       "    <tr>\n",
       "      <th>...</th>\n",
       "      <td>...</td>\n",
       "      <td>...</td>\n",
       "      <td>...</td>\n",
       "      <td>...</td>\n",
       "      <td>...</td>\n",
       "      <td>...</td>\n",
       "      <td>...</td>\n",
       "      <td>...</td>\n",
       "      <td>...</td>\n",
       "      <td>...</td>\n",
       "      <td>...</td>\n",
       "      <td>...</td>\n",
       "      <td>...</td>\n",
       "      <td>...</td>\n",
       "      <td>...</td>\n",
       "      <td>...</td>\n",
       "      <td>...</td>\n",
       "    </tr>\n",
       "    <tr>\n",
       "      <th>13091</th>\n",
       "      <td>2.229718</td>\n",
       "      <td>-0.014414</td>\n",
       "      <td>1.908063</td>\n",
       "      <td>2.268760</td>\n",
       "      <td>1.652893</td>\n",
       "      <td>0.17566</td>\n",
       "      <td>-0.510118</td>\n",
       "      <td>-0.887270</td>\n",
       "      <td>7.342072</td>\n",
       "      <td>1.397561</td>\n",
       "      <td>-1.890124</td>\n",
       "      <td>-1.247533</td>\n",
       "      <td>7.295898</td>\n",
       "      <td>1.573900</td>\n",
       "      <td>1.157958</td>\n",
       "      <td>-1.711671</td>\n",
       "      <td>-1.644645</td>\n",
       "    </tr>\n",
       "    <tr>\n",
       "      <th>13092</th>\n",
       "      <td>-0.494334</td>\n",
       "      <td>-0.354527</td>\n",
       "      <td>1.858174</td>\n",
       "      <td>1.517224</td>\n",
       "      <td>2.588890</td>\n",
       "      <td>0.17566</td>\n",
       "      <td>-0.789013</td>\n",
       "      <td>-0.364982</td>\n",
       "      <td>7.194290</td>\n",
       "      <td>0.938166</td>\n",
       "      <td>-1.246814</td>\n",
       "      <td>0.333296</td>\n",
       "      <td>7.057387</td>\n",
       "      <td>0.874098</td>\n",
       "      <td>1.968639</td>\n",
       "      <td>-2.276342</td>\n",
       "      <td>-0.697156</td>\n",
       "    </tr>\n",
       "    <tr>\n",
       "      <th>13093</th>\n",
       "      <td>-0.267330</td>\n",
       "      <td>-1.034755</td>\n",
       "      <td>2.406961</td>\n",
       "      <td>1.009537</td>\n",
       "      <td>0.311696</td>\n",
       "      <td>0.17566</td>\n",
       "      <td>-1.053229</td>\n",
       "      <td>0.679594</td>\n",
       "      <td>7.730325</td>\n",
       "      <td>0.785034</td>\n",
       "      <td>-1.014507</td>\n",
       "      <td>-0.544942</td>\n",
       "      <td>7.684582</td>\n",
       "      <td>1.070594</td>\n",
       "      <td>1.968639</td>\n",
       "      <td>-1.923422</td>\n",
       "      <td>-1.553106</td>\n",
       "    </tr>\n",
       "    <tr>\n",
       "      <th>13094</th>\n",
       "      <td>-1.720158</td>\n",
       "      <td>0.325700</td>\n",
       "      <td>1.957953</td>\n",
       "      <td>1.377310</td>\n",
       "      <td>2.186681</td>\n",
       "      <td>0.17566</td>\n",
       "      <td>-0.568833</td>\n",
       "      <td>-0.016790</td>\n",
       "      <td>7.908712</td>\n",
       "      <td>0.989210</td>\n",
       "      <td>-0.746461</td>\n",
       "      <td>0.157648</td>\n",
       "      <td>8.002597</td>\n",
       "      <td>1.560111</td>\n",
       "      <td>1.968639</td>\n",
       "      <td>-1.641087</td>\n",
       "      <td>-0.782751</td>\n",
       "    </tr>\n",
       "    <tr>\n",
       "      <th>13095</th>\n",
       "      <td>0.595287</td>\n",
       "      <td>1.005927</td>\n",
       "      <td>1.184662</td>\n",
       "      <td>2.702493</td>\n",
       "      <td>3.028480</td>\n",
       "      <td>0.17566</td>\n",
       "      <td>-1.875235</td>\n",
       "      <td>-0.190886</td>\n",
       "      <td>8.449119</td>\n",
       "      <td>1.959044</td>\n",
       "      <td>-1.211074</td>\n",
       "      <td>-0.369295</td>\n",
       "      <td>7.429385</td>\n",
       "      <td>2.221992</td>\n",
       "      <td>2.779321</td>\n",
       "      <td>-1.358751</td>\n",
       "      <td>-1.786114</td>\n",
       "    </tr>\n",
       "  </tbody>\n",
       "</table>\n",
       "<p>13096 rows × 17 columns</p>\n",
       "</div>"
      ],
      "text/plain": [
       "       setting1  setting2        s2        s3        s4       s6        s7  \\\n",
       "0      1.049295  1.005927  1.359276 -0.561495 -0.975674  0.17566  0.209138   \n",
       "1     -1.220748 -1.034755 -1.908502  0.070116 -1.392836  0.17566  1.603612   \n",
       "2      0.141278  0.325700 -0.037636 -0.231698 -0.507676  0.17566  0.517390   \n",
       "3      1.911912 -0.014414 -0.087526 -0.795350  0.251888  0.17566  0.458675   \n",
       "4      0.640688 -0.014414  0.087088 -0.181729 -0.420954  0.17566  0.590783   \n",
       "...         ...       ...       ...       ...       ...      ...       ...   \n",
       "13091  2.229718 -0.014414  1.908063  2.268760  1.652893  0.17566 -0.510118   \n",
       "13092 -0.494334 -0.354527  1.858174  1.517224  2.588890  0.17566 -0.789013   \n",
       "13093 -0.267330 -1.034755  2.406961  1.009537  0.311696  0.17566 -1.053229   \n",
       "13094 -1.720158  0.325700  1.957953  1.377310  2.186681  0.17566 -0.568833   \n",
       "13095  0.595287  1.005927  1.184662  2.702493  3.028480  0.17566 -1.875235   \n",
       "\n",
       "             s8        s9       s11       s12       s13       s14       s15  \\\n",
       "0     -0.539078 -0.720312 -1.103591 -0.049542 -0.720590 -1.315031 -0.711659   \n",
       "1     -1.061366 -0.348673  0.427727  0.736727 -0.193647  0.065977 -1.570037   \n",
       "2     -0.364982 -0.126564  0.427727  0.397202 -0.720590 -0.868436  0.629340   \n",
       "3     -0.713174 -1.147041 -0.695239 -0.657113 -0.369295 -0.593609 -1.177045   \n",
       "4     -1.061366 -1.211750 -0.542108  0.718857 -0.720590 -0.923402 -0.784053   \n",
       "...         ...       ...       ...       ...       ...       ...       ...   \n",
       "13091 -0.887270  7.342072  1.397561 -1.890124 -1.247533  7.295898  1.573900   \n",
       "13092 -0.364982  7.194290  0.938166 -1.246814  0.333296  7.057387  0.874098   \n",
       "13093  0.679594  7.730325  0.785034 -1.014507 -0.544942  7.684582  1.070594   \n",
       "13094 -0.016790  7.908712  0.989210 -0.746461  0.157648  8.002597  1.560111   \n",
       "13095 -0.190886  8.449119  1.959044 -1.211074 -0.369295  7.429385  2.221992   \n",
       "\n",
       "            s17       s20       s21  \n",
       "0     -0.463406 -0.229408  0.448866  \n",
       "1      0.347276  0.899934  0.664042  \n",
       "2      0.347276  1.323438  0.961247  \n",
       "3     -1.274088  0.758766  0.451244  \n",
       "4     -2.084769  0.688182  0.918450  \n",
       "...         ...       ...       ...  \n",
       "13091  1.157958 -1.711671 -1.644645  \n",
       "13092  1.968639 -2.276342 -0.697156  \n",
       "13093  1.968639 -1.923422 -1.553106  \n",
       "13094  1.968639 -1.641087 -0.782751  \n",
       "13095  2.779321 -1.358751 -1.786114  \n",
       "\n",
       "[13096 rows x 17 columns]"
      ]
     },
     "execution_count": 37,
     "metadata": {},
     "output_type": "execute_result"
    }
   ],
   "source": [
    "test['Failure_status'] = test['Failure_status'].map({'yes':0,'no':1})\n",
    "X_test = test.iloc[:, :test.shape[1]-1]\n",
    "Y_test = test.iloc[:, test.shape[1]-1]\n",
    "X_test = X_test.apply(zscore)\n",
    "X_test"
   ]
  },
  {
   "cell_type": "code",
   "execution_count": 38,
   "metadata": {},
   "outputs": [
    {
     "data": {
      "image/png": "[encoded data removed]",
      "text/plain": [
       "<Figure size 1080x1080 with 18 Axes>"
      ]
     },
     "metadata": {
      "needs_background": "light"
     },
     "output_type": "display_data"
    }
   ],
   "source": [
    "#Joining all datasets to check values\n",
    "train = X_train.assign(Failure_status = Y_train)\n",
    "test =  X_test.assign(Failure_status = Y_test)\n",
    "\n",
    "\n",
    "df = pd.concat([train, test])\n",
    "features_mean = train.select_dtypes(include=[float, int]).columns\n",
    "\n",
    "# Separating the data \n",
    "df_yes=df[df['Failure_status'] ==0]\n",
    "df_no=df[df['Failure_status'] ==1]\n",
    "\n",
    "#Creating the window with all subplots.\n",
    "plt.rcParams.update({'font.size': 8})\n",
    "fig, axes = plt.subplots(nrows=6, ncols=3, figsize=(15,15))\n",
    "axes = axes.ravel()\n",
    "#Creating histograms with 50 bins\n",
    "for idx,ax in enumerate(axes):\n",
    "    if idx<len(features_mean):\n",
    "        ax.figure\n",
    "        ax.hist([df_yes[features_mean[idx]],df_no[features_mean[idx]]], bins = 50 ,alpha=0.5, stacked=True, label=['yes','no'],color=['r','g'])\n",
    "        ax.legend(loc='upper right')\n",
    "        ax.set_title(features_mean[idx])\n",
    "plt.tight_layout()\n",
    "plt.show()"
   ]
  },
  {
   "cell_type": "code",
   "execution_count": 39,
   "metadata": {},
   "outputs": [
    {
     "name": "stdout",
     "output_type": "stream",
     "text": [
      "Rank  \t index\t\t f-score\n",
      "1º:\t s11 \t\t 16413.344931794323\n",
      "2º:\t s4 \t\t 14964.686354057616\n",
      "3º:\t s12 \t\t 14324.885300407988\n",
      "4º:\t s7 \t\t 13264.886445366923\n",
      "5º:\t s15 \t\t 12796.099149251877\n",
      "6º:\t s21 \t\t 12002.451854235123\n",
      "7º:\t s20 \t\t 11598.50290567591\n",
      "8º:\t s17 \t\t 10625.4812932513\n",
      "9º:\t s2 \t\t 10534.07366461374\n",
      "10º:\t s3 \t\t 9518.132134893809\n",
      "11º:\t s8 \t\t 8621.67732851546\n",
      "12º:\t s13 \t\t 8487.760633440743\n",
      "13º:\t s9 \t\t 4406.586921226174\n",
      "14º:\t s14 \t\t 2715.5251717918345\n",
      "15º:\t s6 \t\t 73.48776580633044\n",
      "16º:\t setting1 \t\t 2.2743512391580456\n",
      "17º:\t setting2 \t\t 1.8237836413422406\n"
     ]
    }
   ],
   "source": [
    "k_bestfeatures = SelectKBest(score_func = f_classif)\n",
    "rankings = k_bestfeatures.fit(X_train,Y_train)\n",
    "features_names = reversed(rankings.feature_names_in_)\n",
    "b=list(rankings.scores_)\n",
    "\n",
    "a=list(range(0,len(b)))\n",
    "\n",
    "sf = [g for _,g in sorted(zip(b,a))]\n",
    "c=1\n",
    "sf=reversed(sf)\n",
    "print('Rank  \\t','index\\t\\t f-score')\n",
    "inx=[]\n",
    "for chosen in sf:\n",
    "    print(str(c)+'º:\\t', rankings.feature_names_in_[chosen],'\\t\\t', b[chosen])\n",
    "    c+=1\n",
    "\n"
   ]
  },
  {
   "cell_type": "markdown",
   "metadata": {},
   "source": [
    "#### PCA\n",
    "PCA will be used for dimension reduction, which in turn will speed up the algorithms.\n",
    "We're reducing the dataset into 2 dimensions.\n",
    "\n",
    "The new components are just the two main dimensions of variation."
   ]
  },
  {
   "cell_type": "code",
   "execution_count": 40,
   "metadata": {},
   "outputs": [],
   "source": [
    "X_train = train.iloc[:, :train.shape[1]-1]\n",
    "Y_train = train.iloc[:, train.shape[1]-1]\n",
    "X_test = test.iloc[:, :test.shape[1]-1]\n",
    "Y_test = test.iloc[:, test.shape[1]-1]\n"
   ]
  },
  {
   "cell_type": "code",
   "execution_count": 41,
   "metadata": {},
   "outputs": [],
   "source": [
    "pca = PCA(n_components=2)\n",
    "X_train = (pca.fit_transform(X_train))\n",
    "X_test = (pca.fit_transform(X_test))"
   ]
  },
  {
   "cell_type": "code",
   "execution_count": 42,
   "metadata": {},
   "outputs": [
    {
     "data": {
      "text/plain": [
       "array([[-2.95277931, -0.43217319],\n",
       "       [-2.36366953, -0.78691817],\n",
       "       [-2.97866495, -0.55247178],\n",
       "       ...,\n",
       "       [ 8.00015663, -0.72526055],\n",
       "       [ 7.74525374, -0.78217566],\n",
       "       [ 7.84481436, -1.32236054]])"
      ]
     },
     "execution_count": 42,
     "metadata": {},
     "output_type": "execute_result"
    }
   ],
   "source": [
    "X_train"
   ]
  },
  {
   "cell_type": "code",
   "execution_count": 43,
   "metadata": {},
   "outputs": [
    {
     "data": {
      "text/plain": [
       "array([[-1.09446568, -1.35010073],\n",
       "       [-2.62313449, -0.44108131],\n",
       "       [-0.9650946 , -0.61428908],\n",
       "       ...,\n",
       "       [ 2.72339134, 11.16810159],\n",
       "       [ 2.89116015, 11.65039313],\n",
       "       [ 4.50163913, 12.18354105]])"
      ]
     },
     "execution_count": 43,
     "metadata": {},
     "output_type": "execute_result"
    }
   ],
   "source": [
    "X_test"
   ]
  },
  {
   "cell_type": "code",
   "execution_count": 44,
   "metadata": {},
   "outputs": [
    {
     "data": {
      "image/png": "[encoded data removed]",
      "text/plain": [
       "<Figure size 576x576 with 1 Axes>"
      ]
     },
     "metadata": {
      "needs_background": "light"
     },
     "output_type": "display_data"
    }
   ],
   "source": [
    "X_train_pca = pd.DataFrame(data = X_train\n",
    "             , columns = ['PC1', 'PC2']) \n",
    "finalDf = pd.concat([X_train_pca, Y_train.map({0:\"yes\",1:\"no\"})], axis = 1)\n",
    "\n",
    "fig = plt.figure(figsize = (8,8))\n",
    "ax = fig.add_subplot(1,1,1) \n",
    "ax.set_xlabel('PC1', fontsize = 15)\n",
    "ax.set_ylabel('PC2', fontsize = 15)\n",
    "ax.set_title('2 component PCA', fontsize = 20)\n",
    "targets = [\"yes\", \"no\"]\n",
    "colors = ['r', 'g']\n",
    "for target, color in zip(targets,colors):\n",
    "    indicesToKeep = finalDf['Failure_status'] == target\n",
    "    ax.scatter(finalDf.loc[indicesToKeep, 'PC1']\n",
    "               , finalDf.loc[indicesToKeep, 'PC2']\n",
    "               , c = color\n",
    "               , s = 50)\n",
    "ax.legend(targets)\n",
    "ax.grid()"
   ]
  },
  {
   "cell_type": "code",
   "execution_count": 45,
   "metadata": {},
   "outputs": [
    {
     "data": {
      "image/png": "[encoded data removed]",
      "text/plain": [
       "<Figure size 576x576 with 1 Axes>"
      ]
     },
     "metadata": {
      "needs_background": "light"
     },
     "output_type": "display_data"
    }
   ],
   "source": [
    "X_test_pca = pd.DataFrame(data = X_test\n",
    "             , columns = ['PC1', 'PC2']) \n",
    "\n",
    "finalDf = pd.concat([X_test_pca, Y_test.map({0:\"yes\",1:\"no\"})], axis = 1)\n",
    "\n",
    "fig = plt.figure(figsize = (8,8))\n",
    "ax = fig.add_subplot(1,1,1) \n",
    "ax.set_xlabel('PC1', fontsize = 15)\n",
    "ax.set_ylabel('PC2', fontsize = 15)\n",
    "ax.set_title('2 component PCA', fontsize = 20)\n",
    "targets = ['yes', 'no']\n",
    "colors = ['r', 'g']\n",
    "for target, color in zip(targets,colors):\n",
    "    indicesToKeep = finalDf['Failure_status'] == target\n",
    "    ax.scatter(finalDf.loc[indicesToKeep, 'PC1']\n",
    "               , finalDf.loc[indicesToKeep, 'PC2']\n",
    "               , c = color\n",
    "               , s = 50)\n",
    "ax.legend(targets)\n",
    "ax.grid()"
   ]
  },
  {
   "cell_type": "markdown",
   "metadata": {},
   "source": [
    "## Dealing With Imbalanced Data\n",
    "As we can see, the data is extremely imbalanced, where the 'yes' class only accounts for 15% of all entries of the train dataset"
   ]
  },
  {
   "cell_type": "code",
   "execution_count": 46,
   "metadata": {},
   "outputs": [],
   "source": [
    "df = pd.concat([X_train_pca.assign(Failure_status=Y_train), X_test_pca.assign(Failure_status=Y_test)])\n",
    "X = df.iloc[:, :df.shape[1]-1]\n",
    "y = df.iloc[:, df.shape[1]-1]"
   ]
  },
  {
   "cell_type": "markdown",
   "metadata": {},
   "source": [
    "### Undersampling"
   ]
  },
  {
   "cell_type": "code",
   "execution_count": 47,
   "metadata": {},
   "outputs": [
    {
     "name": "stdout",
     "output_type": "stream",
     "text": [
      "0    3100\n",
      "1    3100\n",
      "Name: Failure_status, dtype: int64\n"
     ]
    }
   ],
   "source": [
    "rus = RandomUnderSampler(random_state=42, replacement=True) \n",
    "X_train_u, Y_train_u = rus.fit_resample(X_train_pca, Y_train)\n",
    "print(Y_train_u.value_counts())"
   ]
  },
  {
   "cell_type": "code",
   "execution_count": 49,
   "metadata": {},
   "outputs": [
    {
     "name": "stdout",
     "output_type": "stream",
     "text": [
      "0    7386\n",
      "1    7386\n",
      "Name: Failure_status, dtype: int64\n"
     ]
    }
   ],
   "source": [
    "#Undersampling the entire dataset\n",
    "X_df_u, y_df_u = RandomUnderSampler(random_state=42, replacement=True).fit_resample(X,y)\n",
    "print(y_df_u.value_counts())"
   ]
  },
  {
   "cell_type": "markdown",
   "metadata": {},
   "source": [
    "### SMOTE - Oversampling"
   ]
  },
  {
   "cell_type": "code",
   "execution_count": 65,
   "metadata": {},
   "outputs": [
    {
     "name": "stdout",
     "output_type": "stream",
     "text": [
      "1    17531\n",
      "0    17531\n",
      "Name: Failure_status, dtype: int64\n"
     ]
    }
   ],
   "source": [
    "X_train_o, Y_train_o = SMOTE().fit_resample(X_train_pca, Y_train)\n",
    "print(Y_train_o.value_counts())"
   ]
  },
  {
   "cell_type": "code",
   "execution_count": 51,
   "metadata": {},
   "outputs": [
    {
     "name": "stdout",
     "output_type": "stream",
     "text": [
      "1    26341\n",
      "0    26341\n",
      "Name: Failure_status, dtype: int64\n"
     ]
    }
   ],
   "source": [
    "#Oversampling the entire dataset\n",
    "X_df_o, y_df_o = SMOTE(sampling_strategy=\"minority\").fit_resample(X,y)\n",
    "print(y_df_o.value_counts())"
   ]
  },
  {
   "cell_type": "markdown",
   "metadata": {},
   "source": [
    "## SMOTE + TomekLinks\n"
   ]
  },
  {
   "cell_type": "code",
   "execution_count": 73,
   "metadata": {},
   "outputs": [
    {
     "name": "stdout",
     "output_type": "stream",
     "text": [
      "1    17159\n",
      "0    17159\n",
      "Name: Failure_status, dtype: int64\n"
     ]
    }
   ],
   "source": [
    "tl = SMOTETomek(random_state=139)\n",
    "X_tl, y_tl = tl.fit_resample(X_train_pca, Y_train)\n",
    "print(y_tl.value_counts())"
   ]
  },
  {
   "cell_type": "markdown",
   "metadata": {},
   "source": [
    "## ADASYN\n"
   ]
  },
  {
   "cell_type": "code",
   "execution_count": 76,
   "metadata": {},
   "outputs": [
    {
     "name": "stdout",
     "output_type": "stream",
     "text": [
      "1    17531\n",
      "0    17386\n",
      "Name: Failure_status, dtype: int64\n"
     ]
    }
   ],
   "source": [
    "ada = ADASYN(random_state=130)\n",
    "X_ada, y_ada = ada.fit_resample(X_train_pca, Y_train)\n",
    "print(y_ada.value_counts())"
   ]
  },
  {
   "cell_type": "markdown",
   "metadata": {},
   "source": [
    "# SMOTE + Unsersampler"
   ]
  },
  {
   "cell_type": "code",
   "execution_count": 163,
   "metadata": {},
   "outputs": [
    {
     "name": "stdout",
     "output_type": "stream",
     "text": [
      "SMOTE oversampling rate:0.3, Random undersampling rate:0.7 , Mean ROC AUC: 0.982\n",
      "SMOTE oversampling rate:0.3, Random undersampling rate:0.6 , Mean ROC AUC: 0.983\n",
      "SMOTE oversampling rate:0.3, Random undersampling rate:0.5 , Mean ROC AUC: 0.982\n",
      "SMOTE oversampling rate:0.4, Random undersampling rate:0.7 , Mean ROC AUC: 0.982\n",
      "SMOTE oversampling rate:0.4, Random undersampling rate:0.6 , Mean ROC AUC: 0.982\n",
      "SMOTE oversampling rate:0.4, Random undersampling rate:0.5 , Mean ROC AUC: 0.981\n",
      "SMOTE oversampling rate:0.5, Random undersampling rate:0.7 , Mean ROC AUC: 0.981\n",
      "SMOTE oversampling rate:0.5, Random undersampling rate:0.6 , Mean ROC AUC: 0.981\n",
      "SMOTE oversampling rate:0.5, Random undersampling rate:0.5 , Mean ROC AUC: 0.981\n"
     ]
    }
   ],
   "source": [
    "# values to evaluate\n",
    "over_values = [0.3,0.4,0.5]\n",
    "under_values = [0.7,0.6,0.5]\n",
    "for o in over_values:\n",
    "  for u in under_values:\n",
    "    # define pipeline\n",
    "    model = SVC()\n",
    "    over = SMOTE(sampling_strategy=o)\n",
    "    under = RandomUnderSampler(sampling_strategy=u)\n",
    "    steps = [('over', over), ('under', under), ('model', model)]\n",
    "    pipeline = Pipeline(steps=steps)\n",
    "    # evaluate pipeline\n",
    "    scores = cross_val_score(pipeline, X_train_pca, Y_train, scoring='roc_auc', cv=5, n_jobs=-1)\n",
    "    score = mean(scores)\n",
    "    print('SMOTE oversampling rate:%.1f, Random undersampling rate:%.1f , Mean ROC AUC: %.3f' % (o, u, score))\n"
   ]
  },
  {
   "cell_type": "markdown",
   "metadata": {},
   "source": [
    "As can be seen, Oversampling rate of 0.3 and undersampling rate of 0.6 provide the best result"
   ]
  },
  {
   "cell_type": "code",
   "execution_count": 80,
   "metadata": {},
   "outputs": [],
   "source": [
    "over = SMOTE(sampling_strategy=0.3)\n",
    "under = RandomUnderSampler(sampling_strategy=0.6)\n",
    "steps = [('over', over), ('under', under)]\n",
    "pipeline = Pipeline(steps=steps)\n",
    "X_hybrid, y_hybrid = pipeline.fit_resample(X_train_pca, Y_train)"
   ]
  },
  {
   "cell_type": "markdown",
   "metadata": {},
   "source": [
    "# Classifiers"
   ]
  },
  {
   "cell_type": "markdown",
   "metadata": {},
   "source": [
    "## SVC"
   ]
  },
  {
   "cell_type": "code",
   "execution_count": 54,
   "metadata": {},
   "outputs": [],
   "source": [
    "#Defining the Grid Search Cross Validation\n",
    "param_grid = {'C': [0.1], \n",
    "              'gamma': [0.1],\n",
    "              'kernel': ['rbf']}\n",
    "\n",
    "grid = GridSearchCV(SVC(), param_grid, refit=True, verbose=3, cv=5)"
   ]
  },
  {
   "cell_type": "markdown",
   "metadata": {},
   "source": [
    "### Original Data"
   ]
  },
  {
   "cell_type": "code",
   "execution_count": 140,
   "metadata": {},
   "outputs": [
    {
     "name": "stdout",
     "output_type": "stream",
     "text": [
      "Fitting 5 folds for each of 1 candidates, totalling 5 fits\n",
      "[CV 1/5] END ......C=0.1, gamma=0.1, kernel=rbf;, score=0.970 total time=   2.7s\n",
      "[CV 2/5] END ......C=0.1, gamma=0.1, kernel=rbf;, score=0.962 total time=   2.4s\n",
      "[CV 3/5] END ......C=0.1, gamma=0.1, kernel=rbf;, score=0.963 total time=   2.5s\n",
      "[CV 4/5] END ......C=0.1, gamma=0.1, kernel=rbf;, score=0.951 total time=   2.1s\n",
      "[CV 5/5] END ......C=0.1, gamma=0.1, kernel=rbf;, score=0.960 total time=   2.6s\n"
     ]
    },
    {
     "data": {
      "text/plain": [
       "SVC(C=0.1, gamma=0.1)"
      ]
     },
     "execution_count": 140,
     "metadata": {},
     "output_type": "execute_result"
    }
   ],
   "source": [
    "# fitting the model for grid search\n",
    "grid = GridSearchCV(SVC(), param_grid, refit=True, verbose=3, cv=5)\n",
    "grid.fit(X_train_pca, Y_train)\n",
    "best_estimator = grid.best_estimator_\n",
    "best_estimator"
   ]
  },
  {
   "cell_type": "code",
   "execution_count": 170,
   "metadata": {
    "scrolled": false
   },
   "outputs": [
    {
     "data": {
      "image/png": "[encoded data removed]",
      "text/plain": [
       "<Figure size 432x288 with 2 Axes>"
      ]
     },
     "metadata": {
      "needs_background": "light"
     },
     "output_type": "display_data"
    },
    {
     "name": "stdout",
     "output_type": "stream",
     "text": [
      "[Yes, No]> F1 Score:[0.30525929 0.8179628 ]\n"
     ]
    }
   ],
   "source": [
    "pred_labels = best_estimator.predict(X_test_pca)\n",
    "cm = confusion_matrix(Y_test, pred_labels)\n",
    "disp = ConfusionMatrixDisplay(confusion_matrix=cm, display_labels=[\"yes\",\"no\"])\n",
    "disp.plot()\n",
    "plt.show()\n",
    "print(f\"[Yes, No]> F1 Score:{f1_score(Y_test,pred_labels, average = None)}\")"
   ]
  },
  {
   "cell_type": "markdown",
   "metadata": {},
   "source": [
    "### Undersampled Data"
   ]
  },
  {
   "cell_type": "code",
   "execution_count": 142,
   "metadata": {},
   "outputs": [
    {
     "name": "stdout",
     "output_type": "stream",
     "text": [
      "Fitting 5 folds for each of 1 candidates, totalling 5 fits\n",
      "[CV 1/5] END ......C=0.1, gamma=0.1, kernel=rbf;, score=0.956 total time=   0.2s\n",
      "[CV 2/5] END ......C=0.1, gamma=0.1, kernel=rbf;, score=0.935 total time=   0.2s\n",
      "[CV 3/5] END ......C=0.1, gamma=0.1, kernel=rbf;, score=0.944 total time=   0.2s\n",
      "[CV 4/5] END ......C=0.1, gamma=0.1, kernel=rbf;, score=0.933 total time=   0.2s\n",
      "[CV 5/5] END ......C=0.1, gamma=0.1, kernel=rbf;, score=0.931 total time=   0.2s\n"
     ]
    },
    {
     "data": {
      "text/plain": [
       "SVC(C=0.1, gamma=0.1)"
      ]
     },
     "execution_count": 142,
     "metadata": {},
     "output_type": "execute_result"
    }
   ],
   "source": [
    "# fitting the model for grid search\n",
    "grid = GridSearchCV(SVC(), param_grid, refit=True, verbose=3, cv=5)\n",
    "grid.fit(X_train_u, Y_train_u)\n",
    "best_estimator_us = grid.best_estimator_\n",
    "best_estimator_us"
   ]
  },
  {
   "cell_type": "code",
   "execution_count": 172,
   "metadata": {
    "scrolled": false
   },
   "outputs": [
    {
     "data": {
      "image/png": "[encoded data removed]",
      "text/plain": [
       "<Figure size 432x288 with 2 Axes>"
      ]
     },
     "metadata": {
      "needs_background": "light"
     },
     "output_type": "display_data"
    },
    {
     "name": "stdout",
     "output_type": "stream",
     "text": [
      "[Yes, No]> F1 Score:[0.38620485 0.78787567]\n"
     ]
    }
   ],
   "source": [
    "pred_labels = best_estimator_us.predict(X_test_pca)\n",
    "cm = confusion_matrix(Y_test, pred_labels)\n",
    "disp = ConfusionMatrixDisplay(confusion_matrix=cm, display_labels=[\"yes\",\"no\"])\n",
    "disp.plot()\n",
    "plt.show()\n",
    "print(f\"[Yes, No]> F1 Score:{f1_score(Y_test,pred_labels, average = None)}\")"
   ]
  },
  {
   "cell_type": "markdown",
   "metadata": {},
   "source": [
    "### Oversampled Data"
   ]
  },
  {
   "cell_type": "code",
   "execution_count": 66,
   "metadata": {},
   "outputs": [
    {
     "name": "stdout",
     "output_type": "stream",
     "text": [
      "Fitting 5 folds for each of 1 candidates, totalling 5 fits\n",
      "[CV 1/5] END ......C=0.1, gamma=0.1, kernel=rbf;, score=0.949 total time=  10.4s\n",
      "[CV 2/5] END ......C=0.1, gamma=0.1, kernel=rbf;, score=0.942 total time=   9.8s\n",
      "[CV 3/5] END ......C=0.1, gamma=0.1, kernel=rbf;, score=0.954 total time=  10.6s\n",
      "[CV 4/5] END ......C=0.1, gamma=0.1, kernel=rbf;, score=0.933 total time=   9.5s\n",
      "[CV 5/5] END ......C=0.1, gamma=0.1, kernel=rbf;, score=0.948 total time=   9.5s\n"
     ]
    },
    {
     "data": {
      "text/plain": [
       "SVC(C=0.1, gamma=0.1)"
      ]
     },
     "execution_count": 66,
     "metadata": {},
     "output_type": "execute_result"
    }
   ],
   "source": [
    "# fitting the model for grid search\n",
    "grid = GridSearchCV(SVC(), param_grid, refit=True, verbose=3, cv=5)\n",
    "grid.fit(X_train_o, Y_train_o)\n",
    "best_estimator_os = grid.best_estimator_\n",
    "best_estimator_os"
   ]
  },
  {
   "cell_type": "code",
   "execution_count": 67,
   "metadata": {
    "scrolled": true
   },
   "outputs": [
    {
     "data": {
      "image/png": "[encoded data removed]",
      "text/plain": [
       "<Figure size 432x288 with 2 Axes>"
      ]
     },
     "metadata": {
      "needs_background": "light"
     },
     "output_type": "display_data"
    },
    {
     "name": "stdout",
     "output_type": "stream",
     "text": [
      "[Yes, No]> F1 Score:[0.38920496 0.7834721 ]\n"
     ]
    }
   ],
   "source": [
    "pred_labels = best_estimator_os.predict(X_test_pca)\n",
    "cm = confusion_matrix(Y_test, pred_labels)\n",
    "disp = ConfusionMatrixDisplay(confusion_matrix=cm, display_labels=[\"yes\",\"no\"])\n",
    "disp.plot()\n",
    "plt.show()\n",
    "print(f\"[Yes, No]> F1 Score:{f1_score(Y_test,pred_labels, average = None)}\")"
   ]
  },
  {
   "cell_type": "markdown",
   "metadata": {},
   "source": [
    "### SMOTE + Tomek Links"
   ]
  },
  {
   "cell_type": "code",
   "execution_count": 74,
   "metadata": {},
   "outputs": [
    {
     "name": "stdout",
     "output_type": "stream",
     "text": [
      "Fitting 5 folds for each of 1 candidates, totalling 5 fits\n",
      "[CV 1/5] END ......C=0.1, gamma=0.1, kernel=rbf;, score=0.958 total time=   7.7s\n",
      "[CV 2/5] END ......C=0.1, gamma=0.1, kernel=rbf;, score=0.957 total time=   7.6s\n",
      "[CV 3/5] END ......C=0.1, gamma=0.1, kernel=rbf;, score=0.965 total time=   7.7s\n",
      "[CV 4/5] END ......C=0.1, gamma=0.1, kernel=rbf;, score=0.945 total time=   6.9s\n",
      "[CV 5/5] END ......C=0.1, gamma=0.1, kernel=rbf;, score=0.956 total time=   7.0s\n"
     ]
    },
    {
     "data": {
      "text/plain": [
       "SVC(C=0.1, gamma=0.1)"
      ]
     },
     "execution_count": 74,
     "metadata": {},
     "output_type": "execute_result"
    }
   ],
   "source": [
    "# fitting the model for grid search\n",
    "grid = GridSearchCV(SVC(), param_grid, refit=True, verbose=3, cv=5)\n",
    "grid.fit(X_tl, y_tl)\n",
    "best_estimator_tl = grid.best_estimator_\n",
    "best_estimator_tl"
   ]
  },
  {
   "cell_type": "code",
   "execution_count": 75,
   "metadata": {
    "scrolled": false
   },
   "outputs": [
    {
     "data": {
      "image/png": "[encoded data removed]",
      "text/plain": [
       "<Figure size 432x288 with 2 Axes>"
      ]
     },
     "metadata": {
      "needs_background": "light"
     },
     "output_type": "display_data"
    },
    {
     "name": "stdout",
     "output_type": "stream",
     "text": [
      "[Yes, No]> F1 Score:[0.38920496 0.7834721 ]\n"
     ]
    }
   ],
   "source": [
    "pred_labels = best_estimator_os.predict(X_test_pca)\n",
    "cm = confusion_matrix(Y_test, pred_labels)\n",
    "disp = ConfusionMatrixDisplay(confusion_matrix=cm, display_labels=[\"yes\",\"no\"])\n",
    "disp.plot()\n",
    "plt.show()\n",
    "print(f\"[Yes, No]> F1 Score:{f1_score(Y_test,pred_labels, average = None)}\")"
   ]
  },
  {
   "cell_type": "markdown",
   "metadata": {},
   "source": [
    "### ADASYN"
   ]
  },
  {
   "cell_type": "code",
   "execution_count": 77,
   "metadata": {},
   "outputs": [
    {
     "name": "stdout",
     "output_type": "stream",
     "text": [
      "Fitting 5 folds for each of 1 candidates, totalling 5 fits\n",
      "[CV 1/5] END ......C=0.1, gamma=0.1, kernel=rbf;, score=0.921 total time=  16.3s\n",
      "[CV 2/5] END ......C=0.1, gamma=0.1, kernel=rbf;, score=0.906 total time=  15.6s\n",
      "[CV 3/5] END ......C=0.1, gamma=0.1, kernel=rbf;, score=0.937 total time=  16.2s\n",
      "[CV 4/5] END ......C=0.1, gamma=0.1, kernel=rbf;, score=0.889 total time=  14.9s\n",
      "[CV 5/5] END ......C=0.1, gamma=0.1, kernel=rbf;, score=0.905 total time=  16.6s\n"
     ]
    },
    {
     "data": {
      "text/plain": [
       "SVC(C=0.1, gamma=0.1)"
      ]
     },
     "execution_count": 77,
     "metadata": {},
     "output_type": "execute_result"
    }
   ],
   "source": [
    "# fitting the model for grid search\n",
    "grid = GridSearchCV(SVC(), param_grid, refit=True, verbose=3, cv=5)\n",
    "grid.fit(X_ada, y_ada)\n",
    "best_estimator_ada = grid.best_estimator_\n",
    "best_estimator_ada"
   ]
  },
  {
   "cell_type": "code",
   "execution_count": 78,
   "metadata": {
    "scrolled": false
   },
   "outputs": [
    {
     "data": {
      "image/png": "[encoded data removed]",
      "text/plain": [
       "<Figure size 432x288 with 2 Axes>"
      ]
     },
     "metadata": {
      "needs_background": "light"
     },
     "output_type": "display_data"
    },
    {
     "name": "stdout",
     "output_type": "stream",
     "text": [
      "[Yes, No]> F1 Score:[0.38920496 0.7834721 ]\n"
     ]
    }
   ],
   "source": [
    "pred_labels = best_estimator_os.predict(X_test_pca)\n",
    "cm = confusion_matrix(Y_test, pred_labels)\n",
    "disp = ConfusionMatrixDisplay(confusion_matrix=cm, display_labels=[\"yes\",\"no\"])\n",
    "disp.plot()\n",
    "plt.show()\n",
    "print(f\"[Yes, No]> F1 Score:{f1_score(Y_test,pred_labels, average = None)}\")"
   ]
  },
  {
   "cell_type": "markdown",
   "metadata": {},
   "source": [
    "### SMOTE + Undersampler"
   ]
  },
  {
   "cell_type": "code",
   "execution_count": 82,
   "metadata": {},
   "outputs": [
    {
     "name": "stdout",
     "output_type": "stream",
     "text": [
      "Fitting 5 folds for each of 1 candidates, totalling 5 fits\n",
      "[CV 1/5] END ......C=0.1, gamma=0.1, kernel=rbf;, score=0.950 total time=   1.5s\n",
      "[CV 2/5] END ......C=0.1, gamma=0.1, kernel=rbf;, score=0.943 total time=   1.5s\n",
      "[CV 3/5] END ......C=0.1, gamma=0.1, kernel=rbf;, score=0.943 total time=   1.4s\n",
      "[CV 4/5] END ......C=0.1, gamma=0.1, kernel=rbf;, score=0.946 total time=   1.5s\n",
      "[CV 5/5] END ......C=0.1, gamma=0.1, kernel=rbf;, score=0.951 total time=   1.5s\n"
     ]
    },
    {
     "data": {
      "text/plain": [
       "SVC(C=0.1, gamma=0.1)"
      ]
     },
     "execution_count": 82,
     "metadata": {},
     "output_type": "execute_result"
    }
   ],
   "source": [
    "# fitting the model for grid search\n",
    "grid = GridSearchCV(SVC(), param_grid, refit=True, verbose=3, cv=5)\n",
    "\n",
    "grid.fit(X_hybrid, y_hybrid)\n",
    "best_estimator_su = grid.best_estimator_\n",
    "best_estimator_su"
   ]
  },
  {
   "cell_type": "code",
   "execution_count": 83,
   "metadata": {
    "scrolled": false
   },
   "outputs": [
    {
     "data": {
      "image/png": "[encoded data removed]",
      "text/plain": [
       "<Figure size 432x288 with 2 Axes>"
      ]
     },
     "metadata": {
      "needs_background": "light"
     },
     "output_type": "display_data"
    },
    {
     "name": "stdout",
     "output_type": "stream",
     "text": [
      "[Yes, No]> F1 Score:[0.37241597 0.79969781]\n"
     ]
    }
   ],
   "source": [
    "pred_labels = best_estimator_su.predict(X_test_pca)\n",
    "cm = confusion_matrix(Y_test, pred_labels)\n",
    "disp = ConfusionMatrixDisplay(confusion_matrix=cm, display_labels=[\"yes\",\"no\"])\n",
    "disp.plot()\n",
    "plt.show()\n",
    "print(f\"[Yes, No]> F1 Score:{f1_score(Y_test,pred_labels, average = None)}\")"
   ]
  }
 ],
 "metadata": {
  "kernelspec": {
   "display_name": "Python 3 (ipykernel)",
   "language": "python",
   "name": "python3"
  },
  "language_info": {
   "codemirror_mode": {
    "name": "ipython",
    "version": 3
   },
   "file_extension": ".py",
   "mimetype": "text/x-python",
   "name": "python",
   "nbconvert_exporter": "python",
   "pygments_lexer": "ipython3",
   "version": "3.9.7"
  }
 },
 "nbformat": 4,
 "nbformat_minor": 4
}
