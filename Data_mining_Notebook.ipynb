{
 "cells": [
  {
   "cell_type": "markdown",
   "metadata": {},
   "source": [
    "# GROUP  MEMBERS\n",
    "1- Doaa Mohamed    106413\n",
    "\n",
    "2- Inês Leite      92928\n",
    "\n",
    "3- Pedro Marques  92926"
   ]
  },
  {
   "cell_type": "code",
   "execution_count": 1,
   "metadata": {},
   "outputs": [
    {
     "ename": "SyntaxError",
     "evalue": "invalid syntax (Temp/ipykernel_16404/3514115358.py, line 1)",
     "output_type": "error",
     "traceback": [
      "\u001b[1;36m  File \u001b[1;32m\"C:\\Users\\pedro\\AppData\\Local\\Temp/ipykernel_16404/3514115358.py\"\u001b[1;36m, line \u001b[1;32m1\u001b[0m\n\u001b[1;33m    https://www.analyticsvidhya.com/blog/2020/07/10-techniques-to-deal-with-class-imbalance-in-machine-learning/\u001b[0m\n\u001b[1;37m          ^\u001b[0m\n\u001b[1;31mSyntaxError\u001b[0m\u001b[1;31m:\u001b[0m invalid syntax\n"
     ]
    }
   ],
   "source": [
    "https://www.analyticsvidhya.com/blog/2020/07/10-techniques-to-deal-with-class-imbalance-in-machine-learning/\n",
    "https://towardsdatascience.com/how-to-deal-with-imbalanced-data-in-python-f9b71aba53eb\n",
    "https://www.analyticsvidhya.com/blog/2020/10/overcoming-class-imbalance-using-smote-techniques/"
   ]
  },
  {
   "cell_type": "markdown",
   "metadata": {},
   "source": [
    "# Turbo Engine data description\n",
    "\n",
    "The engine under study is a turbofan engine (a jet engine). A turbofan engine has many components. A few important components are: Fan, Low Pressure Compressor (LPC), High Pressure Compressor (HPC), Low Pressure Turbine (LPT), High Pressure Turbine (HPT)."
   ]
  },
  {
   "cell_type": "code",
   "execution_count": 2,
   "metadata": {},
   "outputs": [
    {
     "name": "stdout",
     "output_type": "stream",
     "text": [
      "Requirement already satisfied: pandas in c:\\users\\pedro\\anaconda3\\lib\\site-packages (1.3.4)\n",
      "Requirement already satisfied: pytz>=2017.3 in c:\\users\\pedro\\anaconda3\\lib\\site-packages (from pandas) (2021.3)\n",
      "Requirement already satisfied: numpy>=1.17.3 in c:\\users\\pedro\\anaconda3\\lib\\site-packages (from pandas) (1.20.3)\n",
      "Requirement already satisfied: python-dateutil>=2.7.3 in c:\\users\\pedro\\anaconda3\\lib\\site-packages (from pandas) (2.8.2)\n",
      "Requirement already satisfied: six>=1.5 in c:\\users\\pedro\\anaconda3\\lib\\site-packages (from python-dateutil>=2.7.3->pandas) (1.15.0)\n",
      "Requirement already satisfied: numpy in c:\\users\\pedro\\anaconda3\\lib\\site-packages (1.20.3)\n",
      "Requirement already satisfied: imblearn in c:\\users\\pedro\\anaconda3\\lib\\site-packages (0.0)\n",
      "Requirement already satisfied: imbalanced-learn in c:\\users\\pedro\\anaconda3\\lib\\site-packages (from imblearn) (0.9.0)\n",
      "Requirement already satisfied: scikit-learn>=1.0.1 in c:\\users\\pedro\\anaconda3\\lib\\site-packages (from imbalanced-learn->imblearn) (1.0.2)\n",
      "Requirement already satisfied: numpy>=1.14.6 in c:\\users\\pedro\\anaconda3\\lib\\site-packages (from imbalanced-learn->imblearn) (1.20.3)\n",
      "Requirement already satisfied: threadpoolctl>=2.0.0 in c:\\users\\pedro\\anaconda3\\lib\\site-packages (from imbalanced-learn->imblearn) (2.2.0)\n",
      "Requirement already satisfied: scipy>=1.1.0 in c:\\users\\pedro\\anaconda3\\lib\\site-packages (from imbalanced-learn->imblearn) (1.7.1)\n",
      "Requirement already satisfied: joblib>=0.11 in c:\\users\\pedro\\anaconda3\\lib\\site-packages (from imbalanced-learn->imblearn) (1.1.0)\n"
     ]
    }
   ],
   "source": [
    "!pip install pandas\n",
    "!pip install numpy\n",
    "!pip install imblearn"
   ]
  },
  {
   "cell_type": "markdown",
   "metadata": {},
   "source": [
    "https://www.youtube.com/watch?v=m7KWxX23zCU"
   ]
  },
  {
   "cell_type": "code",
   "execution_count": 1,
   "metadata": {},
   "outputs": [],
   "source": [
    "import pandas as pd\n",
    "import matplotlib.pyplot as plt\n",
    "from imblearn.over_sampling import SMOTE, ADASYN\n",
    "from imblearn.under_sampling import RandomUnderSampler\n",
    "from scipy.stats import zscore\n",
    "from sklearn import svm\n",
    "from sklearn.decomposition import PCA\n",
    "from sklearn.metrics import accuracy_score, plot_confusion_matrix, confusion_matrix, ConfusionMatrixDisplay, f1_score, \\\n",
    "    roc_auc_score\n",
    "from sklearn.utils import resample\n",
    "from sklearn.model_selection import GridSearchCV, cross_val_score, cross_val_predict\n",
    "from sklearn.svm import SVC\n",
    "from sklearn.neural_network import MLPClassifier\n",
    "import numpy as np\n",
    "import seaborn as sn\n",
    "from sklearn.feature_selection import SelectKBest, f_classif\n",
    "from imblearn.pipeline import Pipeline\n",
    "from sklearn.model_selection import cross_val_score\n",
    "from sklearn.metrics import roc_auc_score\n",
    "from numpy import mean\n",
    "from imblearn.under_sampling import TomekLinks \n",
    "from imblearn.combine import SMOTETomek \n",
    "import time\n",
    "from sklearn.ensemble import RandomForestClassifier"
   ]
  },
  {
   "cell_type": "markdown",
   "metadata": {},
   "source": [
    "## Load Data"
   ]
  },
  {
   "cell_type": "code",
   "execution_count": 2,
   "metadata": {
    "scrolled": false
   },
   "outputs": [
    {
     "data": {
      "text/html": [
       "<div>\n",
       "<style scoped>\n",
       "    .dataframe tbody tr th:only-of-type {\n",
       "        vertical-align: middle;\n",
       "    }\n",
       "\n",
       "    .dataframe tbody tr th {\n",
       "        vertical-align: top;\n",
       "    }\n",
       "\n",
       "    .dataframe thead th {\n",
       "        text-align: right;\n",
       "    }\n",
       "</style>\n",
       "<table border=\"1\" class=\"dataframe\">\n",
       "  <thead>\n",
       "    <tr style=\"text-align: right;\">\n",
       "      <th></th>\n",
       "      <th>setting1</th>\n",
       "      <th>setting2</th>\n",
       "      <th>setting3</th>\n",
       "      <th>s1</th>\n",
       "      <th>s2</th>\n",
       "      <th>s3</th>\n",
       "      <th>s4</th>\n",
       "      <th>s5</th>\n",
       "      <th>s6</th>\n",
       "      <th>s7</th>\n",
       "      <th>...</th>\n",
       "      <th>s13</th>\n",
       "      <th>s14</th>\n",
       "      <th>s15</th>\n",
       "      <th>s16</th>\n",
       "      <th>s17</th>\n",
       "      <th>s18</th>\n",
       "      <th>s19</th>\n",
       "      <th>s20</th>\n",
       "      <th>s21</th>\n",
       "      <th>Failure_status</th>\n",
       "    </tr>\n",
       "  </thead>\n",
       "  <tbody>\n",
       "    <tr>\n",
       "      <th>0</th>\n",
       "      <td>-0.0007</td>\n",
       "      <td>-0.0004</td>\n",
       "      <td>100.0</td>\n",
       "      <td>518.67</td>\n",
       "      <td>641.82</td>\n",
       "      <td>1589.70</td>\n",
       "      <td>1400.60</td>\n",
       "      <td>14.62</td>\n",
       "      <td>21.61</td>\n",
       "      <td>554.36</td>\n",
       "      <td>...</td>\n",
       "      <td>2388.02</td>\n",
       "      <td>8138.62</td>\n",
       "      <td>8.4195</td>\n",
       "      <td>0.03</td>\n",
       "      <td>392</td>\n",
       "      <td>2388</td>\n",
       "      <td>100.0</td>\n",
       "      <td>39.06</td>\n",
       "      <td>23.4190</td>\n",
       "      <td>no</td>\n",
       "    </tr>\n",
       "    <tr>\n",
       "      <th>1</th>\n",
       "      <td>0.0019</td>\n",
       "      <td>-0.0003</td>\n",
       "      <td>100.0</td>\n",
       "      <td>518.67</td>\n",
       "      <td>642.15</td>\n",
       "      <td>1591.82</td>\n",
       "      <td>1403.14</td>\n",
       "      <td>14.62</td>\n",
       "      <td>21.61</td>\n",
       "      <td>553.75</td>\n",
       "      <td>...</td>\n",
       "      <td>2388.07</td>\n",
       "      <td>8131.49</td>\n",
       "      <td>8.4318</td>\n",
       "      <td>0.03</td>\n",
       "      <td>392</td>\n",
       "      <td>2388</td>\n",
       "      <td>100.0</td>\n",
       "      <td>39.00</td>\n",
       "      <td>23.4236</td>\n",
       "      <td>no</td>\n",
       "    </tr>\n",
       "    <tr>\n",
       "      <th>2</th>\n",
       "      <td>-0.0043</td>\n",
       "      <td>0.0003</td>\n",
       "      <td>100.0</td>\n",
       "      <td>518.67</td>\n",
       "      <td>642.35</td>\n",
       "      <td>1587.99</td>\n",
       "      <td>1404.20</td>\n",
       "      <td>14.62</td>\n",
       "      <td>21.61</td>\n",
       "      <td>554.26</td>\n",
       "      <td>...</td>\n",
       "      <td>2388.03</td>\n",
       "      <td>8133.23</td>\n",
       "      <td>8.4178</td>\n",
       "      <td>0.03</td>\n",
       "      <td>390</td>\n",
       "      <td>2388</td>\n",
       "      <td>100.0</td>\n",
       "      <td>38.95</td>\n",
       "      <td>23.3442</td>\n",
       "      <td>no</td>\n",
       "    </tr>\n",
       "    <tr>\n",
       "      <th>3</th>\n",
       "      <td>0.0007</td>\n",
       "      <td>0.0000</td>\n",
       "      <td>100.0</td>\n",
       "      <td>518.67</td>\n",
       "      <td>642.35</td>\n",
       "      <td>1582.79</td>\n",
       "      <td>1401.87</td>\n",
       "      <td>14.62</td>\n",
       "      <td>21.61</td>\n",
       "      <td>554.45</td>\n",
       "      <td>...</td>\n",
       "      <td>2388.08</td>\n",
       "      <td>8133.83</td>\n",
       "      <td>8.3682</td>\n",
       "      <td>0.03</td>\n",
       "      <td>392</td>\n",
       "      <td>2388</td>\n",
       "      <td>100.0</td>\n",
       "      <td>38.88</td>\n",
       "      <td>23.3739</td>\n",
       "      <td>no</td>\n",
       "    </tr>\n",
       "    <tr>\n",
       "      <th>4</th>\n",
       "      <td>-0.0019</td>\n",
       "      <td>-0.0002</td>\n",
       "      <td>100.0</td>\n",
       "      <td>518.67</td>\n",
       "      <td>642.37</td>\n",
       "      <td>1582.85</td>\n",
       "      <td>1406.22</td>\n",
       "      <td>14.62</td>\n",
       "      <td>21.61</td>\n",
       "      <td>554.00</td>\n",
       "      <td>...</td>\n",
       "      <td>2388.04</td>\n",
       "      <td>8133.80</td>\n",
       "      <td>8.4294</td>\n",
       "      <td>0.03</td>\n",
       "      <td>393</td>\n",
       "      <td>2388</td>\n",
       "      <td>100.0</td>\n",
       "      <td>38.90</td>\n",
       "      <td>23.4044</td>\n",
       "      <td>no</td>\n",
       "    </tr>\n",
       "    <tr>\n",
       "      <th>...</th>\n",
       "      <td>...</td>\n",
       "      <td>...</td>\n",
       "      <td>...</td>\n",
       "      <td>...</td>\n",
       "      <td>...</td>\n",
       "      <td>...</td>\n",
       "      <td>...</td>\n",
       "      <td>...</td>\n",
       "      <td>...</td>\n",
       "      <td>...</td>\n",
       "      <td>...</td>\n",
       "      <td>...</td>\n",
       "      <td>...</td>\n",
       "      <td>...</td>\n",
       "      <td>...</td>\n",
       "      <td>...</td>\n",
       "      <td>...</td>\n",
       "      <td>...</td>\n",
       "      <td>...</td>\n",
       "      <td>...</td>\n",
       "      <td>...</td>\n",
       "    </tr>\n",
       "    <tr>\n",
       "      <th>20626</th>\n",
       "      <td>-0.0004</td>\n",
       "      <td>-0.0003</td>\n",
       "      <td>100.0</td>\n",
       "      <td>518.67</td>\n",
       "      <td>643.49</td>\n",
       "      <td>1597.98</td>\n",
       "      <td>1428.63</td>\n",
       "      <td>14.62</td>\n",
       "      <td>21.61</td>\n",
       "      <td>551.43</td>\n",
       "      <td>...</td>\n",
       "      <td>2388.26</td>\n",
       "      <td>8137.60</td>\n",
       "      <td>8.4956</td>\n",
       "      <td>0.03</td>\n",
       "      <td>397</td>\n",
       "      <td>2388</td>\n",
       "      <td>100.0</td>\n",
       "      <td>38.49</td>\n",
       "      <td>22.9735</td>\n",
       "      <td>yes</td>\n",
       "    </tr>\n",
       "    <tr>\n",
       "      <th>20627</th>\n",
       "      <td>-0.0016</td>\n",
       "      <td>-0.0005</td>\n",
       "      <td>100.0</td>\n",
       "      <td>518.67</td>\n",
       "      <td>643.54</td>\n",
       "      <td>1604.50</td>\n",
       "      <td>1433.58</td>\n",
       "      <td>14.62</td>\n",
       "      <td>21.61</td>\n",
       "      <td>550.86</td>\n",
       "      <td>...</td>\n",
       "      <td>2388.22</td>\n",
       "      <td>8136.50</td>\n",
       "      <td>8.5139</td>\n",
       "      <td>0.03</td>\n",
       "      <td>395</td>\n",
       "      <td>2388</td>\n",
       "      <td>100.0</td>\n",
       "      <td>38.30</td>\n",
       "      <td>23.1594</td>\n",
       "      <td>yes</td>\n",
       "    </tr>\n",
       "    <tr>\n",
       "      <th>20628</th>\n",
       "      <td>0.0004</td>\n",
       "      <td>0.0000</td>\n",
       "      <td>100.0</td>\n",
       "      <td>518.67</td>\n",
       "      <td>643.42</td>\n",
       "      <td>1602.46</td>\n",
       "      <td>1428.18</td>\n",
       "      <td>14.62</td>\n",
       "      <td>21.61</td>\n",
       "      <td>550.94</td>\n",
       "      <td>...</td>\n",
       "      <td>2388.24</td>\n",
       "      <td>8141.05</td>\n",
       "      <td>8.5646</td>\n",
       "      <td>0.03</td>\n",
       "      <td>398</td>\n",
       "      <td>2388</td>\n",
       "      <td>100.0</td>\n",
       "      <td>38.44</td>\n",
       "      <td>22.9333</td>\n",
       "      <td>yes</td>\n",
       "    </tr>\n",
       "    <tr>\n",
       "      <th>20629</th>\n",
       "      <td>-0.0011</td>\n",
       "      <td>0.0003</td>\n",
       "      <td>100.0</td>\n",
       "      <td>518.67</td>\n",
       "      <td>643.23</td>\n",
       "      <td>1605.26</td>\n",
       "      <td>1426.53</td>\n",
       "      <td>14.62</td>\n",
       "      <td>21.61</td>\n",
       "      <td>550.68</td>\n",
       "      <td>...</td>\n",
       "      <td>2388.23</td>\n",
       "      <td>8139.29</td>\n",
       "      <td>8.5389</td>\n",
       "      <td>0.03</td>\n",
       "      <td>395</td>\n",
       "      <td>2388</td>\n",
       "      <td>100.0</td>\n",
       "      <td>38.29</td>\n",
       "      <td>23.0640</td>\n",
       "      <td>yes</td>\n",
       "    </tr>\n",
       "    <tr>\n",
       "      <th>20630</th>\n",
       "      <td>-0.0032</td>\n",
       "      <td>-0.0005</td>\n",
       "      <td>100.0</td>\n",
       "      <td>518.67</td>\n",
       "      <td>643.85</td>\n",
       "      <td>1600.38</td>\n",
       "      <td>1432.14</td>\n",
       "      <td>14.62</td>\n",
       "      <td>21.61</td>\n",
       "      <td>550.79</td>\n",
       "      <td>...</td>\n",
       "      <td>2388.26</td>\n",
       "      <td>8137.33</td>\n",
       "      <td>8.5036</td>\n",
       "      <td>0.03</td>\n",
       "      <td>396</td>\n",
       "      <td>2388</td>\n",
       "      <td>100.0</td>\n",
       "      <td>38.37</td>\n",
       "      <td>23.0522</td>\n",
       "      <td>yes</td>\n",
       "    </tr>\n",
       "  </tbody>\n",
       "</table>\n",
       "<p>20631 rows × 25 columns</p>\n",
       "</div>"
      ],
      "text/plain": [
       "       setting1  setting2  setting3      s1      s2       s3       s4     s5  \\\n",
       "0       -0.0007   -0.0004     100.0  518.67  641.82  1589.70  1400.60  14.62   \n",
       "1        0.0019   -0.0003     100.0  518.67  642.15  1591.82  1403.14  14.62   \n",
       "2       -0.0043    0.0003     100.0  518.67  642.35  1587.99  1404.20  14.62   \n",
       "3        0.0007    0.0000     100.0  518.67  642.35  1582.79  1401.87  14.62   \n",
       "4       -0.0019   -0.0002     100.0  518.67  642.37  1582.85  1406.22  14.62   \n",
       "...         ...       ...       ...     ...     ...      ...      ...    ...   \n",
       "20626   -0.0004   -0.0003     100.0  518.67  643.49  1597.98  1428.63  14.62   \n",
       "20627   -0.0016   -0.0005     100.0  518.67  643.54  1604.50  1433.58  14.62   \n",
       "20628    0.0004    0.0000     100.0  518.67  643.42  1602.46  1428.18  14.62   \n",
       "20629   -0.0011    0.0003     100.0  518.67  643.23  1605.26  1426.53  14.62   \n",
       "20630   -0.0032   -0.0005     100.0  518.67  643.85  1600.38  1432.14  14.62   \n",
       "\n",
       "          s6      s7  ...      s13      s14     s15   s16  s17   s18    s19  \\\n",
       "0      21.61  554.36  ...  2388.02  8138.62  8.4195  0.03  392  2388  100.0   \n",
       "1      21.61  553.75  ...  2388.07  8131.49  8.4318  0.03  392  2388  100.0   \n",
       "2      21.61  554.26  ...  2388.03  8133.23  8.4178  0.03  390  2388  100.0   \n",
       "3      21.61  554.45  ...  2388.08  8133.83  8.3682  0.03  392  2388  100.0   \n",
       "4      21.61  554.00  ...  2388.04  8133.80  8.4294  0.03  393  2388  100.0   \n",
       "...      ...     ...  ...      ...      ...     ...   ...  ...   ...    ...   \n",
       "20626  21.61  551.43  ...  2388.26  8137.60  8.4956  0.03  397  2388  100.0   \n",
       "20627  21.61  550.86  ...  2388.22  8136.50  8.5139  0.03  395  2388  100.0   \n",
       "20628  21.61  550.94  ...  2388.24  8141.05  8.5646  0.03  398  2388  100.0   \n",
       "20629  21.61  550.68  ...  2388.23  8139.29  8.5389  0.03  395  2388  100.0   \n",
       "20630  21.61  550.79  ...  2388.26  8137.33  8.5036  0.03  396  2388  100.0   \n",
       "\n",
       "         s20      s21  Failure_status  \n",
       "0      39.06  23.4190              no  \n",
       "1      39.00  23.4236              no  \n",
       "2      38.95  23.3442              no  \n",
       "3      38.88  23.3739              no  \n",
       "4      38.90  23.4044              no  \n",
       "...      ...      ...             ...  \n",
       "20626  38.49  22.9735             yes  \n",
       "20627  38.30  23.1594             yes  \n",
       "20628  38.44  22.9333             yes  \n",
       "20629  38.29  23.0640             yes  \n",
       "20630  38.37  23.0522             yes  \n",
       "\n",
       "[20631 rows x 25 columns]"
      ]
     },
     "execution_count": 2,
     "metadata": {},
     "output_type": "execute_result"
    }
   ],
   "source": [
    "train = pd.read_csv(r'dataTopicF/train_FD001.csv', sep=';')\n",
    "train"
   ]
  },
  {
   "cell_type": "code",
   "execution_count": 3,
   "metadata": {},
   "outputs": [
    {
     "data": {
      "text/html": [
       "<div>\n",
       "<style scoped>\n",
       "    .dataframe tbody tr th:only-of-type {\n",
       "        vertical-align: middle;\n",
       "    }\n",
       "\n",
       "    .dataframe tbody tr th {\n",
       "        vertical-align: top;\n",
       "    }\n",
       "\n",
       "    .dataframe thead th {\n",
       "        text-align: right;\n",
       "    }\n",
       "</style>\n",
       "<table border=\"1\" class=\"dataframe\">\n",
       "  <thead>\n",
       "    <tr style=\"text-align: right;\">\n",
       "      <th></th>\n",
       "      <th>setting1</th>\n",
       "      <th>setting2</th>\n",
       "      <th>setting3</th>\n",
       "      <th>s1</th>\n",
       "      <th>s2</th>\n",
       "      <th>s3</th>\n",
       "      <th>s4</th>\n",
       "      <th>s5</th>\n",
       "      <th>s6</th>\n",
       "      <th>s7</th>\n",
       "      <th>...</th>\n",
       "      <th>s13</th>\n",
       "      <th>s14</th>\n",
       "      <th>s15</th>\n",
       "      <th>s16</th>\n",
       "      <th>s17</th>\n",
       "      <th>s18</th>\n",
       "      <th>s19</th>\n",
       "      <th>s20</th>\n",
       "      <th>s21</th>\n",
       "      <th>Failure_status</th>\n",
       "    </tr>\n",
       "  </thead>\n",
       "  <tbody>\n",
       "    <tr>\n",
       "      <th>0</th>\n",
       "      <td>0.0023</td>\n",
       "      <td>0.0003</td>\n",
       "      <td>100.0</td>\n",
       "      <td>518.67</td>\n",
       "      <td>643.02</td>\n",
       "      <td>1585.29</td>\n",
       "      <td>1398.21</td>\n",
       "      <td>14.62</td>\n",
       "      <td>21.61</td>\n",
       "      <td>553.90</td>\n",
       "      <td>...</td>\n",
       "      <td>2388.03</td>\n",
       "      <td>8125.55</td>\n",
       "      <td>8.4052</td>\n",
       "      <td>0.03</td>\n",
       "      <td>392</td>\n",
       "      <td>2388</td>\n",
       "      <td>100.0</td>\n",
       "      <td>38.86</td>\n",
       "      <td>23.3735</td>\n",
       "      <td>no</td>\n",
       "    </tr>\n",
       "    <tr>\n",
       "      <th>1</th>\n",
       "      <td>-0.0027</td>\n",
       "      <td>-0.0003</td>\n",
       "      <td>100.0</td>\n",
       "      <td>518.67</td>\n",
       "      <td>641.71</td>\n",
       "      <td>1588.45</td>\n",
       "      <td>1395.42</td>\n",
       "      <td>14.62</td>\n",
       "      <td>21.61</td>\n",
       "      <td>554.85</td>\n",
       "      <td>...</td>\n",
       "      <td>2388.06</td>\n",
       "      <td>8139.62</td>\n",
       "      <td>8.3803</td>\n",
       "      <td>0.03</td>\n",
       "      <td>393</td>\n",
       "      <td>2388</td>\n",
       "      <td>100.0</td>\n",
       "      <td>39.02</td>\n",
       "      <td>23.3916</td>\n",
       "      <td>no</td>\n",
       "    </tr>\n",
       "    <tr>\n",
       "      <th>2</th>\n",
       "      <td>0.0003</td>\n",
       "      <td>0.0001</td>\n",
       "      <td>100.0</td>\n",
       "      <td>518.67</td>\n",
       "      <td>642.46</td>\n",
       "      <td>1586.94</td>\n",
       "      <td>1401.34</td>\n",
       "      <td>14.62</td>\n",
       "      <td>21.61</td>\n",
       "      <td>554.11</td>\n",
       "      <td>...</td>\n",
       "      <td>2388.03</td>\n",
       "      <td>8130.10</td>\n",
       "      <td>8.4441</td>\n",
       "      <td>0.03</td>\n",
       "      <td>393</td>\n",
       "      <td>2388</td>\n",
       "      <td>100.0</td>\n",
       "      <td>39.08</td>\n",
       "      <td>23.4166</td>\n",
       "      <td>no</td>\n",
       "    </tr>\n",
       "    <tr>\n",
       "      <th>3</th>\n",
       "      <td>0.0042</td>\n",
       "      <td>0.0000</td>\n",
       "      <td>100.0</td>\n",
       "      <td>518.67</td>\n",
       "      <td>642.44</td>\n",
       "      <td>1584.12</td>\n",
       "      <td>1406.42</td>\n",
       "      <td>14.62</td>\n",
       "      <td>21.61</td>\n",
       "      <td>554.07</td>\n",
       "      <td>...</td>\n",
       "      <td>2388.05</td>\n",
       "      <td>8132.90</td>\n",
       "      <td>8.3917</td>\n",
       "      <td>0.03</td>\n",
       "      <td>391</td>\n",
       "      <td>2388</td>\n",
       "      <td>100.0</td>\n",
       "      <td>39.00</td>\n",
       "      <td>23.3737</td>\n",
       "      <td>no</td>\n",
       "    </tr>\n",
       "    <tr>\n",
       "      <th>4</th>\n",
       "      <td>0.0014</td>\n",
       "      <td>0.0000</td>\n",
       "      <td>100.0</td>\n",
       "      <td>518.67</td>\n",
       "      <td>642.51</td>\n",
       "      <td>1587.19</td>\n",
       "      <td>1401.92</td>\n",
       "      <td>14.62</td>\n",
       "      <td>21.61</td>\n",
       "      <td>554.16</td>\n",
       "      <td>...</td>\n",
       "      <td>2388.03</td>\n",
       "      <td>8129.54</td>\n",
       "      <td>8.4031</td>\n",
       "      <td>0.03</td>\n",
       "      <td>390</td>\n",
       "      <td>2388</td>\n",
       "      <td>100.0</td>\n",
       "      <td>38.99</td>\n",
       "      <td>23.4130</td>\n",
       "      <td>no</td>\n",
       "    </tr>\n",
       "    <tr>\n",
       "      <th>...</th>\n",
       "      <td>...</td>\n",
       "      <td>...</td>\n",
       "      <td>...</td>\n",
       "      <td>...</td>\n",
       "      <td>...</td>\n",
       "      <td>...</td>\n",
       "      <td>...</td>\n",
       "      <td>...</td>\n",
       "      <td>...</td>\n",
       "      <td>...</td>\n",
       "      <td>...</td>\n",
       "      <td>...</td>\n",
       "      <td>...</td>\n",
       "      <td>...</td>\n",
       "      <td>...</td>\n",
       "      <td>...</td>\n",
       "      <td>...</td>\n",
       "      <td>...</td>\n",
       "      <td>...</td>\n",
       "      <td>...</td>\n",
       "      <td>...</td>\n",
       "    </tr>\n",
       "    <tr>\n",
       "      <th>13091</th>\n",
       "      <td>0.0049</td>\n",
       "      <td>0.0000</td>\n",
       "      <td>100.0</td>\n",
       "      <td>518.67</td>\n",
       "      <td>643.24</td>\n",
       "      <td>1599.45</td>\n",
       "      <td>1415.79</td>\n",
       "      <td>14.62</td>\n",
       "      <td>21.61</td>\n",
       "      <td>553.41</td>\n",
       "      <td>...</td>\n",
       "      <td>2388.00</td>\n",
       "      <td>8213.28</td>\n",
       "      <td>8.4715</td>\n",
       "      <td>0.03</td>\n",
       "      <td>394</td>\n",
       "      <td>2388</td>\n",
       "      <td>100.0</td>\n",
       "      <td>38.65</td>\n",
       "      <td>23.1974</td>\n",
       "      <td>yes</td>\n",
       "    </tr>\n",
       "    <tr>\n",
       "      <th>13092</th>\n",
       "      <td>-0.0011</td>\n",
       "      <td>-0.0001</td>\n",
       "      <td>100.0</td>\n",
       "      <td>518.67</td>\n",
       "      <td>643.22</td>\n",
       "      <td>1595.69</td>\n",
       "      <td>1422.05</td>\n",
       "      <td>14.62</td>\n",
       "      <td>21.61</td>\n",
       "      <td>553.22</td>\n",
       "      <td>...</td>\n",
       "      <td>2388.09</td>\n",
       "      <td>8210.85</td>\n",
       "      <td>8.4512</td>\n",
       "      <td>0.03</td>\n",
       "      <td>395</td>\n",
       "      <td>2388</td>\n",
       "      <td>100.0</td>\n",
       "      <td>38.57</td>\n",
       "      <td>23.2771</td>\n",
       "      <td>yes</td>\n",
       "    </tr>\n",
       "    <tr>\n",
       "      <th>13093</th>\n",
       "      <td>-0.0006</td>\n",
       "      <td>-0.0003</td>\n",
       "      <td>100.0</td>\n",
       "      <td>518.67</td>\n",
       "      <td>643.44</td>\n",
       "      <td>1593.15</td>\n",
       "      <td>1406.82</td>\n",
       "      <td>14.62</td>\n",
       "      <td>21.61</td>\n",
       "      <td>553.04</td>\n",
       "      <td>...</td>\n",
       "      <td>2388.04</td>\n",
       "      <td>8217.24</td>\n",
       "      <td>8.4569</td>\n",
       "      <td>0.03</td>\n",
       "      <td>395</td>\n",
       "      <td>2388</td>\n",
       "      <td>100.0</td>\n",
       "      <td>38.62</td>\n",
       "      <td>23.2051</td>\n",
       "      <td>yes</td>\n",
       "    </tr>\n",
       "    <tr>\n",
       "      <th>13094</th>\n",
       "      <td>-0.0038</td>\n",
       "      <td>0.0001</td>\n",
       "      <td>100.0</td>\n",
       "      <td>518.67</td>\n",
       "      <td>643.26</td>\n",
       "      <td>1594.99</td>\n",
       "      <td>1419.36</td>\n",
       "      <td>14.62</td>\n",
       "      <td>21.61</td>\n",
       "      <td>553.37</td>\n",
       "      <td>...</td>\n",
       "      <td>2388.08</td>\n",
       "      <td>8220.48</td>\n",
       "      <td>8.4711</td>\n",
       "      <td>0.03</td>\n",
       "      <td>395</td>\n",
       "      <td>2388</td>\n",
       "      <td>100.0</td>\n",
       "      <td>38.66</td>\n",
       "      <td>23.2699</td>\n",
       "      <td>yes</td>\n",
       "    </tr>\n",
       "    <tr>\n",
       "      <th>13095</th>\n",
       "      <td>0.0013</td>\n",
       "      <td>0.0003</td>\n",
       "      <td>100.0</td>\n",
       "      <td>518.67</td>\n",
       "      <td>642.95</td>\n",
       "      <td>1601.62</td>\n",
       "      <td>1424.99</td>\n",
       "      <td>14.62</td>\n",
       "      <td>21.61</td>\n",
       "      <td>552.48</td>\n",
       "      <td>...</td>\n",
       "      <td>2388.05</td>\n",
       "      <td>8214.64</td>\n",
       "      <td>8.4903</td>\n",
       "      <td>0.03</td>\n",
       "      <td>396</td>\n",
       "      <td>2388</td>\n",
       "      <td>100.0</td>\n",
       "      <td>38.70</td>\n",
       "      <td>23.1855</td>\n",
       "      <td>yes</td>\n",
       "    </tr>\n",
       "  </tbody>\n",
       "</table>\n",
       "<p>13096 rows × 25 columns</p>\n",
       "</div>"
      ],
      "text/plain": [
       "       setting1  setting2  setting3      s1      s2       s3       s4     s5  \\\n",
       "0        0.0023    0.0003     100.0  518.67  643.02  1585.29  1398.21  14.62   \n",
       "1       -0.0027   -0.0003     100.0  518.67  641.71  1588.45  1395.42  14.62   \n",
       "2        0.0003    0.0001     100.0  518.67  642.46  1586.94  1401.34  14.62   \n",
       "3        0.0042    0.0000     100.0  518.67  642.44  1584.12  1406.42  14.62   \n",
       "4        0.0014    0.0000     100.0  518.67  642.51  1587.19  1401.92  14.62   \n",
       "...         ...       ...       ...     ...     ...      ...      ...    ...   \n",
       "13091    0.0049    0.0000     100.0  518.67  643.24  1599.45  1415.79  14.62   \n",
       "13092   -0.0011   -0.0001     100.0  518.67  643.22  1595.69  1422.05  14.62   \n",
       "13093   -0.0006   -0.0003     100.0  518.67  643.44  1593.15  1406.82  14.62   \n",
       "13094   -0.0038    0.0001     100.0  518.67  643.26  1594.99  1419.36  14.62   \n",
       "13095    0.0013    0.0003     100.0  518.67  642.95  1601.62  1424.99  14.62   \n",
       "\n",
       "          s6      s7  ...      s13      s14     s15   s16  s17   s18    s19  \\\n",
       "0      21.61  553.90  ...  2388.03  8125.55  8.4052  0.03  392  2388  100.0   \n",
       "1      21.61  554.85  ...  2388.06  8139.62  8.3803  0.03  393  2388  100.0   \n",
       "2      21.61  554.11  ...  2388.03  8130.10  8.4441  0.03  393  2388  100.0   \n",
       "3      21.61  554.07  ...  2388.05  8132.90  8.3917  0.03  391  2388  100.0   \n",
       "4      21.61  554.16  ...  2388.03  8129.54  8.4031  0.03  390  2388  100.0   \n",
       "...      ...     ...  ...      ...      ...     ...   ...  ...   ...    ...   \n",
       "13091  21.61  553.41  ...  2388.00  8213.28  8.4715  0.03  394  2388  100.0   \n",
       "13092  21.61  553.22  ...  2388.09  8210.85  8.4512  0.03  395  2388  100.0   \n",
       "13093  21.61  553.04  ...  2388.04  8217.24  8.4569  0.03  395  2388  100.0   \n",
       "13094  21.61  553.37  ...  2388.08  8220.48  8.4711  0.03  395  2388  100.0   \n",
       "13095  21.61  552.48  ...  2388.05  8214.64  8.4903  0.03  396  2388  100.0   \n",
       "\n",
       "         s20      s21  Failure_status  \n",
       "0      38.86  23.3735              no  \n",
       "1      39.02  23.3916              no  \n",
       "2      39.08  23.4166              no  \n",
       "3      39.00  23.3737              no  \n",
       "4      38.99  23.4130              no  \n",
       "...      ...      ...             ...  \n",
       "13091  38.65  23.1974             yes  \n",
       "13092  38.57  23.2771             yes  \n",
       "13093  38.62  23.2051             yes  \n",
       "13094  38.66  23.2699             yes  \n",
       "13095  38.70  23.1855             yes  \n",
       "\n",
       "[13096 rows x 25 columns]"
      ]
     },
     "execution_count": 3,
     "metadata": {},
     "output_type": "execute_result"
    }
   ],
   "source": [
    "test = pd.read_csv(r'dataTopicF\\test_FD001.csv', sep=';')\n",
    "test"
   ]
  },
  {
   "cell_type": "code",
   "execution_count": 4,
   "metadata": {},
   "outputs": [
    {
     "data": {
      "text/html": [
       "<div>\n",
       "<style scoped>\n",
       "    .dataframe tbody tr th:only-of-type {\n",
       "        vertical-align: middle;\n",
       "    }\n",
       "\n",
       "    .dataframe tbody tr th {\n",
       "        vertical-align: top;\n",
       "    }\n",
       "\n",
       "    .dataframe thead th {\n",
       "        text-align: right;\n",
       "    }\n",
       "</style>\n",
       "<table border=\"1\" class=\"dataframe\">\n",
       "  <thead>\n",
       "    <tr style=\"text-align: right;\">\n",
       "      <th></th>\n",
       "      <th>unit_id</th>\n",
       "      <th>time</th>\n",
       "      <th>setting1</th>\n",
       "      <th>setting2</th>\n",
       "      <th>setting3</th>\n",
       "      <th>s1</th>\n",
       "      <th>s2</th>\n",
       "      <th>s3</th>\n",
       "      <th>s4</th>\n",
       "      <th>s5</th>\n",
       "      <th>...</th>\n",
       "      <th>s12</th>\n",
       "      <th>s13</th>\n",
       "      <th>s14</th>\n",
       "      <th>s15</th>\n",
       "      <th>s16</th>\n",
       "      <th>s17</th>\n",
       "      <th>s18</th>\n",
       "      <th>s19</th>\n",
       "      <th>s20</th>\n",
       "      <th>s21</th>\n",
       "    </tr>\n",
       "  </thead>\n",
       "  <tbody>\n",
       "    <tr>\n",
       "      <th>0</th>\n",
       "      <td>1</td>\n",
       "      <td>2</td>\n",
       "      <td>-0.0027</td>\n",
       "      <td>-0.0003</td>\n",
       "      <td>100.0</td>\n",
       "      <td>518.67</td>\n",
       "      <td>641.71</td>\n",
       "      <td>1588.45</td>\n",
       "      <td>1395.42</td>\n",
       "      <td>14.62</td>\n",
       "      <td>...</td>\n",
       "      <td>522.16</td>\n",
       "      <td>2388.06</td>\n",
       "      <td>8139.62</td>\n",
       "      <td>8.3803</td>\n",
       "      <td>0.03</td>\n",
       "      <td>393</td>\n",
       "      <td>2388</td>\n",
       "      <td>100.0</td>\n",
       "      <td>39.02</td>\n",
       "      <td>23.3916</td>\n",
       "    </tr>\n",
       "    <tr>\n",
       "      <th>1</th>\n",
       "      <td>1</td>\n",
       "      <td>3</td>\n",
       "      <td>0.0003</td>\n",
       "      <td>0.0001</td>\n",
       "      <td>100.0</td>\n",
       "      <td>518.67</td>\n",
       "      <td>642.46</td>\n",
       "      <td>1586.94</td>\n",
       "      <td>1401.34</td>\n",
       "      <td>14.62</td>\n",
       "      <td>...</td>\n",
       "      <td>521.97</td>\n",
       "      <td>2388.03</td>\n",
       "      <td>8130.10</td>\n",
       "      <td>8.4441</td>\n",
       "      <td>0.03</td>\n",
       "      <td>393</td>\n",
       "      <td>2388</td>\n",
       "      <td>100.0</td>\n",
       "      <td>39.08</td>\n",
       "      <td>23.4166</td>\n",
       "    </tr>\n",
       "    <tr>\n",
       "      <th>2</th>\n",
       "      <td>1</td>\n",
       "      <td>4</td>\n",
       "      <td>0.0042</td>\n",
       "      <td>0.0000</td>\n",
       "      <td>100.0</td>\n",
       "      <td>518.67</td>\n",
       "      <td>642.44</td>\n",
       "      <td>1584.12</td>\n",
       "      <td>1406.42</td>\n",
       "      <td>14.62</td>\n",
       "      <td>...</td>\n",
       "      <td>521.38</td>\n",
       "      <td>2388.05</td>\n",
       "      <td>8132.90</td>\n",
       "      <td>8.3917</td>\n",
       "      <td>0.03</td>\n",
       "      <td>391</td>\n",
       "      <td>2388</td>\n",
       "      <td>100.0</td>\n",
       "      <td>39.00</td>\n",
       "      <td>23.3737</td>\n",
       "    </tr>\n",
       "    <tr>\n",
       "      <th>3</th>\n",
       "      <td>1</td>\n",
       "      <td>5</td>\n",
       "      <td>0.0014</td>\n",
       "      <td>0.0000</td>\n",
       "      <td>100.0</td>\n",
       "      <td>518.67</td>\n",
       "      <td>642.51</td>\n",
       "      <td>1587.19</td>\n",
       "      <td>1401.92</td>\n",
       "      <td>14.62</td>\n",
       "      <td>...</td>\n",
       "      <td>522.15</td>\n",
       "      <td>2388.03</td>\n",
       "      <td>8129.54</td>\n",
       "      <td>8.4031</td>\n",
       "      <td>0.03</td>\n",
       "      <td>390</td>\n",
       "      <td>2388</td>\n",
       "      <td>100.0</td>\n",
       "      <td>38.99</td>\n",
       "      <td>23.4130</td>\n",
       "    </tr>\n",
       "    <tr>\n",
       "      <th>4</th>\n",
       "      <td>1</td>\n",
       "      <td>6</td>\n",
       "      <td>0.0012</td>\n",
       "      <td>0.0003</td>\n",
       "      <td>100.0</td>\n",
       "      <td>518.67</td>\n",
       "      <td>642.11</td>\n",
       "      <td>1579.12</td>\n",
       "      <td>1395.13</td>\n",
       "      <td>14.62</td>\n",
       "      <td>...</td>\n",
       "      <td>521.92</td>\n",
       "      <td>2388.08</td>\n",
       "      <td>8127.46</td>\n",
       "      <td>8.4238</td>\n",
       "      <td>0.03</td>\n",
       "      <td>392</td>\n",
       "      <td>2388</td>\n",
       "      <td>100.0</td>\n",
       "      <td>38.91</td>\n",
       "      <td>23.3467</td>\n",
       "    </tr>\n",
       "    <tr>\n",
       "      <th>...</th>\n",
       "      <td>...</td>\n",
       "      <td>...</td>\n",
       "      <td>...</td>\n",
       "      <td>...</td>\n",
       "      <td>...</td>\n",
       "      <td>...</td>\n",
       "      <td>...</td>\n",
       "      <td>...</td>\n",
       "      <td>...</td>\n",
       "      <td>...</td>\n",
       "      <td>...</td>\n",
       "      <td>...</td>\n",
       "      <td>...</td>\n",
       "      <td>...</td>\n",
       "      <td>...</td>\n",
       "      <td>...</td>\n",
       "      <td>...</td>\n",
       "      <td>...</td>\n",
       "      <td>...</td>\n",
       "      <td>...</td>\n",
       "      <td>...</td>\n",
       "    </tr>\n",
       "    <tr>\n",
       "      <th>13090</th>\n",
       "      <td>100</td>\n",
       "      <td>194</td>\n",
       "      <td>0.0049</td>\n",
       "      <td>0.0000</td>\n",
       "      <td>100.0</td>\n",
       "      <td>518.67</td>\n",
       "      <td>643.24</td>\n",
       "      <td>1599.45</td>\n",
       "      <td>1415.79</td>\n",
       "      <td>14.62</td>\n",
       "      <td>...</td>\n",
       "      <td>520.69</td>\n",
       "      <td>2388.00</td>\n",
       "      <td>8213.28</td>\n",
       "      <td>8.4715</td>\n",
       "      <td>0.03</td>\n",
       "      <td>394</td>\n",
       "      <td>2388</td>\n",
       "      <td>100.0</td>\n",
       "      <td>38.65</td>\n",
       "      <td>23.1974</td>\n",
       "    </tr>\n",
       "    <tr>\n",
       "      <th>13091</th>\n",
       "      <td>100</td>\n",
       "      <td>195</td>\n",
       "      <td>-0.0011</td>\n",
       "      <td>-0.0001</td>\n",
       "      <td>100.0</td>\n",
       "      <td>518.67</td>\n",
       "      <td>643.22</td>\n",
       "      <td>1595.69</td>\n",
       "      <td>1422.05</td>\n",
       "      <td>14.62</td>\n",
       "      <td>...</td>\n",
       "      <td>521.05</td>\n",
       "      <td>2388.09</td>\n",
       "      <td>8210.85</td>\n",
       "      <td>8.4512</td>\n",
       "      <td>0.03</td>\n",
       "      <td>395</td>\n",
       "      <td>2388</td>\n",
       "      <td>100.0</td>\n",
       "      <td>38.57</td>\n",
       "      <td>23.2771</td>\n",
       "    </tr>\n",
       "    <tr>\n",
       "      <th>13092</th>\n",
       "      <td>100</td>\n",
       "      <td>196</td>\n",
       "      <td>-0.0006</td>\n",
       "      <td>-0.0003</td>\n",
       "      <td>100.0</td>\n",
       "      <td>518.67</td>\n",
       "      <td>643.44</td>\n",
       "      <td>1593.15</td>\n",
       "      <td>1406.82</td>\n",
       "      <td>14.62</td>\n",
       "      <td>...</td>\n",
       "      <td>521.18</td>\n",
       "      <td>2388.04</td>\n",
       "      <td>8217.24</td>\n",
       "      <td>8.4569</td>\n",
       "      <td>0.03</td>\n",
       "      <td>395</td>\n",
       "      <td>2388</td>\n",
       "      <td>100.0</td>\n",
       "      <td>38.62</td>\n",
       "      <td>23.2051</td>\n",
       "    </tr>\n",
       "    <tr>\n",
       "      <th>13093</th>\n",
       "      <td>100</td>\n",
       "      <td>197</td>\n",
       "      <td>-0.0038</td>\n",
       "      <td>0.0001</td>\n",
       "      <td>100.0</td>\n",
       "      <td>518.67</td>\n",
       "      <td>643.26</td>\n",
       "      <td>1594.99</td>\n",
       "      <td>1419.36</td>\n",
       "      <td>14.62</td>\n",
       "      <td>...</td>\n",
       "      <td>521.33</td>\n",
       "      <td>2388.08</td>\n",
       "      <td>8220.48</td>\n",
       "      <td>8.4711</td>\n",
       "      <td>0.03</td>\n",
       "      <td>395</td>\n",
       "      <td>2388</td>\n",
       "      <td>100.0</td>\n",
       "      <td>38.66</td>\n",
       "      <td>23.2699</td>\n",
       "    </tr>\n",
       "    <tr>\n",
       "      <th>13094</th>\n",
       "      <td>100</td>\n",
       "      <td>198</td>\n",
       "      <td>0.0013</td>\n",
       "      <td>0.0003</td>\n",
       "      <td>100.0</td>\n",
       "      <td>518.67</td>\n",
       "      <td>642.95</td>\n",
       "      <td>1601.62</td>\n",
       "      <td>1424.99</td>\n",
       "      <td>14.62</td>\n",
       "      <td>...</td>\n",
       "      <td>521.07</td>\n",
       "      <td>2388.05</td>\n",
       "      <td>8214.64</td>\n",
       "      <td>8.4903</td>\n",
       "      <td>0.03</td>\n",
       "      <td>396</td>\n",
       "      <td>2388</td>\n",
       "      <td>100.0</td>\n",
       "      <td>38.70</td>\n",
       "      <td>23.1855</td>\n",
       "    </tr>\n",
       "  </tbody>\n",
       "</table>\n",
       "<p>13095 rows × 26 columns</p>\n",
       "</div>"
      ],
      "text/plain": [
       "       unit_id  time  setting1  setting2  setting3      s1      s2       s3  \\\n",
       "0            1     2   -0.0027   -0.0003     100.0  518.67  641.71  1588.45   \n",
       "1            1     3    0.0003    0.0001     100.0  518.67  642.46  1586.94   \n",
       "2            1     4    0.0042    0.0000     100.0  518.67  642.44  1584.12   \n",
       "3            1     5    0.0014    0.0000     100.0  518.67  642.51  1587.19   \n",
       "4            1     6    0.0012    0.0003     100.0  518.67  642.11  1579.12   \n",
       "...        ...   ...       ...       ...       ...     ...     ...      ...   \n",
       "13090      100   194    0.0049    0.0000     100.0  518.67  643.24  1599.45   \n",
       "13091      100   195   -0.0011   -0.0001     100.0  518.67  643.22  1595.69   \n",
       "13092      100   196   -0.0006   -0.0003     100.0  518.67  643.44  1593.15   \n",
       "13093      100   197   -0.0038    0.0001     100.0  518.67  643.26  1594.99   \n",
       "13094      100   198    0.0013    0.0003     100.0  518.67  642.95  1601.62   \n",
       "\n",
       "            s4     s5  ...     s12      s13      s14     s15   s16  s17   s18  \\\n",
       "0      1395.42  14.62  ...  522.16  2388.06  8139.62  8.3803  0.03  393  2388   \n",
       "1      1401.34  14.62  ...  521.97  2388.03  8130.10  8.4441  0.03  393  2388   \n",
       "2      1406.42  14.62  ...  521.38  2388.05  8132.90  8.3917  0.03  391  2388   \n",
       "3      1401.92  14.62  ...  522.15  2388.03  8129.54  8.4031  0.03  390  2388   \n",
       "4      1395.13  14.62  ...  521.92  2388.08  8127.46  8.4238  0.03  392  2388   \n",
       "...        ...    ...  ...     ...      ...      ...     ...   ...  ...   ...   \n",
       "13090  1415.79  14.62  ...  520.69  2388.00  8213.28  8.4715  0.03  394  2388   \n",
       "13091  1422.05  14.62  ...  521.05  2388.09  8210.85  8.4512  0.03  395  2388   \n",
       "13092  1406.82  14.62  ...  521.18  2388.04  8217.24  8.4569  0.03  395  2388   \n",
       "13093  1419.36  14.62  ...  521.33  2388.08  8220.48  8.4711  0.03  395  2388   \n",
       "13094  1424.99  14.62  ...  521.07  2388.05  8214.64  8.4903  0.03  396  2388   \n",
       "\n",
       "         s19    s20      s21  \n",
       "0      100.0  39.02  23.3916  \n",
       "1      100.0  39.08  23.4166  \n",
       "2      100.0  39.00  23.3737  \n",
       "3      100.0  38.99  23.4130  \n",
       "4      100.0  38.91  23.3467  \n",
       "...      ...    ...      ...  \n",
       "13090  100.0  38.65  23.1974  \n",
       "13091  100.0  38.57  23.2771  \n",
       "13092  100.0  38.62  23.2051  \n",
       "13093  100.0  38.66  23.2699  \n",
       "13094  100.0  38.70  23.1855  \n",
       "\n",
       "[13095 rows x 26 columns]"
      ]
     },
     "execution_count": 4,
     "metadata": {},
     "output_type": "execute_result"
    }
   ],
   "source": [
    "original_test = pd.read_csv('dataTopicF/test_FD001_original.txt', sep='\\s+')\n",
    "original_test.columns = ['unit_id', 'time'] + list(test.columns)[:-1]\n",
    "original_test"
   ]
  },
  {
   "cell_type": "code",
   "execution_count": 5,
   "metadata": {},
   "outputs": [
    {
     "data": {
      "text/html": [
       "<div>\n",
       "<style scoped>\n",
       "    .dataframe tbody tr th:only-of-type {\n",
       "        vertical-align: middle;\n",
       "    }\n",
       "\n",
       "    .dataframe tbody tr th {\n",
       "        vertical-align: top;\n",
       "    }\n",
       "\n",
       "    .dataframe thead th {\n",
       "        text-align: right;\n",
       "    }\n",
       "</style>\n",
       "<table border=\"1\" class=\"dataframe\">\n",
       "  <thead>\n",
       "    <tr style=\"text-align: right;\">\n",
       "      <th></th>\n",
       "      <th>unit_id</th>\n",
       "      <th>time</th>\n",
       "      <th>setting1</th>\n",
       "      <th>setting2</th>\n",
       "      <th>setting3</th>\n",
       "      <th>s1</th>\n",
       "      <th>s2</th>\n",
       "      <th>s3</th>\n",
       "      <th>s4</th>\n",
       "      <th>s5</th>\n",
       "      <th>...</th>\n",
       "      <th>s12</th>\n",
       "      <th>s13</th>\n",
       "      <th>s14</th>\n",
       "      <th>s15</th>\n",
       "      <th>s16</th>\n",
       "      <th>s17</th>\n",
       "      <th>s18</th>\n",
       "      <th>s19</th>\n",
       "      <th>s20</th>\n",
       "      <th>s21</th>\n",
       "    </tr>\n",
       "  </thead>\n",
       "  <tbody>\n",
       "    <tr>\n",
       "      <th>0</th>\n",
       "      <td>1</td>\n",
       "      <td>31</td>\n",
       "      <td>-0.0006</td>\n",
       "      <td>0.0004</td>\n",
       "      <td>100.0</td>\n",
       "      <td>518.67</td>\n",
       "      <td>642.58</td>\n",
       "      <td>1581.22</td>\n",
       "      <td>1398.91</td>\n",
       "      <td>14.62</td>\n",
       "      <td>...</td>\n",
       "      <td>521.79</td>\n",
       "      <td>2388.06</td>\n",
       "      <td>8130.11</td>\n",
       "      <td>8.4024</td>\n",
       "      <td>0.03</td>\n",
       "      <td>393</td>\n",
       "      <td>2388</td>\n",
       "      <td>100.0</td>\n",
       "      <td>38.81</td>\n",
       "      <td>23.3552</td>\n",
       "    </tr>\n",
       "    <tr>\n",
       "      <th>1</th>\n",
       "      <td>2</td>\n",
       "      <td>49</td>\n",
       "      <td>0.0018</td>\n",
       "      <td>-0.0001</td>\n",
       "      <td>100.0</td>\n",
       "      <td>518.67</td>\n",
       "      <td>642.55</td>\n",
       "      <td>1586.59</td>\n",
       "      <td>1410.83</td>\n",
       "      <td>14.62</td>\n",
       "      <td>...</td>\n",
       "      <td>521.74</td>\n",
       "      <td>2388.09</td>\n",
       "      <td>8126.90</td>\n",
       "      <td>8.4505</td>\n",
       "      <td>0.03</td>\n",
       "      <td>391</td>\n",
       "      <td>2388</td>\n",
       "      <td>100.0</td>\n",
       "      <td>38.81</td>\n",
       "      <td>23.2618</td>\n",
       "    </tr>\n",
       "    <tr>\n",
       "      <th>2</th>\n",
       "      <td>3</td>\n",
       "      <td>126</td>\n",
       "      <td>-0.0016</td>\n",
       "      <td>0.0004</td>\n",
       "      <td>100.0</td>\n",
       "      <td>518.67</td>\n",
       "      <td>642.88</td>\n",
       "      <td>1589.75</td>\n",
       "      <td>1418.89</td>\n",
       "      <td>14.62</td>\n",
       "      <td>...</td>\n",
       "      <td>520.83</td>\n",
       "      <td>2388.14</td>\n",
       "      <td>8131.46</td>\n",
       "      <td>8.4119</td>\n",
       "      <td>0.03</td>\n",
       "      <td>395</td>\n",
       "      <td>2388</td>\n",
       "      <td>100.0</td>\n",
       "      <td>38.93</td>\n",
       "      <td>23.2740</td>\n",
       "    </tr>\n",
       "    <tr>\n",
       "      <th>3</th>\n",
       "      <td>4</td>\n",
       "      <td>106</td>\n",
       "      <td>0.0012</td>\n",
       "      <td>0.0004</td>\n",
       "      <td>100.0</td>\n",
       "      <td>518.67</td>\n",
       "      <td>642.78</td>\n",
       "      <td>1594.53</td>\n",
       "      <td>1406.88</td>\n",
       "      <td>14.62</td>\n",
       "      <td>...</td>\n",
       "      <td>521.88</td>\n",
       "      <td>2388.11</td>\n",
       "      <td>8133.64</td>\n",
       "      <td>8.4634</td>\n",
       "      <td>0.03</td>\n",
       "      <td>395</td>\n",
       "      <td>2388</td>\n",
       "      <td>100.0</td>\n",
       "      <td>38.58</td>\n",
       "      <td>23.2581</td>\n",
       "    </tr>\n",
       "    <tr>\n",
       "      <th>4</th>\n",
       "      <td>5</td>\n",
       "      <td>98</td>\n",
       "      <td>-0.0013</td>\n",
       "      <td>-0.0004</td>\n",
       "      <td>100.0</td>\n",
       "      <td>518.67</td>\n",
       "      <td>642.27</td>\n",
       "      <td>1589.94</td>\n",
       "      <td>1419.36</td>\n",
       "      <td>14.62</td>\n",
       "      <td>...</td>\n",
       "      <td>521.00</td>\n",
       "      <td>2388.15</td>\n",
       "      <td>8125.74</td>\n",
       "      <td>8.4362</td>\n",
       "      <td>0.03</td>\n",
       "      <td>394</td>\n",
       "      <td>2388</td>\n",
       "      <td>100.0</td>\n",
       "      <td>38.75</td>\n",
       "      <td>23.4117</td>\n",
       "    </tr>\n",
       "    <tr>\n",
       "      <th>...</th>\n",
       "      <td>...</td>\n",
       "      <td>...</td>\n",
       "      <td>...</td>\n",
       "      <td>...</td>\n",
       "      <td>...</td>\n",
       "      <td>...</td>\n",
       "      <td>...</td>\n",
       "      <td>...</td>\n",
       "      <td>...</td>\n",
       "      <td>...</td>\n",
       "      <td>...</td>\n",
       "      <td>...</td>\n",
       "      <td>...</td>\n",
       "      <td>...</td>\n",
       "      <td>...</td>\n",
       "      <td>...</td>\n",
       "      <td>...</td>\n",
       "      <td>...</td>\n",
       "      <td>...</td>\n",
       "      <td>...</td>\n",
       "      <td>...</td>\n",
       "    </tr>\n",
       "    <tr>\n",
       "      <th>95</th>\n",
       "      <td>96</td>\n",
       "      <td>97</td>\n",
       "      <td>-0.0006</td>\n",
       "      <td>0.0003</td>\n",
       "      <td>100.0</td>\n",
       "      <td>518.67</td>\n",
       "      <td>642.30</td>\n",
       "      <td>1590.88</td>\n",
       "      <td>1397.94</td>\n",
       "      <td>14.62</td>\n",
       "      <td>...</td>\n",
       "      <td>522.30</td>\n",
       "      <td>2388.01</td>\n",
       "      <td>8148.24</td>\n",
       "      <td>8.4110</td>\n",
       "      <td>0.03</td>\n",
       "      <td>391</td>\n",
       "      <td>2388</td>\n",
       "      <td>100.0</td>\n",
       "      <td>38.96</td>\n",
       "      <td>23.4606</td>\n",
       "    </tr>\n",
       "    <tr>\n",
       "      <th>96</th>\n",
       "      <td>97</td>\n",
       "      <td>134</td>\n",
       "      <td>0.0013</td>\n",
       "      <td>-0.0001</td>\n",
       "      <td>100.0</td>\n",
       "      <td>518.67</td>\n",
       "      <td>642.59</td>\n",
       "      <td>1582.96</td>\n",
       "      <td>1410.92</td>\n",
       "      <td>14.62</td>\n",
       "      <td>...</td>\n",
       "      <td>521.58</td>\n",
       "      <td>2388.06</td>\n",
       "      <td>8155.48</td>\n",
       "      <td>8.4500</td>\n",
       "      <td>0.03</td>\n",
       "      <td>395</td>\n",
       "      <td>2388</td>\n",
       "      <td>100.0</td>\n",
       "      <td>38.61</td>\n",
       "      <td>23.2953</td>\n",
       "    </tr>\n",
       "    <tr>\n",
       "      <th>97</th>\n",
       "      <td>98</td>\n",
       "      <td>121</td>\n",
       "      <td>0.0017</td>\n",
       "      <td>0.0001</td>\n",
       "      <td>100.0</td>\n",
       "      <td>518.67</td>\n",
       "      <td>642.68</td>\n",
       "      <td>1599.51</td>\n",
       "      <td>1415.47</td>\n",
       "      <td>14.62</td>\n",
       "      <td>...</td>\n",
       "      <td>521.53</td>\n",
       "      <td>2388.09</td>\n",
       "      <td>8146.39</td>\n",
       "      <td>8.4235</td>\n",
       "      <td>0.03</td>\n",
       "      <td>394</td>\n",
       "      <td>2388</td>\n",
       "      <td>100.0</td>\n",
       "      <td>38.76</td>\n",
       "      <td>23.3608</td>\n",
       "    </tr>\n",
       "    <tr>\n",
       "      <th>98</th>\n",
       "      <td>99</td>\n",
       "      <td>97</td>\n",
       "      <td>0.0047</td>\n",
       "      <td>-0.0000</td>\n",
       "      <td>100.0</td>\n",
       "      <td>518.67</td>\n",
       "      <td>642.00</td>\n",
       "      <td>1585.03</td>\n",
       "      <td>1397.98</td>\n",
       "      <td>14.62</td>\n",
       "      <td>...</td>\n",
       "      <td>521.82</td>\n",
       "      <td>2388.02</td>\n",
       "      <td>8150.38</td>\n",
       "      <td>8.4003</td>\n",
       "      <td>0.03</td>\n",
       "      <td>391</td>\n",
       "      <td>2388</td>\n",
       "      <td>100.0</td>\n",
       "      <td>38.95</td>\n",
       "      <td>23.3595</td>\n",
       "    </tr>\n",
       "    <tr>\n",
       "      <th>99</th>\n",
       "      <td>100</td>\n",
       "      <td>198</td>\n",
       "      <td>0.0013</td>\n",
       "      <td>0.0003</td>\n",
       "      <td>100.0</td>\n",
       "      <td>518.67</td>\n",
       "      <td>642.95</td>\n",
       "      <td>1601.62</td>\n",
       "      <td>1424.99</td>\n",
       "      <td>14.62</td>\n",
       "      <td>...</td>\n",
       "      <td>521.07</td>\n",
       "      <td>2388.05</td>\n",
       "      <td>8214.64</td>\n",
       "      <td>8.4903</td>\n",
       "      <td>0.03</td>\n",
       "      <td>396</td>\n",
       "      <td>2388</td>\n",
       "      <td>100.0</td>\n",
       "      <td>38.70</td>\n",
       "      <td>23.1855</td>\n",
       "    </tr>\n",
       "  </tbody>\n",
       "</table>\n",
       "<p>100 rows × 26 columns</p>\n",
       "</div>"
      ],
      "text/plain": [
       "   unit_id time  setting1  setting2  setting3      s1      s2       s3  \\\n",
       "0        1   31   -0.0006    0.0004     100.0  518.67  642.58  1581.22   \n",
       "1        2   49    0.0018   -0.0001     100.0  518.67  642.55  1586.59   \n",
       "2        3  126   -0.0016    0.0004     100.0  518.67  642.88  1589.75   \n",
       "3        4  106    0.0012    0.0004     100.0  518.67  642.78  1594.53   \n",
       "4        5   98   -0.0013   -0.0004     100.0  518.67  642.27  1589.94   \n",
       "..     ...  ...       ...       ...       ...     ...     ...      ...   \n",
       "95      96   97   -0.0006    0.0003     100.0  518.67  642.30  1590.88   \n",
       "96      97  134    0.0013   -0.0001     100.0  518.67  642.59  1582.96   \n",
       "97      98  121    0.0017    0.0001     100.0  518.67  642.68  1599.51   \n",
       "98      99   97    0.0047   -0.0000     100.0  518.67  642.00  1585.03   \n",
       "99     100  198    0.0013    0.0003     100.0  518.67  642.95  1601.62   \n",
       "\n",
       "         s4     s5  ...     s12      s13      s14     s15   s16  s17   s18  \\\n",
       "0   1398.91  14.62  ...  521.79  2388.06  8130.11  8.4024  0.03  393  2388   \n",
       "1   1410.83  14.62  ...  521.74  2388.09  8126.90  8.4505  0.03  391  2388   \n",
       "2   1418.89  14.62  ...  520.83  2388.14  8131.46  8.4119  0.03  395  2388   \n",
       "3   1406.88  14.62  ...  521.88  2388.11  8133.64  8.4634  0.03  395  2388   \n",
       "4   1419.36  14.62  ...  521.00  2388.15  8125.74  8.4362  0.03  394  2388   \n",
       "..      ...    ...  ...     ...      ...      ...     ...   ...  ...   ...   \n",
       "95  1397.94  14.62  ...  522.30  2388.01  8148.24  8.4110  0.03  391  2388   \n",
       "96  1410.92  14.62  ...  521.58  2388.06  8155.48  8.4500  0.03  395  2388   \n",
       "97  1415.47  14.62  ...  521.53  2388.09  8146.39  8.4235  0.03  394  2388   \n",
       "98  1397.98  14.62  ...  521.82  2388.02  8150.38  8.4003  0.03  391  2388   \n",
       "99  1424.99  14.62  ...  521.07  2388.05  8214.64  8.4903  0.03  396  2388   \n",
       "\n",
       "      s19    s20      s21  \n",
       "0   100.0  38.81  23.3552  \n",
       "1   100.0  38.81  23.2618  \n",
       "2   100.0  38.93  23.2740  \n",
       "3   100.0  38.58  23.2581  \n",
       "4   100.0  38.75  23.4117  \n",
       "..    ...    ...      ...  \n",
       "95  100.0  38.96  23.4606  \n",
       "96  100.0  38.61  23.2953  \n",
       "97  100.0  38.76  23.3608  \n",
       "98  100.0  38.95  23.3595  \n",
       "99  100.0  38.70  23.1855  \n",
       "\n",
       "[100 rows x 26 columns]"
      ]
     },
     "execution_count": 5,
     "metadata": {},
     "output_type": "execute_result"
    }
   ],
   "source": [
    "test_df = pd.DataFrame(columns=list(original_test.columns)) \n",
    "for i in range(1,101):\n",
    "    x = original_test.loc[original_test['unit_id'] == i]\n",
    "    last_cycle = max(x['time'])\n",
    "    to_test = original_test.loc[original_test['unit_id'] == i].loc[original_test['time'] == last_cycle]\n",
    "    test_df = test_df.append(to_test, ignore_index=True)\n",
    "test_df"
   ]
  },
  {
   "cell_type": "markdown",
   "metadata": {},
   "source": [
    "#### Filtering from the original dataset"
   ]
  },
  {
   "cell_type": "code",
   "execution_count": 6,
   "metadata": {},
   "outputs": [
    {
     "data": {
      "text/html": [
       "<div>\n",
       "<style scoped>\n",
       "    .dataframe tbody tr th:only-of-type {\n",
       "        vertical-align: middle;\n",
       "    }\n",
       "\n",
       "    .dataframe tbody tr th {\n",
       "        vertical-align: top;\n",
       "    }\n",
       "\n",
       "    .dataframe thead th {\n",
       "        text-align: right;\n",
       "    }\n",
       "</style>\n",
       "<table border=\"1\" class=\"dataframe\">\n",
       "  <thead>\n",
       "    <tr style=\"text-align: right;\">\n",
       "      <th></th>\n",
       "      <th>setting1</th>\n",
       "      <th>setting2</th>\n",
       "      <th>setting3</th>\n",
       "      <th>s1</th>\n",
       "      <th>s2</th>\n",
       "      <th>s3</th>\n",
       "      <th>s4</th>\n",
       "      <th>s5</th>\n",
       "      <th>s6</th>\n",
       "      <th>s7</th>\n",
       "      <th>...</th>\n",
       "      <th>s13</th>\n",
       "      <th>s14</th>\n",
       "      <th>s15</th>\n",
       "      <th>s16</th>\n",
       "      <th>s17</th>\n",
       "      <th>s18</th>\n",
       "      <th>s19</th>\n",
       "      <th>s20</th>\n",
       "      <th>s21</th>\n",
       "      <th>Failure_status</th>\n",
       "    </tr>\n",
       "  </thead>\n",
       "  <tbody>\n",
       "    <tr>\n",
       "      <th>0</th>\n",
       "      <td>-0.0006</td>\n",
       "      <td>0.0004</td>\n",
       "      <td>100.0</td>\n",
       "      <td>518.67</td>\n",
       "      <td>642.58</td>\n",
       "      <td>1581.22</td>\n",
       "      <td>1398.91</td>\n",
       "      <td>14.62</td>\n",
       "      <td>21.61</td>\n",
       "      <td>554.42</td>\n",
       "      <td>...</td>\n",
       "      <td>2388.06</td>\n",
       "      <td>8130.11</td>\n",
       "      <td>8.4024</td>\n",
       "      <td>0.03</td>\n",
       "      <td>393</td>\n",
       "      <td>2388</td>\n",
       "      <td>100.0</td>\n",
       "      <td>38.81</td>\n",
       "      <td>23.3552</td>\n",
       "      <td>no</td>\n",
       "    </tr>\n",
       "    <tr>\n",
       "      <th>1</th>\n",
       "      <td>0.0018</td>\n",
       "      <td>-0.0001</td>\n",
       "      <td>100.0</td>\n",
       "      <td>518.67</td>\n",
       "      <td>642.55</td>\n",
       "      <td>1586.59</td>\n",
       "      <td>1410.83</td>\n",
       "      <td>14.62</td>\n",
       "      <td>21.61</td>\n",
       "      <td>553.52</td>\n",
       "      <td>...</td>\n",
       "      <td>2388.09</td>\n",
       "      <td>8126.90</td>\n",
       "      <td>8.4505</td>\n",
       "      <td>0.03</td>\n",
       "      <td>391</td>\n",
       "      <td>2388</td>\n",
       "      <td>100.0</td>\n",
       "      <td>38.81</td>\n",
       "      <td>23.2618</td>\n",
       "      <td>no</td>\n",
       "    </tr>\n",
       "    <tr>\n",
       "      <th>2</th>\n",
       "      <td>-0.0016</td>\n",
       "      <td>0.0004</td>\n",
       "      <td>100.0</td>\n",
       "      <td>518.67</td>\n",
       "      <td>642.88</td>\n",
       "      <td>1589.75</td>\n",
       "      <td>1418.89</td>\n",
       "      <td>14.62</td>\n",
       "      <td>21.61</td>\n",
       "      <td>552.59</td>\n",
       "      <td>...</td>\n",
       "      <td>2388.14</td>\n",
       "      <td>8131.46</td>\n",
       "      <td>8.4119</td>\n",
       "      <td>0.03</td>\n",
       "      <td>395</td>\n",
       "      <td>2388</td>\n",
       "      <td>100.0</td>\n",
       "      <td>38.93</td>\n",
       "      <td>23.2740</td>\n",
       "      <td>no</td>\n",
       "    </tr>\n",
       "    <tr>\n",
       "      <th>3</th>\n",
       "      <td>0.0012</td>\n",
       "      <td>0.0004</td>\n",
       "      <td>100.0</td>\n",
       "      <td>518.67</td>\n",
       "      <td>642.78</td>\n",
       "      <td>1594.53</td>\n",
       "      <td>1406.88</td>\n",
       "      <td>14.62</td>\n",
       "      <td>21.61</td>\n",
       "      <td>552.64</td>\n",
       "      <td>...</td>\n",
       "      <td>2388.11</td>\n",
       "      <td>8133.64</td>\n",
       "      <td>8.4634</td>\n",
       "      <td>0.03</td>\n",
       "      <td>395</td>\n",
       "      <td>2388</td>\n",
       "      <td>100.0</td>\n",
       "      <td>38.58</td>\n",
       "      <td>23.2581</td>\n",
       "      <td>no</td>\n",
       "    </tr>\n",
       "    <tr>\n",
       "      <th>4</th>\n",
       "      <td>-0.0013</td>\n",
       "      <td>-0.0004</td>\n",
       "      <td>100.0</td>\n",
       "      <td>518.67</td>\n",
       "      <td>642.27</td>\n",
       "      <td>1589.94</td>\n",
       "      <td>1419.36</td>\n",
       "      <td>14.62</td>\n",
       "      <td>21.61</td>\n",
       "      <td>553.29</td>\n",
       "      <td>...</td>\n",
       "      <td>2388.15</td>\n",
       "      <td>8125.74</td>\n",
       "      <td>8.4362</td>\n",
       "      <td>0.03</td>\n",
       "      <td>394</td>\n",
       "      <td>2388</td>\n",
       "      <td>100.0</td>\n",
       "      <td>38.75</td>\n",
       "      <td>23.4117</td>\n",
       "      <td>no</td>\n",
       "    </tr>\n",
       "    <tr>\n",
       "      <th>...</th>\n",
       "      <td>...</td>\n",
       "      <td>...</td>\n",
       "      <td>...</td>\n",
       "      <td>...</td>\n",
       "      <td>...</td>\n",
       "      <td>...</td>\n",
       "      <td>...</td>\n",
       "      <td>...</td>\n",
       "      <td>...</td>\n",
       "      <td>...</td>\n",
       "      <td>...</td>\n",
       "      <td>...</td>\n",
       "      <td>...</td>\n",
       "      <td>...</td>\n",
       "      <td>...</td>\n",
       "      <td>...</td>\n",
       "      <td>...</td>\n",
       "      <td>...</td>\n",
       "      <td>...</td>\n",
       "      <td>...</td>\n",
       "      <td>...</td>\n",
       "    </tr>\n",
       "    <tr>\n",
       "      <th>95</th>\n",
       "      <td>-0.0006</td>\n",
       "      <td>0.0003</td>\n",
       "      <td>100.0</td>\n",
       "      <td>518.67</td>\n",
       "      <td>642.30</td>\n",
       "      <td>1590.88</td>\n",
       "      <td>1397.94</td>\n",
       "      <td>14.62</td>\n",
       "      <td>21.61</td>\n",
       "      <td>553.99</td>\n",
       "      <td>...</td>\n",
       "      <td>2388.01</td>\n",
       "      <td>8148.24</td>\n",
       "      <td>8.4110</td>\n",
       "      <td>0.03</td>\n",
       "      <td>391</td>\n",
       "      <td>2388</td>\n",
       "      <td>100.0</td>\n",
       "      <td>38.96</td>\n",
       "      <td>23.4606</td>\n",
       "      <td>no</td>\n",
       "    </tr>\n",
       "    <tr>\n",
       "      <th>96</th>\n",
       "      <td>0.0013</td>\n",
       "      <td>-0.0001</td>\n",
       "      <td>100.0</td>\n",
       "      <td>518.67</td>\n",
       "      <td>642.59</td>\n",
       "      <td>1582.96</td>\n",
       "      <td>1410.92</td>\n",
       "      <td>14.62</td>\n",
       "      <td>21.61</td>\n",
       "      <td>554.05</td>\n",
       "      <td>...</td>\n",
       "      <td>2388.06</td>\n",
       "      <td>8155.48</td>\n",
       "      <td>8.4500</td>\n",
       "      <td>0.03</td>\n",
       "      <td>395</td>\n",
       "      <td>2388</td>\n",
       "      <td>100.0</td>\n",
       "      <td>38.61</td>\n",
       "      <td>23.2953</td>\n",
       "      <td>no</td>\n",
       "    </tr>\n",
       "    <tr>\n",
       "      <th>97</th>\n",
       "      <td>0.0017</td>\n",
       "      <td>0.0001</td>\n",
       "      <td>100.0</td>\n",
       "      <td>518.67</td>\n",
       "      <td>642.68</td>\n",
       "      <td>1599.51</td>\n",
       "      <td>1415.47</td>\n",
       "      <td>14.62</td>\n",
       "      <td>21.61</td>\n",
       "      <td>553.44</td>\n",
       "      <td>...</td>\n",
       "      <td>2388.09</td>\n",
       "      <td>8146.39</td>\n",
       "      <td>8.4235</td>\n",
       "      <td>0.03</td>\n",
       "      <td>394</td>\n",
       "      <td>2388</td>\n",
       "      <td>100.0</td>\n",
       "      <td>38.76</td>\n",
       "      <td>23.3608</td>\n",
       "      <td>no</td>\n",
       "    </tr>\n",
       "    <tr>\n",
       "      <th>98</th>\n",
       "      <td>0.0047</td>\n",
       "      <td>-0.0000</td>\n",
       "      <td>100.0</td>\n",
       "      <td>518.67</td>\n",
       "      <td>642.00</td>\n",
       "      <td>1585.03</td>\n",
       "      <td>1397.98</td>\n",
       "      <td>14.62</td>\n",
       "      <td>21.61</td>\n",
       "      <td>554.75</td>\n",
       "      <td>...</td>\n",
       "      <td>2388.02</td>\n",
       "      <td>8150.38</td>\n",
       "      <td>8.4003</td>\n",
       "      <td>0.03</td>\n",
       "      <td>391</td>\n",
       "      <td>2388</td>\n",
       "      <td>100.0</td>\n",
       "      <td>38.95</td>\n",
       "      <td>23.3595</td>\n",
       "      <td>no</td>\n",
       "    </tr>\n",
       "    <tr>\n",
       "      <th>99</th>\n",
       "      <td>0.0013</td>\n",
       "      <td>0.0003</td>\n",
       "      <td>100.0</td>\n",
       "      <td>518.67</td>\n",
       "      <td>642.95</td>\n",
       "      <td>1601.62</td>\n",
       "      <td>1424.99</td>\n",
       "      <td>14.62</td>\n",
       "      <td>21.61</td>\n",
       "      <td>552.48</td>\n",
       "      <td>...</td>\n",
       "      <td>2388.05</td>\n",
       "      <td>8214.64</td>\n",
       "      <td>8.4903</td>\n",
       "      <td>0.03</td>\n",
       "      <td>396</td>\n",
       "      <td>2388</td>\n",
       "      <td>100.0</td>\n",
       "      <td>38.70</td>\n",
       "      <td>23.1855</td>\n",
       "      <td>yes</td>\n",
       "    </tr>\n",
       "  </tbody>\n",
       "</table>\n",
       "<p>100 rows × 25 columns</p>\n",
       "</div>"
      ],
      "text/plain": [
       "    setting1  setting2  setting3      s1      s2       s3       s4     s5  \\\n",
       "0    -0.0006    0.0004     100.0  518.67  642.58  1581.22  1398.91  14.62   \n",
       "1     0.0018   -0.0001     100.0  518.67  642.55  1586.59  1410.83  14.62   \n",
       "2    -0.0016    0.0004     100.0  518.67  642.88  1589.75  1418.89  14.62   \n",
       "3     0.0012    0.0004     100.0  518.67  642.78  1594.53  1406.88  14.62   \n",
       "4    -0.0013   -0.0004     100.0  518.67  642.27  1589.94  1419.36  14.62   \n",
       "..       ...       ...       ...     ...     ...      ...      ...    ...   \n",
       "95   -0.0006    0.0003     100.0  518.67  642.30  1590.88  1397.94  14.62   \n",
       "96    0.0013   -0.0001     100.0  518.67  642.59  1582.96  1410.92  14.62   \n",
       "97    0.0017    0.0001     100.0  518.67  642.68  1599.51  1415.47  14.62   \n",
       "98    0.0047   -0.0000     100.0  518.67  642.00  1585.03  1397.98  14.62   \n",
       "99    0.0013    0.0003     100.0  518.67  642.95  1601.62  1424.99  14.62   \n",
       "\n",
       "       s6      s7  ...      s13      s14     s15   s16  s17   s18    s19  \\\n",
       "0   21.61  554.42  ...  2388.06  8130.11  8.4024  0.03  393  2388  100.0   \n",
       "1   21.61  553.52  ...  2388.09  8126.90  8.4505  0.03  391  2388  100.0   \n",
       "2   21.61  552.59  ...  2388.14  8131.46  8.4119  0.03  395  2388  100.0   \n",
       "3   21.61  552.64  ...  2388.11  8133.64  8.4634  0.03  395  2388  100.0   \n",
       "4   21.61  553.29  ...  2388.15  8125.74  8.4362  0.03  394  2388  100.0   \n",
       "..    ...     ...  ...      ...      ...     ...   ...  ...   ...    ...   \n",
       "95  21.61  553.99  ...  2388.01  8148.24  8.4110  0.03  391  2388  100.0   \n",
       "96  21.61  554.05  ...  2388.06  8155.48  8.4500  0.03  395  2388  100.0   \n",
       "97  21.61  553.44  ...  2388.09  8146.39  8.4235  0.03  394  2388  100.0   \n",
       "98  21.61  554.75  ...  2388.02  8150.38  8.4003  0.03  391  2388  100.0   \n",
       "99  21.61  552.48  ...  2388.05  8214.64  8.4903  0.03  396  2388  100.0   \n",
       "\n",
       "      s20      s21 Failure_status  \n",
       "0   38.81  23.3552             no  \n",
       "1   38.81  23.2618             no  \n",
       "2   38.93  23.2740             no  \n",
       "3   38.58  23.2581             no  \n",
       "4   38.75  23.4117             no  \n",
       "..    ...      ...            ...  \n",
       "95  38.96  23.4606             no  \n",
       "96  38.61  23.2953             no  \n",
       "97  38.76  23.3608             no  \n",
       "98  38.95  23.3595             no  \n",
       "99  38.70  23.1855            yes  \n",
       "\n",
       "[100 rows x 25 columns]"
      ]
     },
     "execution_count": 6,
     "metadata": {},
     "output_type": "execute_result"
    }
   ],
   "source": [
    "test_df = test_df[[x for x in test_df.columns[2:]]] #Remove first 2 cols\n",
    "test = pd.merge(test_df, test, how ='inner', on =list(test_df.columns))\n",
    "test\n"
   ]
  },
  {
   "cell_type": "markdown",
   "metadata": {},
   "source": [
    "# Data Analysis\n",
    "-Remove rows with missing values\n",
    "-Remove duplicate rows\n",
    "-Check features/types\n",
    "  "
   ]
  },
  {
   "cell_type": "code",
   "execution_count": 7,
   "metadata": {},
   "outputs": [
    {
     "name": "stdout",
     "output_type": "stream",
     "text": [
      "Features: ['setting1', 'setting2', 'setting3', 's1', 's2', 's3', 's4', 's5', 's6', 's7', 's8', 's9', 's10', 's11', 's12', 's13', 's14', 's15', 's16', 's17', 's18', 's19', 's20', 's21', 'Failure_status']\n",
      "Entries in train dataset: 20631\n",
      "Missing Values in train dataset: 0\n",
      "Duplicate rows in train dataset: 0\n",
      "\n",
      "Entries in test dataset: 100\n",
      "Missing Values in test dataset: 0\n",
      "Duplicate rows in test dataset: 0\n"
     ]
    }
   ],
   "source": [
    "print(f\"Features: {list(train.columns)}\")\n",
    "print(f\"Entries in train dataset: {train.shape[0]}\")\n",
    "print(f\"Missing Values in train dataset: {train.isna().sum().sum()}\")\n",
    "print(f\"Duplicate rows in train dataset: {train[train.duplicated(keep=False)].shape[0]}\")\n",
    "print()\n",
    "print(f\"Entries in test dataset: {test.shape[0]}\")\n",
    "print(f\"Missing Values in test dataset: {test.isna().sum().sum()}\")\n",
    "print(f\"Duplicate rows in test dataset: {test[test.duplicated(keep=False)].shape[0]}\")"
   ]
  },
  {
   "cell_type": "markdown",
   "metadata": {},
   "source": [
    "### Class Imbalance\n",
    "\n",
    "The distribution of Failure status is important because it speaks to class imbalance within machine learning and data mining applications. \n",
    "Class imbalance is a term used to describe when a target class within a data set is outnumbered by another target class (or classes). \n",
    "This can create misleading accuracy metrics, known as an accuracy paradox. To make sure our target classes aren't imbalanced, create a function that will output the distribution of the target classes."
   ]
  },
  {
   "cell_type": "code",
   "execution_count": 8,
   "metadata": {},
   "outputs": [
    {
     "name": "stdout",
     "output_type": "stream",
     "text": [
      "Train dataset: Failure Status\n",
      " no     17531\n",
      "yes     3100\n",
      "Name: Failure_status, dtype: int64\n"
     ]
    }
   ],
   "source": [
    "print(f\"Train dataset: Failure Status\\n {train.iloc[:, train.shape[1]-1].value_counts()}\")"
   ]
  },
  {
   "cell_type": "code",
   "execution_count": 9,
   "metadata": {},
   "outputs": [
    {
     "name": "stdout",
     "output_type": "stream",
     "text": [
      "Test dataset: Failure Status\n",
      " no     75\n",
      "yes    25\n",
      "Name: Failure_status, dtype: int64\n"
     ]
    }
   ],
   "source": [
    "print(f\"Test dataset: Failure Status\\n {test.iloc[:, test.shape[1]-1].value_counts()}\")"
   ]
  },
  {
   "cell_type": "markdown",
   "metadata": {},
   "source": [
    "As we can see, the data is imbalanced in both datasets, furthermore we can actually visualize this disparity below"
   ]
  },
  {
   "cell_type": "code",
   "execution_count": 10,
   "metadata": {},
   "outputs": [
    {
     "data": {
      "image/png": "[encoded data removed]",
      "text/plain": [
       "<Figure size 432x288 with 1 Axes>"
      ]
     },
     "metadata": {
      "needs_background": "light"
     },
     "output_type": "display_data"
    }
   ],
   "source": [
    "x = train['Failure_status'].map({'yes':0,'no':1})\n",
    "a=x\n",
    "plt.hist(a)\n",
    "\n",
    "\n",
    "plt.title('Failure_status (Yes on the left, No on the right)')\n",
    "plt.show()"
   ]
  },
  {
   "cell_type": "markdown",
   "metadata": {},
   "source": [
    "# Pre Processing\n"
   ]
  },
  {
   "cell_type": "markdown",
   "metadata": {},
   "source": [
    "#### Feature Selection\n",
    "Some features which pose no value to our algorithm can be dropped"
   ]
  },
  {
   "cell_type": "code",
   "execution_count": 11,
   "metadata": {},
   "outputs": [
    {
     "name": "stdout",
     "output_type": "stream",
     "text": [
      "Features with no variance: ['setting3', 's1', 's5', 's10', 's16', 's18', 's19']\n"
     ]
    }
   ],
   "source": [
    "cols = list(train.select_dtypes(include=[float, int]).columns)\n",
    "train_max = train.select_dtypes(include=[float, int]).max()\n",
    "train_min = train.select_dtypes(include=[float, int]).min()\n",
    "variance = (train_max - train_min)\n",
    "\n",
    "dont_use_cols = [x for x in cols if variance[x] == 0]\n",
    "print(f\"Features with no variance: {dont_use_cols}\")\n",
    "cols.append(\"Failure_status\")\n",
    "#These features provide no useful value to the model, so they are dropped\n",
    "\n",
    "train = train[[x for x in cols if x not in dont_use_cols]]\n",
    "test = test[[x for x in cols if x not in dont_use_cols]]"
   ]
  },
  {
   "cell_type": "markdown",
   "metadata": {},
   "source": [
    "#### Normalization\n",
    "Values for each feature are really diverse and need to be normalized, below are all the values for the train dataset for all features excluding the ones with no variance"
   ]
  },
  {
   "cell_type": "code",
   "execution_count": 12,
   "metadata": {},
   "outputs": [
    {
     "data": {
      "image/png": "[encoded data removed]",
      "text/plain": [
       "<Figure size 1080x1080 with 18 Axes>"
      ]
     },
     "metadata": {
      "needs_background": "light"
     },
     "output_type": "display_data"
    }
   ],
   "source": [
    "#Joining both datasets to check values\n",
    "df = pd.concat([train, test])\n",
    "features_mean = train.select_dtypes(include=[float, int]).columns\n",
    "# Separating the data \n",
    "df_yes=df[df['Failure_status'] ==\"yes\"]\n",
    "df_no=df[df['Failure_status'] ==\"no\"]\n",
    "\n",
    "#Creating the window with all subplots.\n",
    "plt.rcParams.update({'font.size': 8})\n",
    "fig, axes = plt.subplots(nrows=6, ncols=3, figsize=(15,15))\n",
    "axes = axes.ravel()\n",
    "\n",
    "#Creating histograms with 50 bins\n",
    "for idx,ax in enumerate(axes):\n",
    "    if idx<len(features_mean):\n",
    "        ax.figure\n",
    "        ax.hist([df_yes[features_mean[idx]],df_no[features_mean[idx]]], bins = 50 ,alpha=0.5, stacked=True, label=['yes','no'],color=['r','g'])\n",
    "        ax.legend(loc='upper right')\n",
    "        ax.set_title(features_mean[idx])\n",
    "plt.tight_layout()\n",
    "plt.show()"
   ]
  },
  {
   "cell_type": "markdown",
   "metadata": {},
   "source": [
    "These values need to be normalized, we use the zscore"
   ]
  },
  {
   "cell_type": "code",
   "execution_count": 13,
   "metadata": {},
   "outputs": [
    {
     "name": "stderr",
     "output_type": "stream",
     "text": [
      "C:\\Users\\pedro\\AppData\\Local\\Temp/ipykernel_10708/1446048313.py:1: SettingWithCopyWarning: \n",
      "A value is trying to be set on a copy of a slice from a DataFrame.\n",
      "Try using .loc[row_indexer,col_indexer] = value instead\n",
      "\n",
      "See the caveats in the documentation: https://pandas.pydata.org/pandas-docs/stable/user_guide/indexing.html#returning-a-view-versus-a-copy\n",
      "  train['Failure_status'] = train['Failure_status'].map({'yes':0,'no':1})\n"
     ]
    },
    {
     "data": {
      "text/html": [
       "<div>\n",
       "<style scoped>\n",
       "    .dataframe tbody tr th:only-of-type {\n",
       "        vertical-align: middle;\n",
       "    }\n",
       "\n",
       "    .dataframe tbody tr th {\n",
       "        vertical-align: top;\n",
       "    }\n",
       "\n",
       "    .dataframe thead th {\n",
       "        text-align: right;\n",
       "    }\n",
       "</style>\n",
       "<table border=\"1\" class=\"dataframe\">\n",
       "  <thead>\n",
       "    <tr style=\"text-align: right;\">\n",
       "      <th></th>\n",
       "      <th>setting1</th>\n",
       "      <th>setting2</th>\n",
       "      <th>s2</th>\n",
       "      <th>s3</th>\n",
       "      <th>s4</th>\n",
       "      <th>s6</th>\n",
       "      <th>s7</th>\n",
       "      <th>s8</th>\n",
       "      <th>s9</th>\n",
       "      <th>s11</th>\n",
       "      <th>s12</th>\n",
       "      <th>s13</th>\n",
       "      <th>s14</th>\n",
       "      <th>s15</th>\n",
       "      <th>s17</th>\n",
       "      <th>s20</th>\n",
       "      <th>s21</th>\n",
       "    </tr>\n",
       "  </thead>\n",
       "  <tbody>\n",
       "    <tr>\n",
       "      <th>0</th>\n",
       "      <td>-0.315980</td>\n",
       "      <td>-1.372953</td>\n",
       "      <td>-1.721725</td>\n",
       "      <td>-0.134255</td>\n",
       "      <td>-0.925936</td>\n",
       "      <td>0.141683</td>\n",
       "      <td>1.121141</td>\n",
       "      <td>-0.516338</td>\n",
       "      <td>-0.862813</td>\n",
       "      <td>-0.266467</td>\n",
       "      <td>0.334262</td>\n",
       "      <td>-1.058890</td>\n",
       "      <td>-0.269071</td>\n",
       "      <td>-0.603816</td>\n",
       "      <td>-0.781710</td>\n",
       "      <td>1.348493</td>\n",
       "      <td>1.194427</td>\n",
       "    </tr>\n",
       "    <tr>\n",
       "      <th>1</th>\n",
       "      <td>0.872722</td>\n",
       "      <td>-1.031720</td>\n",
       "      <td>-1.061780</td>\n",
       "      <td>0.211528</td>\n",
       "      <td>-0.643726</td>\n",
       "      <td>0.141683</td>\n",
       "      <td>0.431930</td>\n",
       "      <td>-0.798093</td>\n",
       "      <td>-0.958818</td>\n",
       "      <td>-0.191583</td>\n",
       "      <td>1.174899</td>\n",
       "      <td>-0.363646</td>\n",
       "      <td>-0.642845</td>\n",
       "      <td>-0.275852</td>\n",
       "      <td>-0.781710</td>\n",
       "      <td>1.016528</td>\n",
       "      <td>1.236922</td>\n",
       "    </tr>\n",
       "    <tr>\n",
       "      <th>2</th>\n",
       "      <td>-1.961874</td>\n",
       "      <td>1.015677</td>\n",
       "      <td>-0.661813</td>\n",
       "      <td>-0.413166</td>\n",
       "      <td>-0.525953</td>\n",
       "      <td>0.141683</td>\n",
       "      <td>1.008155</td>\n",
       "      <td>-0.234584</td>\n",
       "      <td>-0.557139</td>\n",
       "      <td>-1.015303</td>\n",
       "      <td>1.364721</td>\n",
       "      <td>-0.919841</td>\n",
       "      <td>-0.551629</td>\n",
       "      <td>-0.649144</td>\n",
       "      <td>-2.073094</td>\n",
       "      <td>0.739891</td>\n",
       "      <td>0.503423</td>\n",
       "    </tr>\n",
       "    <tr>\n",
       "      <th>3</th>\n",
       "      <td>0.324090</td>\n",
       "      <td>-0.008022</td>\n",
       "      <td>-0.661813</td>\n",
       "      <td>-1.261314</td>\n",
       "      <td>-0.784831</td>\n",
       "      <td>0.141683</td>\n",
       "      <td>1.222827</td>\n",
       "      <td>0.188048</td>\n",
       "      <td>-0.713826</td>\n",
       "      <td>-1.539489</td>\n",
       "      <td>1.961302</td>\n",
       "      <td>-0.224597</td>\n",
       "      <td>-0.520176</td>\n",
       "      <td>-1.971665</td>\n",
       "      <td>-0.781710</td>\n",
       "      <td>0.352598</td>\n",
       "      <td>0.777792</td>\n",
       "    </tr>\n",
       "    <tr>\n",
       "      <th>4</th>\n",
       "      <td>-0.864611</td>\n",
       "      <td>-0.690488</td>\n",
       "      <td>-0.621816</td>\n",
       "      <td>-1.251528</td>\n",
       "      <td>-0.301518</td>\n",
       "      <td>0.141683</td>\n",
       "      <td>0.714393</td>\n",
       "      <td>-0.516338</td>\n",
       "      <td>-0.457059</td>\n",
       "      <td>-0.977861</td>\n",
       "      <td>1.052871</td>\n",
       "      <td>-0.780793</td>\n",
       "      <td>-0.521748</td>\n",
       "      <td>-0.339845</td>\n",
       "      <td>-0.136018</td>\n",
       "      <td>0.463253</td>\n",
       "      <td>1.059552</td>\n",
       "    </tr>\n",
       "    <tr>\n",
       "      <th>...</th>\n",
       "      <td>...</td>\n",
       "      <td>...</td>\n",
       "      <td>...</td>\n",
       "      <td>...</td>\n",
       "      <td>...</td>\n",
       "      <td>...</td>\n",
       "      <td>...</td>\n",
       "      <td>...</td>\n",
       "      <td>...</td>\n",
       "      <td>...</td>\n",
       "      <td>...</td>\n",
       "      <td>...</td>\n",
       "      <td>...</td>\n",
       "      <td>...</td>\n",
       "      <td>...</td>\n",
       "      <td>...</td>\n",
       "      <td>...</td>\n",
       "    </tr>\n",
       "    <tr>\n",
       "      <th>20626</th>\n",
       "      <td>-0.178822</td>\n",
       "      <td>-1.031720</td>\n",
       "      <td>1.618000</td>\n",
       "      <td>1.216258</td>\n",
       "      <td>2.188375</td>\n",
       "      <td>0.141683</td>\n",
       "      <td>-2.189329</td>\n",
       "      <td>1.315066</td>\n",
       "      <td>0.012547</td>\n",
       "      <td>1.980044</td>\n",
       "      <td>-2.607969</td>\n",
       "      <td>2.278282</td>\n",
       "      <td>-0.322542</td>\n",
       "      <td>1.425294</td>\n",
       "      <td>2.446751</td>\n",
       "      <td>-1.805173</td>\n",
       "      <td>-2.921113</td>\n",
       "    </tr>\n",
       "    <tr>\n",
       "      <th>20627</th>\n",
       "      <td>-0.727453</td>\n",
       "      <td>-1.714186</td>\n",
       "      <td>1.717992</td>\n",
       "      <td>2.279706</td>\n",
       "      <td>2.738351</td>\n",
       "      <td>0.141683</td>\n",
       "      <td>-2.833345</td>\n",
       "      <td>1.878576</td>\n",
       "      <td>-0.006020</td>\n",
       "      <td>1.867718</td>\n",
       "      <td>-2.350355</td>\n",
       "      <td>1.722087</td>\n",
       "      <td>-0.380207</td>\n",
       "      <td>1.913240</td>\n",
       "      <td>1.155367</td>\n",
       "      <td>-2.856395</td>\n",
       "      <td>-1.203764</td>\n",
       "    </tr>\n",
       "    <tr>\n",
       "      <th>20628</th>\n",
       "      <td>0.186933</td>\n",
       "      <td>-0.008022</td>\n",
       "      <td>1.478011</td>\n",
       "      <td>1.946971</td>\n",
       "      <td>2.138377</td>\n",
       "      <td>0.141683</td>\n",
       "      <td>-2.742957</td>\n",
       "      <td>2.019453</td>\n",
       "      <td>0.029755</td>\n",
       "      <td>2.054927</td>\n",
       "      <td>-1.902919</td>\n",
       "      <td>2.000184</td>\n",
       "      <td>-0.141684</td>\n",
       "      <td>3.265092</td>\n",
       "      <td>3.092444</td>\n",
       "      <td>-2.081810</td>\n",
       "      <td>-3.292481</td>\n",
       "    </tr>\n",
       "    <tr>\n",
       "      <th>20629</th>\n",
       "      <td>-0.498857</td>\n",
       "      <td>1.015677</td>\n",
       "      <td>1.098043</td>\n",
       "      <td>2.403666</td>\n",
       "      <td>1.955051</td>\n",
       "      <td>0.141683</td>\n",
       "      <td>-3.036719</td>\n",
       "      <td>2.160330</td>\n",
       "      <td>0.383884</td>\n",
       "      <td>3.178182</td>\n",
       "      <td>-2.363913</td>\n",
       "      <td>1.861136</td>\n",
       "      <td>-0.233948</td>\n",
       "      <td>2.579834</td>\n",
       "      <td>1.155367</td>\n",
       "      <td>-2.911722</td>\n",
       "      <td>-2.085072</td>\n",
       "    </tr>\n",
       "    <tr>\n",
       "      <th>20630</th>\n",
       "      <td>-1.458962</td>\n",
       "      <td>-1.714186</td>\n",
       "      <td>2.337940</td>\n",
       "      <td>1.607712</td>\n",
       "      <td>2.578358</td>\n",
       "      <td>0.141683</td>\n",
       "      <td>-2.912435</td>\n",
       "      <td>2.301208</td>\n",
       "      <td>-0.170405</td>\n",
       "      <td>2.466787</td>\n",
       "      <td>-2.865584</td>\n",
       "      <td>2.278282</td>\n",
       "      <td>-0.336696</td>\n",
       "      <td>1.638604</td>\n",
       "      <td>1.801059</td>\n",
       "      <td>-2.469103</td>\n",
       "      <td>-2.194080</td>\n",
       "    </tr>\n",
       "  </tbody>\n",
       "</table>\n",
       "<p>20631 rows × 17 columns</p>\n",
       "</div>"
      ],
      "text/plain": [
       "       setting1  setting2        s2        s3        s4        s6        s7  \\\n",
       "0     -0.315980 -1.372953 -1.721725 -0.134255 -0.925936  0.141683  1.121141   \n",
       "1      0.872722 -1.031720 -1.061780  0.211528 -0.643726  0.141683  0.431930   \n",
       "2     -1.961874  1.015677 -0.661813 -0.413166 -0.525953  0.141683  1.008155   \n",
       "3      0.324090 -0.008022 -0.661813 -1.261314 -0.784831  0.141683  1.222827   \n",
       "4     -0.864611 -0.690488 -0.621816 -1.251528 -0.301518  0.141683  0.714393   \n",
       "...         ...       ...       ...       ...       ...       ...       ...   \n",
       "20626 -0.178822 -1.031720  1.618000  1.216258  2.188375  0.141683 -2.189329   \n",
       "20627 -0.727453 -1.714186  1.717992  2.279706  2.738351  0.141683 -2.833345   \n",
       "20628  0.186933 -0.008022  1.478011  1.946971  2.138377  0.141683 -2.742957   \n",
       "20629 -0.498857  1.015677  1.098043  2.403666  1.955051  0.141683 -3.036719   \n",
       "20630 -1.458962 -1.714186  2.337940  1.607712  2.578358  0.141683 -2.912435   \n",
       "\n",
       "             s8        s9       s11       s12       s13       s14       s15  \\\n",
       "0     -0.516338 -0.862813 -0.266467  0.334262 -1.058890 -0.269071 -0.603816   \n",
       "1     -0.798093 -0.958818 -0.191583  1.174899 -0.363646 -0.642845 -0.275852   \n",
       "2     -0.234584 -0.557139 -1.015303  1.364721 -0.919841 -0.551629 -0.649144   \n",
       "3      0.188048 -0.713826 -1.539489  1.961302 -0.224597 -0.520176 -1.971665   \n",
       "4     -0.516338 -0.457059 -0.977861  1.052871 -0.780793 -0.521748 -0.339845   \n",
       "...         ...       ...       ...       ...       ...       ...       ...   \n",
       "20626  1.315066  0.012547  1.980044 -2.607969  2.278282 -0.322542  1.425294   \n",
       "20627  1.878576 -0.006020  1.867718 -2.350355  1.722087 -0.380207  1.913240   \n",
       "20628  2.019453  0.029755  2.054927 -1.902919  2.000184 -0.141684  3.265092   \n",
       "20629  2.160330  0.383884  3.178182 -2.363913  1.861136 -0.233948  2.579834   \n",
       "20630  2.301208 -0.170405  2.466787 -2.865584  2.278282 -0.336696  1.638604   \n",
       "\n",
       "            s17       s20       s21  \n",
       "0     -0.781710  1.348493  1.194427  \n",
       "1     -0.781710  1.016528  1.236922  \n",
       "2     -2.073094  0.739891  0.503423  \n",
       "3     -0.781710  0.352598  0.777792  \n",
       "4     -0.136018  0.463253  1.059552  \n",
       "...         ...       ...       ...  \n",
       "20626  2.446751 -1.805173 -2.921113  \n",
       "20627  1.155367 -2.856395 -1.203764  \n",
       "20628  3.092444 -2.081810 -3.292481  \n",
       "20629  1.155367 -2.911722 -2.085072  \n",
       "20630  1.801059 -2.469103 -2.194080  \n",
       "\n",
       "[20631 rows x 17 columns]"
      ]
     },
     "execution_count": 13,
     "metadata": {},
     "output_type": "execute_result"
    }
   ],
   "source": [
    "train['Failure_status'] = train['Failure_status'].map({'yes':0,'no':1})\n",
    "X_train = train.iloc[:, :train.shape[1]-1]\n",
    "Y_train = train.iloc[:, train.shape[1]-1]\n",
    "cols = X_train.columns\n",
    "for col in cols:\n",
    "    X_train[col] = (X_train[col] - X_train[col].mean())/X_train[col].std(ddof=0)\n",
    "X_train"
   ]
  },
  {
   "cell_type": "code",
   "execution_count": 14,
   "metadata": {},
   "outputs": [
    {
     "name": "stderr",
     "output_type": "stream",
     "text": [
      "C:\\Users\\pedro\\AppData\\Local\\Temp/ipykernel_10708/1243296297.py:1: SettingWithCopyWarning: \n",
      "A value is trying to be set on a copy of a slice from a DataFrame.\n",
      "Try using .loc[row_indexer,col_indexer] = value instead\n",
      "\n",
      "See the caveats in the documentation: https://pandas.pydata.org/pandas-docs/stable/user_guide/indexing.html#returning-a-view-versus-a-copy\n",
      "  test['Failure_status'] = test['Failure_status'].map({'yes':0,'no':1})\n"
     ]
    },
    {
     "data": {
      "text/html": [
       "<div>\n",
       "<style scoped>\n",
       "    .dataframe tbody tr th:only-of-type {\n",
       "        vertical-align: middle;\n",
       "    }\n",
       "\n",
       "    .dataframe tbody tr th {\n",
       "        vertical-align: top;\n",
       "    }\n",
       "\n",
       "    .dataframe thead th {\n",
       "        text-align: right;\n",
       "    }\n",
       "</style>\n",
       "<table border=\"1\" class=\"dataframe\">\n",
       "  <thead>\n",
       "    <tr style=\"text-align: right;\">\n",
       "      <th></th>\n",
       "      <th>setting1</th>\n",
       "      <th>setting2</th>\n",
       "      <th>s2</th>\n",
       "      <th>s3</th>\n",
       "      <th>s4</th>\n",
       "      <th>s6</th>\n",
       "      <th>s7</th>\n",
       "      <th>s8</th>\n",
       "      <th>s9</th>\n",
       "      <th>s11</th>\n",
       "      <th>s12</th>\n",
       "      <th>s13</th>\n",
       "      <th>s14</th>\n",
       "      <th>s15</th>\n",
       "      <th>s17</th>\n",
       "      <th>s20</th>\n",
       "      <th>s21</th>\n",
       "    </tr>\n",
       "  </thead>\n",
       "  <tbody>\n",
       "    <tr>\n",
       "      <th>0</th>\n",
       "      <td>-0.225120</td>\n",
       "      <td>1.240071</td>\n",
       "      <td>-0.425894</td>\n",
       "      <td>-1.603619</td>\n",
       "      <td>-1.355943</td>\n",
       "      <td>0.100504</td>\n",
       "      <td>1.451228</td>\n",
       "      <td>-0.607375</td>\n",
       "      <td>-0.333751</td>\n",
       "      <td>-1.427840</td>\n",
       "      <td>0.739155</td>\n",
       "      <td>-0.842309</td>\n",
       "      <td>-0.657866</td>\n",
       "      <td>-1.537896</td>\n",
       "      <td>-0.356332</td>\n",
       "      <td>0.291274</td>\n",
       "      <td>0.994198</td>\n",
       "    </tr>\n",
       "    <tr>\n",
       "      <th>1</th>\n",
       "      <td>0.800093</td>\n",
       "      <td>-0.400235</td>\n",
       "      <td>-0.493712</td>\n",
       "      <td>-0.791580</td>\n",
       "      <td>0.032832</td>\n",
       "      <td>0.100504</td>\n",
       "      <td>0.423689</td>\n",
       "      <td>-0.296697</td>\n",
       "      <td>-0.865218</td>\n",
       "      <td>0.292920</td>\n",
       "      <td>0.667113</td>\n",
       "      <td>-0.401310</td>\n",
       "      <td>-0.831042</td>\n",
       "      <td>-0.071375</td>\n",
       "      <td>-1.726838</td>\n",
       "      <td>0.291274</td>\n",
       "      <td>0.021750</td>\n",
       "    </tr>\n",
       "    <tr>\n",
       "      <th>2</th>\n",
       "      <td>-0.652292</td>\n",
       "      <td>1.240071</td>\n",
       "      <td>0.252281</td>\n",
       "      <td>-0.313732</td>\n",
       "      <td>0.971886</td>\n",
       "      <td>0.100504</td>\n",
       "      <td>-0.638102</td>\n",
       "      <td>0.635336</td>\n",
       "      <td>-0.660034</td>\n",
       "      <td>1.114192</td>\n",
       "      <td>-0.644059</td>\n",
       "      <td>0.333690</td>\n",
       "      <td>-0.585035</td>\n",
       "      <td>-1.248251</td>\n",
       "      <td>1.014175</td>\n",
       "      <td>1.064567</td>\n",
       "      <td>0.148772</td>\n",
       "    </tr>\n",
       "    <tr>\n",
       "      <th>3</th>\n",
       "      <td>0.543790</td>\n",
       "      <td>1.240071</td>\n",
       "      <td>0.026223</td>\n",
       "      <td>0.409090</td>\n",
       "      <td>-0.427375</td>\n",
       "      <td>0.100504</td>\n",
       "      <td>-0.581016</td>\n",
       "      <td>0.169319</td>\n",
       "      <td>-0.566810</td>\n",
       "      <td>0.214704</td>\n",
       "      <td>0.868832</td>\n",
       "      <td>-0.107310</td>\n",
       "      <td>-0.467426</td>\n",
       "      <td>0.321934</td>\n",
       "      <td>1.014175</td>\n",
       "      <td>-1.190872</td>\n",
       "      <td>-0.016773</td>\n",
       "    </tr>\n",
       "    <tr>\n",
       "      <th>4</th>\n",
       "      <td>-0.524140</td>\n",
       "      <td>-1.384418</td>\n",
       "      <td>-1.126675</td>\n",
       "      <td>-0.285000</td>\n",
       "      <td>1.026645</td>\n",
       "      <td>0.100504</td>\n",
       "      <td>0.161095</td>\n",
       "      <td>-0.296697</td>\n",
       "      <td>-0.443883</td>\n",
       "      <td>-0.528352</td>\n",
       "      <td>-0.399115</td>\n",
       "      <td>0.480690</td>\n",
       "      <td>-0.893623</td>\n",
       "      <td>-0.507368</td>\n",
       "      <td>0.328921</td>\n",
       "      <td>-0.095373</td>\n",
       "      <td>1.582456</td>\n",
       "    </tr>\n",
       "    <tr>\n",
       "      <th>...</th>\n",
       "      <td>...</td>\n",
       "      <td>...</td>\n",
       "      <td>...</td>\n",
       "      <td>...</td>\n",
       "      <td>...</td>\n",
       "      <td>...</td>\n",
       "      <td>...</td>\n",
       "      <td>...</td>\n",
       "      <td>...</td>\n",
       "      <td>...</td>\n",
       "      <td>...</td>\n",
       "      <td>...</td>\n",
       "      <td>...</td>\n",
       "      <td>...</td>\n",
       "      <td>...</td>\n",
       "      <td>...</td>\n",
       "      <td>...</td>\n",
       "    </tr>\n",
       "    <tr>\n",
       "      <th>95</th>\n",
       "      <td>-0.225120</td>\n",
       "      <td>0.912010</td>\n",
       "      <td>-1.058858</td>\n",
       "      <td>-0.142855</td>\n",
       "      <td>-1.468956</td>\n",
       "      <td>0.100504</td>\n",
       "      <td>0.960293</td>\n",
       "      <td>-1.384069</td>\n",
       "      <td>-0.059106</td>\n",
       "      <td>-1.779813</td>\n",
       "      <td>1.473988</td>\n",
       "      <td>-1.577309</td>\n",
       "      <td>0.320231</td>\n",
       "      <td>-1.275691</td>\n",
       "      <td>-1.726838</td>\n",
       "      <td>1.257891</td>\n",
       "      <td>2.091585</td>\n",
       "    </tr>\n",
       "    <tr>\n",
       "      <th>96</th>\n",
       "      <td>0.586507</td>\n",
       "      <td>-0.400235</td>\n",
       "      <td>-0.403288</td>\n",
       "      <td>-1.340501</td>\n",
       "      <td>0.043318</td>\n",
       "      <td>0.100504</td>\n",
       "      <td>1.028795</td>\n",
       "      <td>-0.918053</td>\n",
       "      <td>0.578381</td>\n",
       "      <td>-0.841217</td>\n",
       "      <td>0.436577</td>\n",
       "      <td>-0.842309</td>\n",
       "      <td>0.710822</td>\n",
       "      <td>-0.086619</td>\n",
       "      <td>1.014175</td>\n",
       "      <td>-0.997549</td>\n",
       "      <td>0.370540</td>\n",
       "    </tr>\n",
       "    <tr>\n",
       "      <th>97</th>\n",
       "      <td>0.757376</td>\n",
       "      <td>0.255888</td>\n",
       "      <td>-0.199836</td>\n",
       "      <td>1.162154</td>\n",
       "      <td>0.573429</td>\n",
       "      <td>0.100504</td>\n",
       "      <td>0.332352</td>\n",
       "      <td>0.169319</td>\n",
       "      <td>-0.062305</td>\n",
       "      <td>0.253812</td>\n",
       "      <td>0.364535</td>\n",
       "      <td>-0.401310</td>\n",
       "      <td>0.220425</td>\n",
       "      <td>-0.894578</td>\n",
       "      <td>0.328921</td>\n",
       "      <td>-0.030932</td>\n",
       "      <td>1.052503</td>\n",
       "    </tr>\n",
       "    <tr>\n",
       "      <th>98</th>\n",
       "      <td>2.038893</td>\n",
       "      <td>-0.072173</td>\n",
       "      <td>-1.737033</td>\n",
       "      <td>-1.027480</td>\n",
       "      <td>-1.464295</td>\n",
       "      <td>0.100504</td>\n",
       "      <td>1.827992</td>\n",
       "      <td>-1.694747</td>\n",
       "      <td>0.157960</td>\n",
       "      <td>-1.310515</td>\n",
       "      <td>0.782381</td>\n",
       "      <td>-1.430309</td>\n",
       "      <td>0.435682</td>\n",
       "      <td>-1.601923</td>\n",
       "      <td>-1.726838</td>\n",
       "      <td>1.193450</td>\n",
       "      <td>1.038968</td>\n",
       "    </tr>\n",
       "    <tr>\n",
       "      <th>99</th>\n",
       "      <td>0.586507</td>\n",
       "      <td>0.912010</td>\n",
       "      <td>0.410522</td>\n",
       "      <td>1.481224</td>\n",
       "      <td>1.682585</td>\n",
       "      <td>0.100504</td>\n",
       "      <td>-0.763690</td>\n",
       "      <td>-0.918053</td>\n",
       "      <td>4.173441</td>\n",
       "      <td>0.801327</td>\n",
       "      <td>-0.298256</td>\n",
       "      <td>-0.989309</td>\n",
       "      <td>3.902449</td>\n",
       "      <td>1.142088</td>\n",
       "      <td>1.699428</td>\n",
       "      <td>-0.417578</td>\n",
       "      <td>-0.772659</td>\n",
       "    </tr>\n",
       "  </tbody>\n",
       "</table>\n",
       "<p>100 rows × 17 columns</p>\n",
       "</div>"
      ],
      "text/plain": [
       "    setting1  setting2        s2        s3        s4        s6        s7  \\\n",
       "0  -0.225120  1.240071 -0.425894 -1.603619 -1.355943  0.100504  1.451228   \n",
       "1   0.800093 -0.400235 -0.493712 -0.791580  0.032832  0.100504  0.423689   \n",
       "2  -0.652292  1.240071  0.252281 -0.313732  0.971886  0.100504 -0.638102   \n",
       "3   0.543790  1.240071  0.026223  0.409090 -0.427375  0.100504 -0.581016   \n",
       "4  -0.524140 -1.384418 -1.126675 -0.285000  1.026645  0.100504  0.161095   \n",
       "..       ...       ...       ...       ...       ...       ...       ...   \n",
       "95 -0.225120  0.912010 -1.058858 -0.142855 -1.468956  0.100504  0.960293   \n",
       "96  0.586507 -0.400235 -0.403288 -1.340501  0.043318  0.100504  1.028795   \n",
       "97  0.757376  0.255888 -0.199836  1.162154  0.573429  0.100504  0.332352   \n",
       "98  2.038893 -0.072173 -1.737033 -1.027480 -1.464295  0.100504  1.827992   \n",
       "99  0.586507  0.912010  0.410522  1.481224  1.682585  0.100504 -0.763690   \n",
       "\n",
       "          s8        s9       s11       s12       s13       s14       s15  \\\n",
       "0  -0.607375 -0.333751 -1.427840  0.739155 -0.842309 -0.657866 -1.537896   \n",
       "1  -0.296697 -0.865218  0.292920  0.667113 -0.401310 -0.831042 -0.071375   \n",
       "2   0.635336 -0.660034  1.114192 -0.644059  0.333690 -0.585035 -1.248251   \n",
       "3   0.169319 -0.566810  0.214704  0.868832 -0.107310 -0.467426  0.321934   \n",
       "4  -0.296697 -0.443883 -0.528352 -0.399115  0.480690 -0.893623 -0.507368   \n",
       "..       ...       ...       ...       ...       ...       ...       ...   \n",
       "95 -1.384069 -0.059106 -1.779813  1.473988 -1.577309  0.320231 -1.275691   \n",
       "96 -0.918053  0.578381 -0.841217  0.436577 -0.842309  0.710822 -0.086619   \n",
       "97  0.169319 -0.062305  0.253812  0.364535 -0.401310  0.220425 -0.894578   \n",
       "98 -1.694747  0.157960 -1.310515  0.782381 -1.430309  0.435682 -1.601923   \n",
       "99 -0.918053  4.173441  0.801327 -0.298256 -0.989309  3.902449  1.142088   \n",
       "\n",
       "         s17       s20       s21  \n",
       "0  -0.356332  0.291274  0.994198  \n",
       "1  -1.726838  0.291274  0.021750  \n",
       "2   1.014175  1.064567  0.148772  \n",
       "3   1.014175 -1.190872 -0.016773  \n",
       "4   0.328921 -0.095373  1.582456  \n",
       "..       ...       ...       ...  \n",
       "95 -1.726838  1.257891  2.091585  \n",
       "96  1.014175 -0.997549  0.370540  \n",
       "97  0.328921 -0.030932  1.052503  \n",
       "98 -1.726838  1.193450  1.038968  \n",
       "99  1.699428 -0.417578 -0.772659  \n",
       "\n",
       "[100 rows x 17 columns]"
      ]
     },
     "execution_count": 14,
     "metadata": {},
     "output_type": "execute_result"
    }
   ],
   "source": [
    "test['Failure_status'] = test['Failure_status'].map({'yes':0,'no':1})\n",
    "X_test = test.iloc[:, :test.shape[1]-1]\n",
    "Y_test = test.iloc[:, test.shape[1]-1]\n",
    "\n",
    "cols = X_test.columns\n",
    "for col in cols:\n",
    "    X_test[col] = (X_test[col] - X_test[col].mean())/X_test[col].std(ddof=0)\n",
    "X_test"
   ]
  },
  {
   "cell_type": "code",
   "execution_count": 15,
   "metadata": {},
   "outputs": [
    {
     "data": {
      "image/png": "[encoded data removed]",
      "text/plain": [
       "<Figure size 1080x1080 with 18 Axes>"
      ]
     },
     "metadata": {
      "needs_background": "light"
     },
     "output_type": "display_data"
    }
   ],
   "source": [
    "#Joining all datasets to check values\n",
    "train = X_train.assign(Failure_status = Y_train)\n",
    "test =  X_test.assign(Failure_status = Y_test)\n",
    "\n",
    "\n",
    "df = pd.concat([train, test])\n",
    "features_mean = df.columns[:-1]\n",
    "\n",
    "# Separating the data \n",
    "df_yes=df[df['Failure_status'] ==0]\n",
    "df_no=df[df['Failure_status'] ==1]\n",
    "\n",
    "\n",
    "#Creating the window with all subplots.\n",
    "plt.rcParams.update({'font.size': 8})\n",
    "fig, axes = plt.subplots(nrows=6, ncols=3, figsize=(15,15))\n",
    "axes = axes.ravel()\n",
    "#Creating histograms with 50 bins\n",
    "for idx,ax in enumerate(axes):\n",
    "    if idx<len(features_mean):\n",
    "        ax.figure\n",
    "        ax.hist([df_yes[features_mean[idx]],df_no[features_mean[idx]]], bins = 50 ,alpha=0.5, stacked=True, label=['yes','no'],color=['r','g'])\n",
    "        ax.legend(loc='upper right')\n",
    "        ax.set_title(features_mean[idx])\n",
    "plt.tight_layout()\n",
    "plt.show()"
   ]
  },
  {
   "cell_type": "code",
   "execution_count": 16,
   "metadata": {},
   "outputs": [
    {
     "name": "stdout",
     "output_type": "stream",
     "text": [
      "Rank  \t index\t\t f-score\n",
      "1º:\t s11 \t\t 16413.344931794476\n",
      "2º:\t s4 \t\t 14964.686354057492\n",
      "3º:\t s12 \t\t 14324.885300408052\n",
      "4º:\t s7 \t\t 13264.886445366566\n",
      "5º:\t s15 \t\t 12796.099149251731\n",
      "6º:\t s21 \t\t 12002.45185423512\n",
      "7º:\t s20 \t\t 11598.502905676201\n",
      "8º:\t s17 \t\t 10625.481293251145\n",
      "9º:\t s2 \t\t 10534.073664613947\n",
      "10º:\t s3 \t\t 9518.132134893915\n",
      "11º:\t s8 \t\t 8621.677328516585\n",
      "12º:\t s13 \t\t 8487.760633439253\n",
      "13º:\t s9 \t\t 4406.586921226188\n",
      "14º:\t s14 \t\t 2715.5251717918427\n",
      "15º:\t s6 \t\t 73.48776580634305\n",
      "16º:\t setting1 \t\t 2.2743512391580785\n",
      "17º:\t setting2 \t\t 1.823783641342156\n"
     ]
    }
   ],
   "source": [
    "k_bestfeatures = SelectKBest(score_func = f_classif)\n",
    "rankings = k_bestfeatures.fit(X_train,Y_train)\n",
    "features_names = reversed(rankings.feature_names_in_)\n",
    "b=list(rankings.scores_)\n",
    "\n",
    "a=list(range(0,len(b)))\n",
    "\n",
    "sf = [g for _,g in sorted(zip(b,a))]\n",
    "c=1\n",
    "sf=reversed(sf)\n",
    "print('Rank  \\t','index\\t\\t f-score')\n",
    "inx=[]\n",
    "for chosen in sf:\n",
    "    print(str(c)+'º:\\t', rankings.feature_names_in_[chosen],'\\t\\t', b[chosen])\n",
    "    c+=1\n",
    "\n"
   ]
  },
  {
   "cell_type": "markdown",
   "metadata": {},
   "source": [
    "#### PCA\n",
    "PCA will be used for dimension reduction, which in turn will speed up the algorithms.\n",
    "We're reducing the dataset into 2 dimensions.\n",
    "\n",
    "The new components are just the two main dimensions of variation."
   ]
  },
  {
   "cell_type": "code",
   "execution_count": 17,
   "metadata": {},
   "outputs": [],
   "source": [
    "X_train = train.iloc[:, :train.shape[1]-1]\n",
    "Y_train = train.iloc[:, train.shape[1]-1]\n",
    "X_test = test.iloc[:, :test.shape[1]-1]\n",
    "Y_test = test.iloc[:, test.shape[1]-1]\n"
   ]
  },
  {
   "cell_type": "code",
   "execution_count": 18,
   "metadata": {},
   "outputs": [],
   "source": [
    "pca = PCA(n_components=2)\n",
    "X_train = (pca.fit_transform(X_train))\n",
    "X_test = (pca.fit_transform(X_test))"
   ]
  },
  {
   "cell_type": "code",
   "execution_count": 19,
   "metadata": {},
   "outputs": [
    {
     "data": {
      "text/plain": [
       "array([[-2.95277954, -0.43206392],\n",
       "       [-2.36366947, -0.78687652],\n",
       "       [-2.97866486, -0.5525259 ],\n",
       "       ...,\n",
       "       [ 8.00015682, -0.72535421],\n",
       "       [ 7.74525351, -0.78202933],\n",
       "       [ 7.84481427, -1.32217363]])"
      ]
     },
     "execution_count": 19,
     "metadata": {},
     "output_type": "execute_result"
    }
   ],
   "source": [
    "X_train"
   ]
  },
  {
   "cell_type": "code",
   "execution_count": 20,
   "metadata": {},
   "outputs": [
    {
     "data": {
      "text/plain": [
       "array([[-3.41259176, -0.75056067],\n",
       "       [-1.3958401 , -1.12706733],\n",
       "       [ 0.82166908, -1.16933587],\n",
       "       [ 0.5205044 , -0.52280446],\n",
       "       [-0.44193287, -1.07672689],\n",
       "       [-1.28897176, -0.79219087],\n",
       "       [-2.70383523,  0.6625359 ],\n",
       "       [ 0.55236249, -0.93607711],\n",
       "       [-0.87204804, -0.95848922],\n",
       "       [-1.2403943 , -0.12326103],\n",
       "       [ 1.0126447 , -2.42161741],\n",
       "       [-1.808292  ,  1.43493172],\n",
       "       [-0.50512716,  0.07309689],\n",
       "       [-0.05941026, -1.74894171],\n",
       "       [-3.64481428, -0.72869869],\n",
       "       [-2.58311778,  0.1191682 ],\n",
       "       [-0.49833342,  2.71113252],\n",
       "       [ 1.5220395 , -0.44815292],\n",
       "       [-1.49895927, -0.16280052],\n",
       "       [ 4.76898058,  0.28494743],\n",
       "       [-2.78567268,  1.63910523],\n",
       "       [-2.47625036, -0.78046858],\n",
       "       [-3.36143553, -0.6743762 ],\n",
       "       [ 0.81720776,  5.40351277],\n",
       "       [-2.05495494, -0.79519139],\n",
       "       [-3.90751673,  1.03622064],\n",
       "       [-1.73181328, -1.22319686],\n",
       "       [-0.75926895, -0.1846057 ],\n",
       "       [-2.03856892,  0.50727627],\n",
       "       [ 0.30351158, -0.36136833],\n",
       "       [ 4.78377838,  1.14612131],\n",
       "       [-1.81314745,  2.75909572],\n",
       "       [-0.88381867, -0.88334341],\n",
       "       [ 6.81018321, -1.86711083],\n",
       "       [ 5.95765564,  0.63427275],\n",
       "       [ 4.11187477, -0.45684944],\n",
       "       [ 2.03556152, -1.60448346],\n",
       "       [ 1.012544  ,  1.12536216],\n",
       "       [-4.25379584,  0.3619395 ],\n",
       "       [ 4.07655078,  0.46228753],\n",
       "       [ 1.61524741, -2.17942798],\n",
       "       [ 5.29073921, -2.53244078],\n",
       "       [ 1.46597827, -0.66395338],\n",
       "       [-1.36265239, -0.92839329],\n",
       "       [ 0.89576688, -0.08054659],\n",
       "       [ 1.24055557,  1.11296733],\n",
       "       [-0.66693535, -1.78676662],\n",
       "       [-1.05963269, -0.55358588],\n",
       "       [ 5.55070997, -0.55790865],\n",
       "       [-2.31258273,  0.16179706],\n",
       "       [-0.99785118, -0.99645352],\n",
       "       [ 1.06732962,  4.07387296],\n",
       "       [ 1.6238889 ,  3.40932116],\n",
       "       [-4.88849283,  0.34256702],\n",
       "       [-2.55582963, -0.4593665 ],\n",
       "       [ 5.23973394, -1.99651144],\n",
       "       [-0.12660086, -1.37171221],\n",
       "       [ 2.56288678, -1.08421899],\n",
       "       [-4.35528824, -0.24256455],\n",
       "       [-0.85131833, -0.31713127],\n",
       "       [ 2.68939045,  0.40819229],\n",
       "       [-0.39618654,  2.40581778],\n",
       "       [ 1.54778951, -1.0280557 ],\n",
       "       [ 2.40207379, -0.71353292],\n",
       "       [-5.82373492,  0.79865788],\n",
       "       [ 3.70144283,  4.4502357 ],\n",
       "       [-2.46319239, -0.69046971],\n",
       "       [ 4.68830191,  1.20177525],\n",
       "       [-1.16473978, -1.14034711],\n",
       "       [-0.62721335, -0.54878676],\n",
       "       [-3.37490812,  0.34798528],\n",
       "       [-0.51921485,  0.58288839],\n",
       "       [-3.98191305, -0.76453399],\n",
       "       [-0.53167452,  0.11262615],\n",
       "       [-2.99065382, -1.12944484],\n",
       "       [ 4.75116017,  3.22311558],\n",
       "       [ 3.1589027 , -1.72788774],\n",
       "       [-6.1381352 ,  0.58073722],\n",
       "       [-0.29965002, -1.52952957],\n",
       "       [-0.17898452,  0.54992794],\n",
       "       [ 5.93399565,  0.47763748],\n",
       "       [ 6.03005115, -1.05540359],\n",
       "       [-1.75568677,  0.1167654 ],\n",
       "       [ 2.18208746, -1.16935775],\n",
       "       [-1.32860123, -1.03637105],\n",
       "       [-1.09817192,  0.59027577],\n",
       "       [-3.68098129,  0.24047147],\n",
       "       [-1.32058535, -1.53225337],\n",
       "       [-0.3693561 , -0.39768765],\n",
       "       [ 2.23170535,  1.22821982],\n",
       "       [ 3.62851768, -1.12161146],\n",
       "       [ 4.93489391, -1.27776673],\n",
       "       [ 1.7878391 ,  0.86826073],\n",
       "       [ 1.77828562, -0.85752066],\n",
       "       [-2.79510451, -0.86793993],\n",
       "       [-4.68713895,  0.37333226],\n",
       "       [-1.23017148,  1.20874514],\n",
       "       [-0.3195421 ,  0.24240011],\n",
       "       [-4.97922569,  0.53313905],\n",
       "       [ 2.14552001,  6.13446232]])"
      ]
     },
     "execution_count": 20,
     "metadata": {},
     "output_type": "execute_result"
    }
   ],
   "source": [
    "X_test"
   ]
  },
  {
   "cell_type": "code",
   "execution_count": 21,
   "metadata": {},
   "outputs": [
    {
     "data": {
      "image/png": "[encoded data removed]",
      "text/plain": [
       "<Figure size 576x576 with 1 Axes>"
      ]
     },
     "metadata": {
      "needs_background": "light"
     },
     "output_type": "display_data"
    }
   ],
   "source": [
    "X_train_pca = pd.DataFrame(data = X_train\n",
    "             , columns = ['PC1', 'PC2']) \n",
    "finalDf = pd.concat([X_train_pca, Y_train.map({0:\"yes\",1:\"no\"})], axis = 1)\n",
    "\n",
    "fig = plt.figure(figsize = (8,8))\n",
    "ax = fig.add_subplot(1,1,1) \n",
    "ax.set_xlabel('PC1', fontsize = 15)\n",
    "ax.set_ylabel('PC2', fontsize = 15)\n",
    "ax.set_title('2 component PCA', fontsize = 20)\n",
    "targets = [\"yes\", \"no\"]\n",
    "colors = ['r', 'g']\n",
    "for target, color in zip(targets,colors):\n",
    "    indicesToKeep = finalDf['Failure_status'] == target\n",
    "    ax.scatter(finalDf.loc[indicesToKeep, 'PC1']\n",
    "               , finalDf.loc[indicesToKeep, 'PC2']\n",
    "               , c = color\n",
    "               , s = 50)\n",
    "ax.legend(targets)\n",
    "ax.grid()"
   ]
  },
  {
   "cell_type": "code",
   "execution_count": 22,
   "metadata": {},
   "outputs": [
    {
     "data": {
      "image/png": "[encoded data removed]",
      "text/plain": [
       "<Figure size 576x576 with 1 Axes>"
      ]
     },
     "metadata": {
      "needs_background": "light"
     },
     "output_type": "display_data"
    }
   ],
   "source": [
    "X_test_pca = pd.DataFrame(data = X_test\n",
    "             , columns = ['PC1', 'PC2']) \n",
    "\n",
    "finalDf = pd.concat([X_test_pca, Y_test.map({0:\"yes\",1:\"no\"})], axis = 1)\n",
    "\n",
    "fig = plt.figure(figsize = (8,8))\n",
    "ax = fig.add_subplot(1,1,1) \n",
    "ax.set_xlabel('PC1', fontsize = 15)\n",
    "ax.set_ylabel('PC2', fontsize = 15)\n",
    "ax.set_title('2 component PCA', fontsize = 20)\n",
    "targets = ['yes', 'no']\n",
    "colors = ['r', 'g']\n",
    "for target, color in zip(targets,colors):\n",
    "    indicesToKeep = finalDf['Failure_status'] == target\n",
    "    ax.scatter(finalDf.loc[indicesToKeep, 'PC1']\n",
    "               , finalDf.loc[indicesToKeep, 'PC2']\n",
    "               , c = color\n",
    "               , s = 50)\n",
    "ax.legend(targets)\n",
    "ax.grid()"
   ]
  },
  {
   "cell_type": "markdown",
   "metadata": {},
   "source": [
    "## Dealing With Imbalanced Data\n",
    "As we can see, the data is extremely imbalanced, where the 'yes' class only accounts for 15% of all entries of the train dataset"
   ]
  },
  {
   "cell_type": "markdown",
   "metadata": {},
   "source": [
    "### Undersampling"
   ]
  },
  {
   "cell_type": "code",
   "execution_count": 23,
   "metadata": {},
   "outputs": [
    {
     "name": "stdout",
     "output_type": "stream",
     "text": [
      "0    3100\n",
      "1    3100\n",
      "Name: Failure_status, dtype: int64\n"
     ]
    }
   ],
   "source": [
    "rus = RandomUnderSampler(random_state=42, replacement=True) \n",
    "X_train_u, Y_train_u = rus.fit_resample(X_train_pca, Y_train)\n",
    "print(Y_train_u.value_counts())"
   ]
  },
  {
   "cell_type": "markdown",
   "metadata": {},
   "source": [
    "### SMOTE - Oversampling"
   ]
  },
  {
   "cell_type": "code",
   "execution_count": 24,
   "metadata": {},
   "outputs": [
    {
     "name": "stdout",
     "output_type": "stream",
     "text": [
      "1    17531\n",
      "0    17531\n",
      "Name: Failure_status, dtype: int64\n"
     ]
    }
   ],
   "source": [
    "X_train_o, Y_train_o = SMOTE().fit_resample(X_train_pca, Y_train)\n",
    "print(Y_train_o.value_counts())"
   ]
  },
  {
   "cell_type": "markdown",
   "metadata": {},
   "source": [
    "## SMOTE + TomekLinks\n"
   ]
  },
  {
   "cell_type": "code",
   "execution_count": 25,
   "metadata": {},
   "outputs": [
    {
     "name": "stdout",
     "output_type": "stream",
     "text": [
      "1    17159\n",
      "0    17159\n",
      "Name: Failure_status, dtype: int64\n"
     ]
    }
   ],
   "source": [
    "tl = SMOTETomek(random_state=139)\n",
    "X_tl, y_tl = tl.fit_resample(X_train_pca, Y_train)\n",
    "print(y_tl.value_counts())"
   ]
  },
  {
   "cell_type": "markdown",
   "metadata": {},
   "source": [
    "## ADASYN\n"
   ]
  },
  {
   "cell_type": "code",
   "execution_count": 26,
   "metadata": {},
   "outputs": [
    {
     "name": "stdout",
     "output_type": "stream",
     "text": [
      "1    17531\n",
      "0    17250\n",
      "Name: Failure_status, dtype: int64\n"
     ]
    }
   ],
   "source": [
    "ada = ADASYN(random_state=130)\n",
    "X_ada, y_ada = ada.fit_resample(X_train_pca, Y_train)\n",
    "print(y_ada.value_counts())"
   ]
  },
  {
   "cell_type": "markdown",
   "metadata": {},
   "source": [
    "# SMOTE + Unsersampler"
   ]
  },
  {
   "cell_type": "code",
   "execution_count": 86,
   "metadata": {},
   "outputs": [
    {
     "name": "stdout",
     "output_type": "stream",
     "text": [
      "SMOTE oversampling rate:0.3, Random undersampling rate:0.7 , Mean ROC AUC: 0.982\n",
      "SMOTE oversampling rate:0.3, Random undersampling rate:0.6 , Mean ROC AUC: 0.982\n",
      "SMOTE oversampling rate:0.3, Random undersampling rate:0.5 , Mean ROC AUC: 0.981\n",
      "SMOTE oversampling rate:0.4, Random undersampling rate:0.7 , Mean ROC AUC: 0.982\n",
      "SMOTE oversampling rate:0.4, Random undersampling rate:0.6 , Mean ROC AUC: 0.982\n",
      "SMOTE oversampling rate:0.4, Random undersampling rate:0.5 , Mean ROC AUC: 0.980\n",
      "SMOTE oversampling rate:0.5, Random undersampling rate:0.7 , Mean ROC AUC: 0.981\n",
      "SMOTE oversampling rate:0.5, Random undersampling rate:0.6 , Mean ROC AUC: 0.981\n",
      "SMOTE oversampling rate:0.5, Random undersampling rate:0.5 , Mean ROC AUC: 0.981\n"
     ]
    }
   ],
   "source": [
    "# values to evaluate\n",
    "over_values = [0.3,0.4,0.5]\n",
    "under_values = [0.7,0.6,0.5]\n",
    "for o in over_values:\n",
    "  for u in under_values:\n",
    "    # define pipeline\n",
    "    model = SVC()\n",
    "    over = SMOTE(sampling_strategy=o)\n",
    "    under = RandomUnderSampler(sampling_strategy=u)\n",
    "    steps = [('over', over), ('under', under), ('model', model)]\n",
    "    pipeline = Pipeline(steps=steps)\n",
    "    # evaluate pipeline\n",
    "    scores = cross_val_score(pipeline, X_train_pca, Y_train, scoring='roc_auc', cv=5, n_jobs=-1)\n",
    "    score = mean(scores)\n",
    "    print('SMOTE oversampling rate:%.1f, Random undersampling rate:%.1f , Mean ROC AUC: %.3f' % (o, u, score))\n"
   ]
  },
  {
   "cell_type": "markdown",
   "metadata": {},
   "source": [
    "As can be seen, Oversampling rate of 0.3 and undersampling rate of 0.6 provide the best result"
   ]
  },
  {
   "cell_type": "code",
   "execution_count": 27,
   "metadata": {},
   "outputs": [
    {
     "name": "stdout",
     "output_type": "stream",
     "text": [
      "1    8765\n",
      "0    5259\n",
      "Name: Failure_status, dtype: int64\n"
     ]
    }
   ],
   "source": [
    "over = SMOTE(sampling_strategy=0.3)\n",
    "under = RandomUnderSampler(sampling_strategy=0.6)\n",
    "steps = [('over', over), ('under', under)]\n",
    "pipeline = Pipeline(steps=steps)\n",
    "X_hybrid, y_hybrid = pipeline.fit_resample(X_train_pca, Y_train)\n",
    "print(y_hybrid.value_counts())"
   ]
  },
  {
   "cell_type": "markdown",
   "metadata": {},
   "source": [
    "# Classifiers"
   ]
  },
  {
   "cell_type": "code",
   "execution_count": 97,
   "metadata": {},
   "outputs": [],
   "source": [
    "#Saving All Results\n",
    "f1_results = {k:{m:[] for m in ['Origin','Us','Os','St','Ada','StUs']} for k in ['SVC','RF','MLP']}\n",
    "roc_results = {k:{m:0 for m in ['Origin','Us','Os','St','Ada','StUs']} for k in ['SVC','RF','MLP']}"
   ]
  },
  {
   "cell_type": "markdown",
   "metadata": {},
   "source": [
    "## SVC"
   ]
  },
  {
   "cell_type": "code",
   "execution_count": 32,
   "metadata": {},
   "outputs": [],
   "source": [
    "#Defining the Grid Search Cross Validation\n",
    "param_grid = {'C': [0.1, 1, 10, 100, 1000],\n",
    "                  'gamma': [1, 0.1, 0.01, 0.001, 0.0001],\n",
    "                  'kernel': ['rbf']}"
   ]
  },
  {
   "cell_type": "markdown",
   "metadata": {},
   "source": [
    "### Original Data"
   ]
  },
  {
   "cell_type": "code",
   "execution_count": null,
   "metadata": {},
   "outputs": [],
   "source": [
    "# fitting the model for grid search\n",
    "'''\n",
    "grid = GridSearchCV(SVC(), param_grid, scoring = 'roc_auc', cv=5)\n",
    "t  =time.time()\n",
    "grid.fit(X_train_pca, Y_train)\n",
    "svc_best_estimator = grid.best_estimator_\n",
    "print(f\"Running time {time.time()-t}s\")\n",
    "svc_best_estimator\n",
    "'''\n",
    "#Results:\n",
    "#Running time 958.7411775588989s\n",
    "#SVC(C=100, gamma=0.001)"
   ]
  },
  {
   "cell_type": "code",
   "execution_count": 98,
   "metadata": {},
   "outputs": [
    {
     "data": {
      "text/plain": [
       "SVC(C=100, gamma=0.001)"
      ]
     },
     "execution_count": 98,
     "metadata": {},
     "output_type": "execute_result"
    }
   ],
   "source": [
    "svc_best_estimator = SVC(C=100, gamma=0.001)\n",
    "svc_best_estimator.fit(X_train_pca, Y_train)"
   ]
  },
  {
   "cell_type": "code",
   "execution_count": 99,
   "metadata": {
    "scrolled": false
   },
   "outputs": [
    {
     "data": {
      "image/png": "[encoded data removed]",
      "text/plain": [
       "<Figure size 432x288 with 2 Axes>"
      ]
     },
     "metadata": {
      "needs_background": "light"
     },
     "output_type": "display_data"
    },
    {
     "name": "stdout",
     "output_type": "stream",
     "text": [
      "[Yes, No]> F1 Score:[0.80952381 0.94936709]\n",
      "ROC AUC Score:0.84\n"
     ]
    }
   ],
   "source": [
    "pred_labels = svc_best_estimator.predict(X_test_pca)\n",
    "cm = confusion_matrix(Y_test, pred_labels)\n",
    "disp = ConfusionMatrixDisplay(confusion_matrix=cm, display_labels=[\"yes\",\"no\"])\n",
    "disp.plot()\n",
    "plt.show()\n",
    "f1_results['SVC'] ['Origin'] = f1_score(Y_test,pred_labels, average = None)\n",
    "roc_results['SVC']['Origin'] = roc_auc_score(Y_test,pred_labels)\n",
    "print(f\"[Yes, No]> F1 Score:{f1_score(Y_test,pred_labels, average = None)}\")\n",
    "print(f\"ROC AUC Score:{roc_auc_score(Y_test,pred_labels)}\")"
   ]
  },
  {
   "cell_type": "markdown",
   "metadata": {},
   "source": [
    "### Undersampled Data"
   ]
  },
  {
   "cell_type": "code",
   "execution_count": 100,
   "metadata": {},
   "outputs": [
    {
     "data": {
      "text/plain": [
       "'\\ngrid = GridSearchCV(SVC(), param_grid, scoring = \\'roc_auc\\', cv=5)\\nt = time.time()\\ngrid.fit(X_train_u, Y_train_u)\\nsvc_best_estimator_us = grid.best_estimator_\\n\\nprint(f\"Running time {time.time()-t}s\")\\nsvc_best_estimator_us\\n'"
      ]
     },
     "execution_count": 100,
     "metadata": {},
     "output_type": "execute_result"
    }
   ],
   "source": [
    "# fitting the model for grid search\n",
    "'''\n",
    "grid = GridSearchCV(SVC(), param_grid, scoring = 'roc_auc', cv=5)\n",
    "t = time.time()\n",
    "grid.fit(X_train_u, Y_train_u)\n",
    "svc_best_estimator_us = grid.best_estimator_\n",
    "\n",
    "print(f\"Running time {time.time()-t}s\")\n",
    "svc_best_estimator_us\n",
    "'''\n",
    "#Results:\n",
    "#Running time 117.49140977859497s\n",
    "#SVC(C=1, gamma=0.01)"
   ]
  },
  {
   "cell_type": "code",
   "execution_count": 101,
   "metadata": {},
   "outputs": [
    {
     "data": {
      "text/plain": [
       "SVC(C=1, gamma=0.01)"
      ]
     },
     "execution_count": 101,
     "metadata": {},
     "output_type": "execute_result"
    }
   ],
   "source": [
    "svc_best_estimator_us = SVC(C=1, gamma=0.01)\n",
    "svc_best_estimator_us.fit(X_train_u, Y_train_u)"
   ]
  },
  {
   "cell_type": "code",
   "execution_count": 102,
   "metadata": {
    "scrolled": false
   },
   "outputs": [
    {
     "data": {
      "image/png": "[encoded data removed]",
      "text/plain": [
       "<Figure size 432x288 with 2 Axes>"
      ]
     },
     "metadata": {
      "needs_background": "light"
     },
     "output_type": "display_data"
    },
    {
     "name": "stdout",
     "output_type": "stream",
     "text": [
      "[Yes, No]> F1 Score:[0.85106383 0.95424837]\n",
      "ROC AUC Score:0.8866666666666668\n"
     ]
    }
   ],
   "source": [
    "pred_labels = svc_best_estimator_us.predict(X_test_pca)\n",
    "cm = confusion_matrix(Y_test, pred_labels)\n",
    "disp = ConfusionMatrixDisplay(confusion_matrix=cm, display_labels=[\"yes\",\"no\"])\n",
    "disp.plot()\n",
    "plt.show()\n",
    "f1_results['SVC'] ['Us'] = f1_score(Y_test,pred_labels, average = None)\n",
    "roc_results['SVC'] ['Us']= roc_auc_score(Y_test,pred_labels)\n",
    "print(f\"[Yes, No]> F1 Score:{f1_score(Y_test,pred_labels, average = None)}\")\n",
    "print(f\"ROC AUC Score:{roc_auc_score(Y_test,pred_labels, average = None)}\")"
   ]
  },
  {
   "cell_type": "markdown",
   "metadata": {},
   "source": [
    "### Oversampled Data"
   ]
  },
  {
   "cell_type": "code",
   "execution_count": 103,
   "metadata": {},
   "outputs": [
    {
     "data": {
      "text/plain": [
       "'\\ngrid = GridSearchCV(SVC(), param_grid, scoring = \\'roc_auc\\', cv=5)\\nt = time.time()\\ngrid.fit(X_train_o, Y_train_o)\\nsvc_best_estimator_os = grid.best_estimator_\\n\\nprint(f\"Running time {time.time()-t}s\")\\nsvc_best_estimator_os\\n'"
      ]
     },
     "execution_count": 103,
     "metadata": {},
     "output_type": "execute_result"
    }
   ],
   "source": [
    "# fitting the model for grid search\n",
    "'''\n",
    "grid = GridSearchCV(SVC(), param_grid, scoring = 'roc_auc', cv=5)\n",
    "t = time.time()\n",
    "grid.fit(X_train_o, Y_train_o)\n",
    "svc_best_estimator_os = grid.best_estimator_\n",
    "\n",
    "print(f\"Running time {time.time()-t}s\")\n",
    "svc_best_estimator_os\n",
    "'''\n",
    "#Results:\n",
    "#Running time 4105.043005466461s\n",
    "#SVC(C=100, gamma=0.001)"
   ]
  },
  {
   "cell_type": "code",
   "execution_count": 104,
   "metadata": {},
   "outputs": [
    {
     "data": {
      "text/plain": [
       "SVC(C=100, gamma=0.001)"
      ]
     },
     "execution_count": 104,
     "metadata": {},
     "output_type": "execute_result"
    }
   ],
   "source": [
    "svc_best_estimator_os = SVC(C=100, gamma=0.001)\n",
    "svc_best_estimator_os.fit(X_train_o, Y_train_o)"
   ]
  },
  {
   "cell_type": "code",
   "execution_count": 105,
   "metadata": {
    "scrolled": true
   },
   "outputs": [
    {
     "data": {
      "image/png": "[encoded data removed]",
      "text/plain": [
       "<Figure size 432x288 with 2 Axes>"
      ]
     },
     "metadata": {
      "needs_background": "light"
     },
     "output_type": "display_data"
    },
    {
     "name": "stdout",
     "output_type": "stream",
     "text": [
      "[Yes, No]> F1 Score:[0.85106383 0.95424837]\n",
      "ROC AUC Score:0.8866666666666668\n"
     ]
    }
   ],
   "source": [
    "pred_labels = svc_best_estimator_os.predict(X_test_pca)\n",
    "cm = confusion_matrix(Y_test, pred_labels)\n",
    "disp = ConfusionMatrixDisplay(confusion_matrix=cm, display_labels=[\"yes\",\"no\"])\n",
    "disp.plot()\n",
    "plt.show()\n",
    "f1_results['SVC']['Os'] = f1_score(Y_test,pred_labels, average = None)\n",
    "roc_results['SVC']['Os'] = roc_auc_score(Y_test,pred_labels)\n",
    "print(f\"[Yes, No]> F1 Score:{f1_score(Y_test,pred_labels, average = None)}\")\n",
    "print(f\"ROC AUC Score:{roc_auc_score(Y_test,pred_labels, average = None)}\")"
   ]
  },
  {
   "cell_type": "markdown",
   "metadata": {},
   "source": [
    "### SMOTE + Tomek Links"
   ]
  },
  {
   "cell_type": "code",
   "execution_count": 106,
   "metadata": {},
   "outputs": [
    {
     "data": {
      "text/plain": [
       "'\\ngrid = GridSearchCV(SVC(), param_grid, scoring = \\'roc_auc\\', cv=5)\\nt = time.time()\\ngrid.fit(X_tl, y_tl)\\nsvc_best_estimator_tl = grid.best_estimator_\\n\\nprint(f\"Running time {time.time()-t}s\")\\nsvc_best_estimator_tl\\n'"
      ]
     },
     "execution_count": 106,
     "metadata": {},
     "output_type": "execute_result"
    }
   ],
   "source": [
    "# fitting the model for grid search\n",
    "'''\n",
    "grid = GridSearchCV(SVC(), param_grid, scoring = 'roc_auc', cv=5)\n",
    "t = time.time()\n",
    "grid.fit(X_tl, y_tl)\n",
    "svc_best_estimator_tl = grid.best_estimator_\n",
    "\n",
    "print(f\"Running time {time.time()-t}s\")\n",
    "svc_best_estimator_tl\n",
    "'''\n",
    "#Results\n",
    "#Running time 3163.6839101314545s\n",
    "#SVC(C=100, gamma=0.001)"
   ]
  },
  {
   "cell_type": "code",
   "execution_count": 107,
   "metadata": {},
   "outputs": [
    {
     "data": {
      "text/plain": [
       "SVC(C=100, gamma=0.001)"
      ]
     },
     "execution_count": 107,
     "metadata": {},
     "output_type": "execute_result"
    }
   ],
   "source": [
    "svc_best_estimator_tl = SVC(C=100, gamma=0.001)\n",
    "svc_best_estimator_tl.fit(X_tl, y_tl)"
   ]
  },
  {
   "cell_type": "code",
   "execution_count": 108,
   "metadata": {
    "scrolled": false
   },
   "outputs": [
    {
     "data": {
      "image/png": "[encoded data removed]",
      "text/plain": [
       "<Figure size 432x288 with 2 Axes>"
      ]
     },
     "metadata": {
      "needs_background": "light"
     },
     "output_type": "display_data"
    },
    {
     "name": "stdout",
     "output_type": "stream",
     "text": [
      "[Yes, No]> F1 Score:[0.85106383 0.95424837]\n",
      "ROC AUC Score:0.8866666666666668\n"
     ]
    }
   ],
   "source": [
    "pred_labels = svc_best_estimator_tl.predict(X_test_pca)\n",
    "cm = confusion_matrix(Y_test, pred_labels)\n",
    "disp = ConfusionMatrixDisplay(confusion_matrix=cm, display_labels=[\"yes\",\"no\"])\n",
    "disp.plot()\n",
    "plt.show()\n",
    "f1_results['SVC']['St'] = f1_score(Y_test,pred_labels, average = None)\n",
    "roc_results['SVC']['St']= roc_auc_score(Y_test,pred_labels)\n",
    "print(f\"[Yes, No]> F1 Score:{f1_score(Y_test,pred_labels, average = None)}\")\n",
    "print(f\"ROC AUC Score:{roc_auc_score(Y_test,pred_labels, average = None)}\")"
   ]
  },
  {
   "cell_type": "markdown",
   "metadata": {},
   "source": [
    "### ADASYN"
   ]
  },
  {
   "cell_type": "code",
   "execution_count": 109,
   "metadata": {},
   "outputs": [
    {
     "data": {
      "text/plain": [
       "'\\ngrid = GridSearchCV(SVC(), param_grid, scoring = \\'roc_auc\\', cv=5)\\nt = time.time()\\ngrid.fit(X_ada, y_ada)\\nsvc_best_estimator_ada = grid.best_estimator_\\n\\nprint(f\"Running time {time.time()-t}s\")\\nsvc_best_estimator_ada\\n'"
      ]
     },
     "execution_count": 109,
     "metadata": {},
     "output_type": "execute_result"
    }
   ],
   "source": [
    "# fitting the model for grid search\n",
    "'''\n",
    "grid = GridSearchCV(SVC(), param_grid, scoring = 'roc_auc', cv=5)\n",
    "t = time.time()\n",
    "grid.fit(X_ada, y_ada)\n",
    "svc_best_estimator_ada = grid.best_estimator_\n",
    "\n",
    "print(f\"Running time {time.time()-t}s\")\n",
    "svc_best_estimator_ada\n",
    "'''\n",
    "#Results\n",
    "#Running time 6310.764896869659s\n",
    "#SVC(C=1000, gamma=0.0001)"
   ]
  },
  {
   "cell_type": "code",
   "execution_count": 110,
   "metadata": {},
   "outputs": [
    {
     "data": {
      "text/plain": [
       "SVC(C=1000, gamma=0.0001)"
      ]
     },
     "execution_count": 110,
     "metadata": {},
     "output_type": "execute_result"
    }
   ],
   "source": [
    "svc_best_estimator_ada = SVC(C=1000, gamma=0.0001)\n",
    "svc_best_estimator_ada.fit(X_ada, y_ada)"
   ]
  },
  {
   "cell_type": "code",
   "execution_count": 111,
   "metadata": {
    "scrolled": false
   },
   "outputs": [
    {
     "data": {
      "image/png": "[encoded data removed]",
      "text/plain": [
       "<Figure size 432x288 with 2 Axes>"
      ]
     },
     "metadata": {
      "needs_background": "light"
     },
     "output_type": "display_data"
    },
    {
     "name": "stdout",
     "output_type": "stream",
     "text": [
      "[Yes, No]> F1 Score:[0.86792453 0.95238095]\n",
      "ROC AUC Score:0.9266666666666667\n"
     ]
    }
   ],
   "source": [
    "pred_labels = svc_best_estimator_ada.predict(X_test_pca)\n",
    "cm = confusion_matrix(Y_test, pred_labels)\n",
    "disp = ConfusionMatrixDisplay(confusion_matrix=cm, display_labels=[\"yes\",\"no\"])\n",
    "disp.plot()\n",
    "plt.show()\n",
    "f1_results['SVC']['Ada'] = f1_score(Y_test,pred_labels, average = None)\n",
    "roc_results['SVC']['Ada'] = roc_auc_score(Y_test,pred_labels)\n",
    "print(f\"[Yes, No]> F1 Score:{f1_score(Y_test,pred_labels, average = None)}\")\n",
    "print(f\"ROC AUC Score:{roc_auc_score(Y_test,pred_labels, average = None)}\")"
   ]
  },
  {
   "cell_type": "markdown",
   "metadata": {},
   "source": [
    "### SMOTE + Undersampler"
   ]
  },
  {
   "cell_type": "code",
   "execution_count": 112,
   "metadata": {},
   "outputs": [
    {
     "data": {
      "text/plain": [
       "'grid = GridSearchCV(SVC(), param_grid, scoring = \\'roc_auc\\', cv=5)\\nt = time.time()\\ngrid.fit(X_hybrid, y_hybrid)\\nsvc_best_estimator_su = grid.best_estimator_\\n\\nprint(f\"Running time {time.time()-t}s\")\\nsvc_best_estimator_su\\n'"
      ]
     },
     "execution_count": 112,
     "metadata": {},
     "output_type": "execute_result"
    }
   ],
   "source": [
    "# fitting the model for grid search\n",
    "'''grid = GridSearchCV(SVC(), param_grid, scoring = 'roc_auc', cv=5)\n",
    "t = time.time()\n",
    "grid.fit(X_hybrid, y_hybrid)\n",
    "svc_best_estimator_su = grid.best_estimator_\n",
    "\n",
    "print(f\"Running time {time.time()-t}s\")\n",
    "svc_best_estimator_su\n",
    "'''\n",
    "#Results\n",
    "#Running time 517.4683990478516s\n",
    "#SVC(C=100, gamma=0.001)"
   ]
  },
  {
   "cell_type": "code",
   "execution_count": 113,
   "metadata": {},
   "outputs": [
    {
     "data": {
      "text/plain": [
       "SVC(C=100, gamma=0.001)"
      ]
     },
     "execution_count": 113,
     "metadata": {},
     "output_type": "execute_result"
    }
   ],
   "source": [
    "svc_best_estimator_su = SVC(C=100, gamma=0.001)\n",
    "svc_best_estimator_su.fit(X_hybrid, y_hybrid)"
   ]
  },
  {
   "cell_type": "code",
   "execution_count": 114,
   "metadata": {
    "scrolled": false
   },
   "outputs": [
    {
     "data": {
      "image/png": "[encoded data removed]",
      "text/plain": [
       "<Figure size 432x288 with 2 Axes>"
      ]
     },
     "metadata": {
      "needs_background": "light"
     },
     "output_type": "display_data"
    },
    {
     "name": "stdout",
     "output_type": "stream",
     "text": [
      "[Yes, No]> F1 Score:[0.82608696 0.94805195]\n",
      "ROC AUC Score:0.8666666666666667\n"
     ]
    }
   ],
   "source": [
    "pred_labels = svc_best_estimator_su.predict(X_test_pca)\n",
    "cm = confusion_matrix(Y_test, pred_labels)\n",
    "disp = ConfusionMatrixDisplay(confusion_matrix=cm, display_labels=[\"yes\",\"no\"])\n",
    "disp.plot()\n",
    "plt.show()\n",
    "f1_results['SVC'] ['StUs']= f1_score(Y_test,pred_labels, average = None)\n",
    "roc_results['SVC'] ['StUs']= roc_auc_score(Y_test,pred_labels)\n",
    "print(f\"[Yes, No]> F1 Score:{f1_score(Y_test,pred_labels, average = None)}\")\n",
    "print(f\"ROC AUC Score:{roc_auc_score(Y_test,pred_labels, average = None)}\")"
   ]
  },
  {
   "cell_type": "markdown",
   "metadata": {},
   "source": [
    "# Random Forest"
   ]
  },
  {
   "cell_type": "markdown",
   "metadata": {},
   "source": [
    "Determining the best parameters for the grid search:"
   ]
  },
  {
   "cell_type": "code",
   "execution_count": null,
   "metadata": {},
   "outputs": [],
   "source": [
    "#Model Tuniing\n",
    "rf_params = {\"max_depth\": [10,20,30],\n",
    "            \"max_features\": ['auto','sqrt'],\n",
    "            \"n_estimators\": [200,400,600],\n",
    "            \"min_samples_split\": [2,5,10]}"
   ]
  },
  {
   "cell_type": "markdown",
   "metadata": {},
   "source": [
    "### Original Data"
   ]
  },
  {
   "cell_type": "code",
   "execution_count": null,
   "metadata": {},
   "outputs": [],
   "source": [
    "# fitting the model for grid search\n",
    "'''\n",
    "grid = GridSearchCV(RandomForestClassifier(), rf_params, cv = 5, scoring = 'roc_auc')\n",
    "t = time.time()\n",
    "grid.fit(X_train_pca, Y_train)\n",
    "print(f\"Running time {time.time()-t}s\")\n",
    "rf_best_estimator = grid.best_estimator_\n",
    "rf_best_estimator\n",
    "'''\n",
    "#Results\n",
    "#Running time 1470.4402747154236s\n",
    "#RandomForestClassifier(max_depth=10, max_features='sqrt', min_samples_split=10,n_estimators=400)"
   ]
  },
  {
   "cell_type": "code",
   "execution_count": 135,
   "metadata": {},
   "outputs": [
    {
     "data": {
      "text/plain": [
       "RandomForestClassifier(max_depth=10, max_features='sqrt', min_samples_split=10,\n",
       "                       n_estimators=400)"
      ]
     },
     "execution_count": 135,
     "metadata": {},
     "output_type": "execute_result"
    }
   ],
   "source": [
    "rf_best_estimator = RandomForestClassifier(max_depth=10, max_features='sqrt', min_samples_split=10, n_estimators=400)\n",
    "rf_best_estimator.fit(X_train_pca, Y_train)"
   ]
  },
  {
   "cell_type": "code",
   "execution_count": 136,
   "metadata": {},
   "outputs": [
    {
     "data": {
      "image/png": "[encoded data removed]",
      "text/plain": [
       "<Figure size 432x288 with 2 Axes>"
      ]
     },
     "metadata": {
      "needs_background": "light"
     },
     "output_type": "display_data"
    },
    {
     "name": "stdout",
     "output_type": "stream",
     "text": [
      "[Yes, No]> F1 Score:[0.7804878  0.94339623]\n",
      "ROC AUC Score:0.8666666666666667\n"
     ]
    }
   ],
   "source": [
    "pred_label_rf = rf_best_estimator.predict(X_test_pca)\n",
    "cm = confusion_matrix(Y_test, pred_label_rf)\n",
    "disp = ConfusionMatrixDisplay(confusion_matrix=cm, display_labels=[\"yes\",\"no\"])\n",
    "disp.plot()\n",
    "plt.show()\n",
    "f1_results['RF']['Origin'] = f1_score(Y_test,pred_labels, average = None)\n",
    "roc_results['RF']['Origin'] = roc_auc_score(Y_test,pred_labels)\n",
    "print(f\"[Yes, No]> F1 Score:{f1_score(Y_test,pred_label_rf, average = None)}\")\n",
    "print(f\"ROC AUC Score:{roc_auc_score(Y_test,pred_labels, average = None)}\")"
   ]
  },
  {
   "cell_type": "markdown",
   "metadata": {},
   "source": [
    "### Undersampled Data"
   ]
  },
  {
   "cell_type": "code",
   "execution_count": 117,
   "metadata": {},
   "outputs": [
    {
     "data": {
      "text/plain": [
       "'\\ngrid = GridSearchCV(RandomForestClassifier(), rf_params, cv = 5, scoring = \\'roc_auc\\')\\nt = time.time()\\ngrid.fit(X_train_u, Y_train_u)\\nprint(f\"Running time {time.time()-t}s\")\\nrf_best_estimator_us = grid.best_estimator_\\nrf_best_estimator_us\\n'"
      ]
     },
     "execution_count": 117,
     "metadata": {},
     "output_type": "execute_result"
    }
   ],
   "source": [
    "# fitting the model for grid search\n",
    "'''\n",
    "grid = GridSearchCV(RandomForestClassifier(), rf_params, cv = 5, scoring = 'roc_auc')\n",
    "t = time.time()\n",
    "grid.fit(X_train_u, Y_train_u)\n",
    "print(f\"Running time {time.time()-t}s\")\n",
    "rf_best_estimator_us = grid.best_estimator_\n",
    "rf_best_estimator_us\n",
    "'''\n",
    "#Results\n",
    "#Running time 396.45836663246155s\n",
    "#RandomForestClassifier(max_depth=10, max_features='sqrt', min_samples_split=10,n_estimators=600)"
   ]
  },
  {
   "cell_type": "code",
   "execution_count": 118,
   "metadata": {},
   "outputs": [
    {
     "data": {
      "text/plain": [
       "RandomForestClassifier(max_depth=10, max_features='sqrt', min_samples_split=10,\n",
       "                       n_estimators=600)"
      ]
     },
     "execution_count": 118,
     "metadata": {},
     "output_type": "execute_result"
    }
   ],
   "source": [
    "rf_best_estimator_us = RandomForestClassifier(max_depth=10, max_features='sqrt', min_samples_split=10,\n",
    "                       n_estimators=600)\n",
    "rf_best_estimator_us.fit(X_train_u, Y_train_u)"
   ]
  },
  {
   "cell_type": "code",
   "execution_count": 119,
   "metadata": {
    "scrolled": false
   },
   "outputs": [
    {
     "data": {
      "image/png": "[encoded data removed]",
      "text/plain": [
       "<Figure size 432x288 with 2 Axes>"
      ]
     },
     "metadata": {
      "needs_background": "light"
     },
     "output_type": "display_data"
    },
    {
     "name": "stdout",
     "output_type": "stream",
     "text": [
      "[Yes, No]> F1 Score:[0.83333333 0.94736842]\n",
      "ROC AUC Score:0.88\n"
     ]
    }
   ],
   "source": [
    "pred_labels = rf_best_estimator_us.predict(X_test_pca)\n",
    "cm = confusion_matrix(Y_test, pred_labels)\n",
    "disp = ConfusionMatrixDisplay(confusion_matrix=cm, display_labels=[\"yes\",\"no\"])\n",
    "disp.plot()\n",
    "plt.show()\n",
    "f1_results['RF']['Us'] = f1_score(Y_test,pred_labels, average = None)\n",
    "roc_results['RF']['Us'] = roc_auc_score(Y_test,pred_labels)\n",
    "print(f\"[Yes, No]> F1 Score:{f1_score(Y_test,pred_labels, average = None)}\")\n",
    "print(f\"ROC AUC Score:{roc_auc_score(Y_test,pred_labels, average = None)}\")"
   ]
  },
  {
   "cell_type": "markdown",
   "metadata": {},
   "source": [
    "### Oversampled Data"
   ]
  },
  {
   "cell_type": "code",
   "execution_count": 120,
   "metadata": {},
   "outputs": [
    {
     "data": {
      "text/plain": [
       "'\\ngrid = GridSearchCV(RandomForestClassifier(), rf_params, cv = 5, scoring = \\'roc_auc\\')\\nt = time.time()\\ngrid.fit(X_train_o, Y_train_o)\\nprint(f\"Running time {time.time()-t}s\")\\nrf_best_estimator_os = grid.best_estimator_\\nrf_best_estimator_os\\n'"
      ]
     },
     "execution_count": 120,
     "metadata": {},
     "output_type": "execute_result"
    }
   ],
   "source": [
    "# fitting the model for grid search\n",
    "'''\n",
    "grid = GridSearchCV(RandomForestClassifier(), rf_params, cv = 5, scoring = 'roc_auc')\n",
    "t = time.time()\n",
    "grid.fit(X_train_o, Y_train_o)\n",
    "print(f\"Running time {time.time()-t}s\")\n",
    "rf_best_estimator_os = grid.best_estimator_\n",
    "rf_best_estimator_os\n",
    "'''\n",
    "#Results\n",
    "#Running time 2254.9402987957s\n",
    "#RandomForestClassifier(max_depth=20, max_features='sqrt', min_samples_split=10,n_estimators=600)"
   ]
  },
  {
   "cell_type": "code",
   "execution_count": 133,
   "metadata": {},
   "outputs": [
    {
     "data": {
      "text/plain": [
       "RandomForestClassifier(max_depth=20, max_features='sqrt', min_samples_split=10,\n",
       "                       n_estimators=600)"
      ]
     },
     "execution_count": 133,
     "metadata": {},
     "output_type": "execute_result"
    }
   ],
   "source": [
    "rf_best_estimator_os = RandomForestClassifier(max_depth=20, max_features='sqrt', min_samples_split=10,n_estimators=600)\n",
    "rf_best_estimator_os.fit(X_train_o, Y_train_o)"
   ]
  },
  {
   "cell_type": "code",
   "execution_count": 134,
   "metadata": {
    "scrolled": true
   },
   "outputs": [
    {
     "data": {
      "image/png": "[encoded data removed]",
      "text/plain": [
       "<Figure size 432x288 with 2 Axes>"
      ]
     },
     "metadata": {
      "needs_background": "light"
     },
     "output_type": "display_data"
    },
    {
     "name": "stdout",
     "output_type": "stream",
     "text": [
      "[Yes, No]> F1 Score:[0.82608696 0.94805195]\n",
      "ROC AUC Score:0.8666666666666667\n"
     ]
    }
   ],
   "source": [
    "pred_labels = rf_best_estimator_os.predict(X_test_pca)\n",
    "cm = confusion_matrix(Y_test, pred_labels)\n",
    "disp = ConfusionMatrixDisplay(confusion_matrix=cm, display_labels=[\"yes\",\"no\"])\n",
    "disp.plot()\n",
    "plt.show()\n",
    "f1_results['RF']['Os'] = f1_score(Y_test,pred_labels, average = None)\n",
    "roc_results['RF']['Os'] = roc_auc_score(Y_test,pred_labels)\n",
    "print(f\"[Yes, No]> F1 Score:{f1_score(Y_test,pred_labels, average = None)}\")\n",
    "print(f\"ROC AUC Score:{roc_auc_score(Y_test,pred_labels, average = None)}\")"
   ]
  },
  {
   "cell_type": "markdown",
   "metadata": {},
   "source": [
    "### SMOTE + Tomek Links"
   ]
  },
  {
   "cell_type": "code",
   "execution_count": null,
   "metadata": {},
   "outputs": [],
   "source": [
    "# fitting the model for grid search\n",
    "'''\n",
    "grid = GridSearchCV(RandomForestClassifier(), rf_params, cv = 5, scoring = 'roc_auc')\n",
    "t = time.time()\n",
    "grid.fit(X_tl, y_tl)\n",
    "print(f\"Running time {time.time()-t}s\")\n",
    "rf_best_estimator_tl = grid.best_estimator_\n",
    "rf_best_estimator_tl\n",
    "'''\n",
    "#Results\n",
    "#Running time 2185.2518544197083s\n",
    "#RandomForestClassifier(max_depth=20, min_samples_split=5, n_estimators=600)"
   ]
  },
  {
   "cell_type": "code",
   "execution_count": 137,
   "metadata": {},
   "outputs": [
    {
     "data": {
      "text/plain": [
       "RandomForestClassifier(max_depth=20, min_samples_split=5, n_estimators=600)"
      ]
     },
     "execution_count": 137,
     "metadata": {},
     "output_type": "execute_result"
    }
   ],
   "source": [
    "rf_best_estimator_tl = RandomForestClassifier(max_depth=20, min_samples_split=5, n_estimators=600)\n",
    "rf_best_estimator_tl.fit(X_tl, y_tl)"
   ]
  },
  {
   "cell_type": "code",
   "execution_count": 138,
   "metadata": {
    "scrolled": false
   },
   "outputs": [
    {
     "data": {
      "image/png": "[encoded data removed]",
      "text/plain": [
       "<Figure size 432x288 with 2 Axes>"
      ]
     },
     "metadata": {
      "needs_background": "light"
     },
     "output_type": "display_data"
    },
    {
     "name": "stdout",
     "output_type": "stream",
     "text": [
      "[Yes, No]> F1 Score:[0.82608696 0.94805195]\n",
      "ROC AUC Score:0.8666666666666667\n"
     ]
    }
   ],
   "source": [
    "pred_labels = rf_best_estimator_tl.predict(X_test_pca)\n",
    "cm = confusion_matrix(Y_test, pred_labels)\n",
    "disp = ConfusionMatrixDisplay(confusion_matrix=cm, display_labels=[\"yes\",\"no\"])\n",
    "disp.plot()\n",
    "plt.show()\n",
    "f1_results['RF']['St'] = f1_score(Y_test,pred_labels, average = None)\n",
    "roc_results['RF']['St'] = roc_auc_score(Y_test,pred_labels)\n",
    "print(f\"[Yes, No]> F1 Score:{f1_score(Y_test,pred_labels, average = None)}\")\n",
    "print(f\"ROC AUC Score:{roc_auc_score(Y_test,pred_labels, average = None)}\")"
   ]
  },
  {
   "cell_type": "markdown",
   "metadata": {},
   "source": [
    "### ADASYN"
   ]
  },
  {
   "cell_type": "code",
   "execution_count": null,
   "metadata": {},
   "outputs": [],
   "source": [
    "# fitting the model for grid search\n",
    "'''\n",
    "grid = GridSearchCV(RandomForestClassifier(), rf_params, cv = 5, scoring = 'roc_auc')\n",
    "t = time.time()\n",
    "grid.fit(X_ada, y_ada)\n",
    "print(f\"Running time {time.time()-t}s\")\n",
    "rf_best_estimator_ada = grid.best_estimator_\n",
    "rf_best_estimator_ada\n",
    "'''\n",
    "#Results\n",
    "#Running time 2504.889993906021s\n",
    "#RandomForestClassifier(max_depth=30, n_estimators=600)"
   ]
  },
  {
   "cell_type": "code",
   "execution_count": 139,
   "metadata": {},
   "outputs": [
    {
     "data": {
      "text/plain": [
       "RandomForestClassifier(max_depth=30, n_estimators=600)"
      ]
     },
     "execution_count": 139,
     "metadata": {},
     "output_type": "execute_result"
    }
   ],
   "source": [
    "rf_best_estimator_ada = RandomForestClassifier(max_depth=30, n_estimators=600)\n",
    "rf_best_estimator_ada.fit(X_ada, y_ada)"
   ]
  },
  {
   "cell_type": "code",
   "execution_count": 140,
   "metadata": {
    "scrolled": false
   },
   "outputs": [
    {
     "data": {
      "image/png": "[encoded data removed]",
      "text/plain": [
       "<Figure size 432x288 with 2 Axes>"
      ]
     },
     "metadata": {
      "needs_background": "light"
     },
     "output_type": "display_data"
    },
    {
     "name": "stdout",
     "output_type": "stream",
     "text": [
      "[Yes, No]> F1 Score:[0.92       0.97333333]\n",
      "ROC AUC Score:0.9466666666666668\n"
     ]
    }
   ],
   "source": [
    "pred_labels = rf_best_estimator_ada.predict(X_test_pca)\n",
    "cm = confusion_matrix(Y_test, pred_labels)\n",
    "disp = ConfusionMatrixDisplay(confusion_matrix=cm, display_labels=[\"yes\",\"no\"])\n",
    "disp.plot()\n",
    "plt.show()\n",
    "f1_results['RF']['Ada'] = f1_score(Y_test,pred_labels, average = None)\n",
    "roc_results['RF'] ['Ada']= roc_auc_score(Y_test,pred_labels)\n",
    "print(f\"[Yes, No]> F1 Score:{f1_score(Y_test,pred_labels, average = None)}\")\n",
    "print(f\"ROC AUC Score:{roc_auc_score(Y_test,pred_labels, average = None)}\")"
   ]
  },
  {
   "cell_type": "markdown",
   "metadata": {},
   "source": [
    "### SMOTE + Undersampler"
   ]
  },
  {
   "cell_type": "code",
   "execution_count": null,
   "metadata": {},
   "outputs": [],
   "source": [
    "# fitting the model for grid search\n",
    "'''\n",
    "grid = GridSearchCV(RandomForestClassifier(), rf_params, cv = 5,scoring = 'roc_auc')\n",
    "t = time.time()\n",
    "grid.fit(X_hybrid, y_hybrid)\n",
    "print(f\"Running time {time.time()-t}s\")\n",
    "rf_best_estimator_su = grid.best_estimator_\n",
    "rf_best_estimator_su\n",
    "'''\n",
    "#Results\n",
    "#Running time 900.3475580215454s\n",
    "#RandomForestClassifier(max_depth=10, max_features='sqrt', n_estimators=600)"
   ]
  },
  {
   "cell_type": "code",
   "execution_count": 141,
   "metadata": {},
   "outputs": [
    {
     "data": {
      "text/plain": [
       "RandomForestClassifier(max_depth=10, max_features='sqrt', n_estimators=600)"
      ]
     },
     "execution_count": 141,
     "metadata": {},
     "output_type": "execute_result"
    }
   ],
   "source": [
    "rf_best_estimator_su = RandomForestClassifier(max_depth=10, max_features='sqrt', n_estimators=600)\n",
    "rf_best_estimator_su.fit(X_hybrid, y_hybrid)"
   ]
  },
  {
   "cell_type": "code",
   "execution_count": 142,
   "metadata": {
    "scrolled": false
   },
   "outputs": [
    {
     "data": {
      "image/png": "[encoded data removed]",
      "text/plain": [
       "<Figure size 432x288 with 2 Axes>"
      ]
     },
     "metadata": {
      "needs_background": "light"
     },
     "output_type": "display_data"
    },
    {
     "name": "stdout",
     "output_type": "stream",
     "text": [
      "[Yes, No]> F1 Score:[0.82608696 0.94805195]\n",
      "ROC AUC Score:0.8666666666666667\n"
     ]
    }
   ],
   "source": [
    "pred_labels = rf_best_estimator_su.predict(X_test_pca)\n",
    "cm = confusion_matrix(Y_test, pred_labels)\n",
    "disp = ConfusionMatrixDisplay(confusion_matrix=cm, display_labels=[\"yes\",\"no\"])\n",
    "disp.plot()\n",
    "plt.show()\n",
    "f1_results['RF']['StUs'] = f1_score(Y_test,pred_labels, average = None)\n",
    "roc_results['RF']['StUs'] = roc_auc_score(Y_test,pred_labels)\n",
    "print(f\"[Yes, No]> F1 Score:{f1_score(Y_test,pred_labels, average = None)}\")\n",
    "print(f\"ROC AUC Score:{roc_auc_score(Y_test,pred_labels, average = None)}\")"
   ]
  },
  {
   "cell_type": "markdown",
   "metadata": {},
   "source": [
    "# MLP - Multilayer Perceptron"
   ]
  },
  {
   "cell_type": "code",
   "execution_count": null,
   "metadata": {},
   "outputs": [],
   "source": [
    "#Determining the best parameters for the grid search with the original data:\n",
    "#mlp = MLPClassifier()\n",
    "\n",
    "\n",
    "\n",
    "param_grid = {\n",
    "    'hidden_layer_sizes': [(50,50,50), (50,100,50), (100,)],\n",
    "    'activation': ['tanh', 'relu'],\n",
    "    'solver': ['sgd', 'adam'],\n",
    "    'alpha': [0.0001, 0.05],\n",
    "    'learning_rate': ['constant','adaptive'],\n",
    "    'max_iter': [3000],\n",
    "}\n",
    "#clf = GridSearchCV(mlp, parameter_space, n_jobs=-1, cv=5)\n",
    "#clf.fit(X_train_u, Y_train_u)\n",
    "\n",
    "# Best parameter set\n",
    "#print('Best parameters found:\\n', clf.best_params_)"
   ]
  },
  {
   "cell_type": "markdown",
   "metadata": {},
   "source": [
    "### Original Data"
   ]
  },
  {
   "cell_type": "code",
   "execution_count": null,
   "metadata": {},
   "outputs": [],
   "source": [
    "# fitting the model for grid search\n",
    "'''\n",
    "grid = GridSearchCV(MLPClassifier(), param_grid, scoring = 'roc_auc', cv=5)\n",
    "t = time.time()\n",
    "grid.fit(X_train_pca, Y_train)\n",
    "print(f\"Running time {time.time()-t}s\")\n",
    "mlp_best_estimator = grid.best_estimator_\n",
    "mlp_best_estimator\n",
    "'''\n",
    "#Results:\n",
    "#Running time 2429.6921377182007s\n",
    "#MLPClassifier(activation='tanh', hidden_layer_sizes=(300,))"
   ]
  },
  {
   "cell_type": "code",
   "execution_count": 143,
   "metadata": {},
   "outputs": [
    {
     "data": {
      "text/plain": [
       "MLPClassifier(activation='tanh', hidden_layer_sizes=(300,))"
      ]
     },
     "execution_count": 143,
     "metadata": {},
     "output_type": "execute_result"
    }
   ],
   "source": [
    "mlp_best_estimator = MLPClassifier(activation='tanh', hidden_layer_sizes=(300,))\n",
    "mlp_best_estimator.fit(X_train_pca, Y_train)"
   ]
  },
  {
   "cell_type": "code",
   "execution_count": 144,
   "metadata": {
    "scrolled": false
   },
   "outputs": [
    {
     "data": {
      "image/png": "[encoded data removed]",
      "text/plain": [
       "<Figure size 432x288 with 2 Axes>"
      ]
     },
     "metadata": {
      "needs_background": "light"
     },
     "output_type": "display_data"
    },
    {
     "name": "stdout",
     "output_type": "stream",
     "text": [
      "[Yes, No]> F1 Score:[0.80952381 0.94936709]\n",
      "ROC AUC Score:0.84\n"
     ]
    }
   ],
   "source": [
    "pred_labels = mlp_best_estimator.predict(X_test_pca)\n",
    "cm = confusion_matrix(Y_test, pred_labels)\n",
    "disp = ConfusionMatrixDisplay(confusion_matrix=cm, display_labels=[\"yes\",\"no\"])\n",
    "disp.plot()\n",
    "plt.show()\n",
    "f1_results['MLP']['Origin'] = f1_score(Y_test,pred_labels, average = None)\n",
    "roc_results['MLP']['Origin'] = roc_auc_score(Y_test,pred_labels)\n",
    "\n",
    "print(f\"[Yes, No]> F1 Score:{f1_score(Y_test,pred_labels, average = None)}\")\n",
    "print(f\"ROC AUC Score:{roc_auc_score(Y_test,pred_labels, average = None)}\")"
   ]
  },
  {
   "cell_type": "markdown",
   "metadata": {},
   "source": [
    "### Undersampled Data"
   ]
  },
  {
   "cell_type": "code",
   "execution_count": 145,
   "metadata": {},
   "outputs": [
    {
     "data": {
      "text/plain": [
       "'\\ngrid = GridSearchCV(MLPClassifier(), param_grid, scoring = \\'roc_auc\\', cv=5)\\nt = time.time()\\ngrid.fit(X_train_u, Y_train_u)\\nprint(f\"Running time {time.time()-t}s\")\\nmlp_best_estimator_us = grid.best_estimator_\\nmlp_best_estimator_us\\n'"
      ]
     },
     "execution_count": 145,
     "metadata": {},
     "output_type": "execute_result"
    }
   ],
   "source": [
    "# fitting the model for grid search\n",
    "'''\n",
    "grid = GridSearchCV(MLPClassifier(), param_grid, scoring = 'roc_auc', cv=5)\n",
    "t = time.time()\n",
    "grid.fit(X_train_u, Y_train_u)\n",
    "print(f\"Running time {time.time()-t}s\")\n",
    "mlp_best_estimator_us = grid.best_estimator_\n",
    "mlp_best_estimator_us\n",
    "'''\n",
    "#Results:\n",
    "#Running time 1080.8761518001556s\n",
    "#MLPClassifier(activation='tanh', alpha=0.05, max_iter=3000)"
   ]
  },
  {
   "cell_type": "code",
   "execution_count": 146,
   "metadata": {},
   "outputs": [
    {
     "data": {
      "text/plain": [
       "MLPClassifier(activation='tanh', alpha=0.05, max_iter=3000)"
      ]
     },
     "execution_count": 146,
     "metadata": {},
     "output_type": "execute_result"
    }
   ],
   "source": [
    "mlp_best_estimator_us = MLPClassifier(activation='tanh', alpha=0.05, max_iter=3000)\n",
    "mlp_best_estimator_us.fit(X_train_u, Y_train_u)"
   ]
  },
  {
   "cell_type": "code",
   "execution_count": 147,
   "metadata": {
    "scrolled": false
   },
   "outputs": [
    {
     "data": {
      "image/png": "[encoded data removed]",
      "text/plain": [
       "<Figure size 432x288 with 2 Axes>"
      ]
     },
     "metadata": {
      "needs_background": "light"
     },
     "output_type": "display_data"
    },
    {
     "name": "stdout",
     "output_type": "stream",
     "text": [
      "[Yes, No]> F1 Score:[0.82608696 0.94805195]\n",
      "ROC AUC Score:0.8666666666666667\n"
     ]
    }
   ],
   "source": [
    "pred_labels = mlp_best_estimator_us.predict(X_test_pca)\n",
    "cm = confusion_matrix(Y_test, pred_labels)\n",
    "disp = ConfusionMatrixDisplay(confusion_matrix=cm, display_labels=[\"yes\",\"no\"])\n",
    "disp.plot()\n",
    "plt.show()\n",
    "f1_results['MLP']['Us'] = f1_score(Y_test,pred_labels, average = None)\n",
    "roc_results['MLP']['Us'] = roc_auc_score(Y_test,pred_labels)\n",
    "print(f\"[Yes, No]> F1 Score:{f1_score(Y_test,pred_labels, average = None)}\")\n",
    "print(f\"ROC AUC Score:{roc_auc_score(Y_test,pred_labels, average = None)}\")"
   ]
  },
  {
   "cell_type": "markdown",
   "metadata": {},
   "source": [
    "### Oversampled Data"
   ]
  },
  {
   "cell_type": "code",
   "execution_count": 157,
   "metadata": {},
   "outputs": [
    {
     "data": {
      "text/plain": [
       "'\\ngrid = GridSearchCV(MLPClassifier(), param_grid, scoring = \\'roc_auc\\', cv=5)\\nt = time.time()\\ngrid.fit(X_train_o, Y_train_o)\\nprint(f\"Running time {time.time()-t}s\")\\nmlp_best_estimator_os = grid.best_estimator_\\nmlp_best_estimator_os\\n'"
      ]
     },
     "execution_count": 157,
     "metadata": {},
     "output_type": "execute_result"
    }
   ],
   "source": [
    "# fitting the model for grid search\n",
    "'''\n",
    "grid = GridSearchCV(MLPClassifier(), param_grid, scoring = 'roc_auc', cv=5)\n",
    "t = time.time()\n",
    "grid.fit(X_train_o, Y_train_o)\n",
    "print(f\"Running time {time.time()-t}s\")\n",
    "mlp_best_estimator_os = grid.best_estimator_\n",
    "mlp_best_estimator_os\n",
    "'''\n",
    "#Results:\n",
    "#Running time 4440.240978002548s\n",
    "#MLPClassifier(activation='tanh', alpha=0.05, hidden_layer_sizes=(50, 50, 50),max_iter=3000, solver='sgd')"
   ]
  },
  {
   "cell_type": "code",
   "execution_count": 149,
   "metadata": {},
   "outputs": [
    {
     "data": {
      "text/plain": [
       "MLPClassifier(activation='tanh', alpha=0.05, hidden_layer_sizes=(50, 50, 50),\n",
       "              max_iter=3000, solver='sgd')"
      ]
     },
     "execution_count": 149,
     "metadata": {},
     "output_type": "execute_result"
    }
   ],
   "source": [
    "mlp_best_estimator_os = MLPClassifier(activation='tanh', alpha=0.05, hidden_layer_sizes=(50, 50, 50),\n",
    "              max_iter=3000, solver='sgd')\n",
    "mlp_best_estimator_os.fit(X_train_o, Y_train_o)"
   ]
  },
  {
   "cell_type": "code",
   "execution_count": 150,
   "metadata": {
    "scrolled": true
   },
   "outputs": [
    {
     "data": {
      "image/png": "[encoded data removed]",
      "text/plain": [
       "<Figure size 432x288 with 2 Axes>"
      ]
     },
     "metadata": {
      "needs_background": "light"
     },
     "output_type": "display_data"
    },
    {
     "name": "stdout",
     "output_type": "stream",
     "text": [
      "[Yes, No]> F1 Score:[0.82608696 0.94805195]\n",
      "ROC AUC Score:0.8666666666666667\n"
     ]
    }
   ],
   "source": [
    "pred_labels = mlp_best_estimator_os.predict(X_test_pca)\n",
    "cm = confusion_matrix(Y_test, pred_labels)\n",
    "disp = ConfusionMatrixDisplay(confusion_matrix=cm, display_labels=[\"yes\",\"no\"])\n",
    "disp.plot()\n",
    "plt.show()\n",
    "f1_results['MLP']['Os'] = f1_score(Y_test,pred_labels, average = None)\n",
    "roc_results['MLP']['Os'] = roc_auc_score(Y_test,pred_labels)\n",
    "print(f\"[Yes, No]> F1 Score:{f1_score(Y_test,pred_labels, average = None)}\")\n",
    "print(f\"ROC AUC Score:{roc_auc_score(Y_test,pred_labels, average = None)}\")"
   ]
  },
  {
   "cell_type": "markdown",
   "metadata": {},
   "source": [
    "### SMOTE + Tomek Links"
   ]
  },
  {
   "cell_type": "code",
   "execution_count": null,
   "metadata": {},
   "outputs": [],
   "source": [
    "# fitting the model for grid search\n",
    "'''\n",
    "grid = GridSearchCV(MLPClassifier(), param_grid, scoring = 'roc_auc', cv=5)\n",
    "t = time.time()\n",
    "grid.fit(X_tl, y_tl)\n",
    "print(f\"Running time {time.time()-t}s\")\n",
    "mlp_best_estimator_tl = grid.best_estimator_\n",
    "mlp_best_estimator_tl\n",
    "'''\n",
    "#Results\n",
    "#Running time 4137.7049124240875s\n",
    "#MLPClassifier(hidden_layer_sizes=(50, 100, 50), learning_rate='adaptive',\n",
    "              max_iter=3000)"
   ]
  },
  {
   "cell_type": "code",
   "execution_count": 151,
   "metadata": {},
   "outputs": [
    {
     "data": {
      "text/plain": [
       "MLPClassifier(hidden_layer_sizes=(50, 100, 50), learning_rate='adaptive',\n",
       "              max_iter=3000)"
      ]
     },
     "execution_count": 151,
     "metadata": {},
     "output_type": "execute_result"
    }
   ],
   "source": [
    "mlp_best_estimator_tl = MLPClassifier(hidden_layer_sizes=(50, 100, 50), learning_rate='adaptive',\n",
    "              max_iter=3000)\n",
    "mlp_best_estimator_tl.fit(X_tl, y_tl)"
   ]
  },
  {
   "cell_type": "code",
   "execution_count": 152,
   "metadata": {
    "scrolled": false
   },
   "outputs": [
    {
     "data": {
      "image/png": "[encoded data removed]",
      "text/plain": [
       "<Figure size 432x288 with 2 Axes>"
      ]
     },
     "metadata": {
      "needs_background": "light"
     },
     "output_type": "display_data"
    },
    {
     "name": "stdout",
     "output_type": "stream",
     "text": [
      "[Yes, No]> F1 Score:[0.80851064 0.94117647]\n",
      "ROC AUC Score:0.86\n"
     ]
    }
   ],
   "source": [
    "pred_labels = mlp_best_estimator_tl.predict(X_test_pca)\n",
    "cm = confusion_matrix(Y_test, pred_labels)\n",
    "disp = ConfusionMatrixDisplay(confusion_matrix=cm, display_labels=[\"yes\",\"no\"])\n",
    "disp.plot()\n",
    "plt.show()\n",
    "f1_results['MLP']['St'] = f1_score(Y_test,pred_labels, average = None)\n",
    "roc_results['MLP']['St'] = roc_auc_score(Y_test,pred_labels)\n",
    "print(f\"[Yes, No]> F1 Score:{f1_score(Y_test,pred_labels, average = None)}\")\n",
    "print(f\"ROC AUC Score:{roc_auc_score(Y_test,pred_labels, average = None)}\")"
   ]
  },
  {
   "cell_type": "markdown",
   "metadata": {},
   "source": [
    "### ADASYN"
   ]
  },
  {
   "cell_type": "code",
   "execution_count": null,
   "metadata": {},
   "outputs": [],
   "source": [
    "# fitting the model for grid search\n",
    "'''\n",
    "grid = GridSearchCV(MLPClassifier(), param_grid, scoring = 'roc_auc', cv=5)\n",
    "t = time.time()\n",
    "grid.fit(X_ada, y_ada)\n",
    "print(f\"Running time {time.time()-t}s\")\n",
    "mlp_best_estimator_ada = grid.best_estimator_\n",
    "mlp_best_estimator_ada\n",
    "'''\n",
    "#Results:\n",
    "#Running time 7116.7388434410095s\n",
    "#MLPClassifier(hidden_layer_sizes=(50, 100, 50), learning_rate='adaptive', max_iter=3000, solver='sgd')"
   ]
  },
  {
   "cell_type": "code",
   "execution_count": 153,
   "metadata": {},
   "outputs": [
    {
     "data": {
      "text/plain": [
       "MLPClassifier(hidden_layer_sizes=(50, 100, 50), learning_rate='adaptive',\n",
       "              max_iter=3000, solver='sgd')"
      ]
     },
     "execution_count": 153,
     "metadata": {},
     "output_type": "execute_result"
    }
   ],
   "source": [
    "mlp_best_estimator_ada = MLPClassifier(hidden_layer_sizes=(50, 100, 50), learning_rate='adaptive',\n",
    "              max_iter=3000, solver='sgd')\n",
    "mlp_best_estimator_ada.fit(X_ada, y_ada)"
   ]
  },
  {
   "cell_type": "code",
   "execution_count": 154,
   "metadata": {
    "scrolled": false
   },
   "outputs": [
    {
     "data": {
      "image/png": "[encoded data removed]",
      "text/plain": [
       "<Figure size 432x288 with 2 Axes>"
      ]
     },
     "metadata": {
      "needs_background": "light"
     },
     "output_type": "display_data"
    },
    {
     "name": "stdout",
     "output_type": "stream",
     "text": [
      "[Yes, No]> F1 Score:[0.85185185 0.94520548]\n",
      "ROC AUC Score:0.9199999999999999\n"
     ]
    }
   ],
   "source": [
    "pred_labels = mlp_best_estimator_ada.predict(X_test_pca)\n",
    "cm = confusion_matrix(Y_test, pred_labels)\n",
    "disp = ConfusionMatrixDisplay(confusion_matrix=cm, display_labels=[\"yes\",\"no\"])\n",
    "disp.plot()\n",
    "plt.show()\n",
    "f1_results['MLP']['Ada'] = f1_score(Y_test,pred_labels, average = None)\n",
    "roc_results['MLP']['Ada'] = roc_auc_score(Y_test,pred_labels)\n",
    "print(f\"[Yes, No]> F1 Score:{f1_score(Y_test,pred_labels, average = None)}\")\n",
    "print(f\"ROC AUC Score:{roc_auc_score(Y_test,pred_labels, average = None)}\")"
   ]
  },
  {
   "cell_type": "markdown",
   "metadata": {},
   "source": [
    "### SMOTE + Undersampler"
   ]
  },
  {
   "cell_type": "code",
   "execution_count": null,
   "metadata": {},
   "outputs": [],
   "source": [
    "# fitting the model for grid search\n",
    "'''\n",
    "grid = GridSearchCV(MLPClassifier(), param_grid, scoring = 'roc_auc', cv=5)\n",
    "t = time.time()\n",
    "grid.fit(X_hybrid, y_hybrid)\n",
    "print(f\"Running time {time.time()-t}s\")\n",
    "mlp_best_estimator_su = grid.best_estimator_\n",
    "mlp_best_estimator_su\n",
    "'''\n",
    "#Results\n",
    "#Running time 1944.8554394245148s\n",
    "#MLPClassifier(hidden_layer_sizes=(50, 100, 50), max_iter=3000)"
   ]
  },
  {
   "cell_type": "code",
   "execution_count": 155,
   "metadata": {},
   "outputs": [
    {
     "data": {
      "text/plain": [
       "MLPClassifier(hidden_layer_sizes=(50, 100, 50), max_iter=3000)"
      ]
     },
     "execution_count": 155,
     "metadata": {},
     "output_type": "execute_result"
    }
   ],
   "source": [
    "mlp_best_estimator_su = MLPClassifier(hidden_layer_sizes=(50, 100, 50), max_iter=3000)\n",
    "mlp_best_estimator_su.fit(X_hybrid, y_hybrid)"
   ]
  },
  {
   "cell_type": "code",
   "execution_count": 156,
   "metadata": {
    "scrolled": false
   },
   "outputs": [
    {
     "data": {
      "image/png": "[encoded data removed]",
      "text/plain": [
       "<Figure size 432x288 with 2 Axes>"
      ]
     },
     "metadata": {
      "needs_background": "light"
     },
     "output_type": "display_data"
    },
    {
     "name": "stdout",
     "output_type": "stream",
     "text": [
      "[Yes, No]> F1 Score:[0.82608696 0.94805195]\n",
      "ROC AUC Score:0.8666666666666667\n"
     ]
    }
   ],
   "source": [
    "pred_labels = mlp_best_estimator_su.predict(X_test_pca)\n",
    "cm = confusion_matrix(Y_test, pred_labels)\n",
    "disp = ConfusionMatrixDisplay(confusion_matrix=cm, display_labels=[\"yes\",\"no\"])\n",
    "disp.plot()\n",
    "plt.show()\n",
    "f1_results['MLP']['StUs'] = f1_score(Y_test,pred_labels, average = None)\n",
    "roc_results['MLP']['StUs'] = roc_auc_score(Y_test,pred_labels)\n",
    "print(f\"[Yes, No]> F1 Score:{f1_score(Y_test,pred_labels, average = None)}\")\n",
    "print(f\"ROC AUC Score:{roc_auc_score(Y_test,pred_labels, average = None)}\")"
   ]
  },
  {
   "cell_type": "markdown",
   "metadata": {},
   "source": [
    "# Results"
   ]
  },
  {
   "cell_type": "code",
   "execution_count": 158,
   "metadata": {},
   "outputs": [
    {
     "data": {
      "text/plain": [
       "{'SVC': {'Origin': array([0.80952381, 0.94936709]),\n",
       "  'Us': array([0.85106383, 0.95424837]),\n",
       "  'Os': array([0.85106383, 0.95424837]),\n",
       "  'St': array([0.85106383, 0.95424837]),\n",
       "  'Ada': array([0.86792453, 0.95238095]),\n",
       "  'StUs': array([0.82608696, 0.94805195])},\n",
       " 'RF': {'Origin': array([0.82608696, 0.94805195]),\n",
       "  'Us': array([0.83333333, 0.94736842]),\n",
       "  'Os': array([0.82608696, 0.94805195]),\n",
       "  'St': array([0.82608696, 0.94805195]),\n",
       "  'Ada': array([0.92      , 0.97333333]),\n",
       "  'StUs': array([0.82608696, 0.94805195])},\n",
       " 'MLP': {'Origin': array([0.80952381, 0.94936709]),\n",
       "  'Us': array([0.82608696, 0.94805195]),\n",
       "  'Os': array([0.82608696, 0.94805195]),\n",
       "  'St': array([0.80851064, 0.94117647]),\n",
       "  'Ada': array([0.85185185, 0.94520548]),\n",
       "  'StUs': array([0.82608696, 0.94805195])}}"
      ]
     },
     "execution_count": 158,
     "metadata": {},
     "output_type": "execute_result"
    }
   ],
   "source": [
    "f1_results"
   ]
  },
  {
   "cell_type": "code",
   "execution_count": 203,
   "metadata": {},
   "outputs": [
    {
     "data": {
      "image/png": "[encoded data removed]",
      "text/plain": [
       "<Figure size 432x288 with 1 Axes>"
      ]
     },
     "metadata": {},
     "output_type": "display_data"
    }
   ],
   "source": [
    "fig = plt.figure()\n",
    "ax = fig.add_axes([0,0,1,1])\n",
    "methods = ['Original', 'Undersampled','Oversampled', 'Smote+TomekLinks', 'ADASYN', 'SMOTE+Undersmapler']\n",
    "data = [[ (x[0]+x[1])/2  for x in f1_results['SVC'].values()],\n",
    "        [ (x[0]+x[1])/2  for x in f1_results['MLP'].values()],\n",
    "       [ (x[0]+x[1])/2  for x in f1_results['RF'].values()]]\n",
    "\n",
    "\n",
    "ind = np.arange(6) \n",
    "width = 0.15       \n",
    "plt.bar(ind, data[0], width, label='SVC')\n",
    "plt.bar(ind + width, data[1], width,\n",
    "    label='MLP')\n",
    "plt.bar(ind + 2*width, data[2], width,\n",
    "    label='RF')\n",
    "\n",
    "plt.ylabel('Scores')\n",
    "plt.title('Scores by Method and Classifier')\n",
    "\n",
    "plt.xticks(ind + width , methods)\n",
    "plt.setp(ax.get_xticklabels(), rotation=30, horizontalalignment='right')\n",
    "plt.legend(loc='best')\n",
    "plt.plot([0.9]*7, linestyle = 'dotted')\n",
    "plt.show()"
   ]
  },
  {
   "cell_type": "code",
   "execution_count": 159,
   "metadata": {},
   "outputs": [
    {
     "data": {
      "text/plain": [
       "{'SVC': {'Origin': 0.84,\n",
       "  'Us': 0.8866666666666668,\n",
       "  'Os': 0.8866666666666668,\n",
       "  'St': 0.8866666666666668,\n",
       "  'Ada': 0.9266666666666667,\n",
       "  'StUs': 0.8666666666666667},\n",
       " 'RF': {'Origin': 0.8666666666666667,\n",
       "  'Us': 0.88,\n",
       "  'Os': 0.8666666666666667,\n",
       "  'St': 0.8666666666666667,\n",
       "  'Ada': 0.9466666666666668,\n",
       "  'StUs': 0.8666666666666667},\n",
       " 'MLP': {'Origin': 0.84,\n",
       "  'Us': 0.8666666666666667,\n",
       "  'Os': 0.8666666666666667,\n",
       "  'St': 0.86,\n",
       "  'Ada': 0.9199999999999999,\n",
       "  'StUs': 0.8666666666666667}}"
      ]
     },
     "execution_count": 159,
     "metadata": {},
     "output_type": "execute_result"
    }
   ],
   "source": [
    "roc_results"
   ]
  },
  {
   "cell_type": "code",
   "execution_count": 202,
   "metadata": {},
   "outputs": [
    {
     "data": {
      "image/png": "[encoded data removed]",
      "text/plain": [
       "<Figure size 432x288 with 1 Axes>"
      ]
     },
     "metadata": {},
     "output_type": "display_data"
    }
   ],
   "source": [
    "fig = plt.figure()\n",
    "ax = fig.add_axes([0,0,1,1])\n",
    "methods = ['Original', 'Undersampled','Oversampled', 'Smote+TomekLinks', 'ADASYN', 'SMOTE+Undersmapler']\n",
    "data = [[ x  for x in roc_results['SVC'].values()],\n",
    "        [ x  for x in roc_results['MLP'].values()],\n",
    "       [ x  for x in roc_results['RF'].values()]]\n",
    "\n",
    "\n",
    "ind = np.arange(6) \n",
    "width = 0.15       \n",
    "plt.bar(ind, data[0], width, label='SVC')\n",
    "plt.bar(ind + width, data[1], width,\n",
    "    label='MLP')\n",
    "plt.bar(ind + 2*width, data[2], width,\n",
    "    label='RF')\n",
    "\n",
    "plt.ylabel('Scores')\n",
    "plt.title('Scores by Method and Classifier')\n",
    "\n",
    "plt.xticks(ind + width , methods)\n",
    "plt.setp(ax.get_xticklabels(), rotation=30, horizontalalignment='right')\n",
    "plt.legend(loc='best')\n",
    "plt.plot([0.9]*7, linestyle = 'dotted')\n",
    "plt.show()"
   ]
  },
  {
   "cell_type": "code",
   "execution_count": null,
   "metadata": {},
   "outputs": [],
   "source": []
  }
 ],
 "metadata": {
  "kernelspec": {
   "display_name": "Python 3 (ipykernel)",
   "language": "python",
   "name": "python3"
  },
  "language_info": {
   "codemirror_mode": {
    "name": "ipython",
    "version": 3
   },
   "file_extension": ".py",
   "mimetype": "text/x-python",
   "name": "python",
   "nbconvert_exporter": "python",
   "pygments_lexer": "ipython3",
   "version": "3.9.7"
  }
 },
 "nbformat": 4,
 "nbformat_minor": 4
}
