{
 "cells": [
  {
   "cell_type": "markdown",
   "metadata": {},
   "source": [
    "# GROUP  MEMBERS\n",
    "1- Doaa Mohamed    106413\n",
    "\n",
    "2- Inês Leite      92928\n",
    "\n",
    "3- Pedro Marques  92926"
   ]
  },
  {
   "cell_type": "markdown",
   "metadata": {},
   "source": [
    "# Turbo Engine data description\n",
    "\n",
    "The engine under study is a turbofan engine (a jet engine). A turbofan engine has many components. A few important components are: Fan, Low Pressure Compressor (LPC), High Pressure Compressor (HPC), Low Pressure Turbine (LPT), High Pressure Turbine (HPT)."
   ]
  },
  {
   "cell_type": "code",
   "execution_count": null,
   "metadata": {},
   "outputs": [],
   "source": [
    "df_train = pd.read_csv('dataTopicF/train_FD001.csv')\n",
    "df_train.columns\n"
   ]
  },
  {
   "cell_type": "markdown",
   "metadata": {},
   "source": [
    "***Goal***\n",
    "-------------------------\n",
    "During operation, degradation occurs in each of the components. If degradation level in any component exceeds a threshold, the engine is said to have failed. We don't want jet engines to fail mid-air. Therefore, jet engines are inspected before every take off. This is a form of periodic maintenance that is not cost effective.\n",
    "\n",
    "But given the critical nature of operation (considering human lives involved), this form of maintenance strategy is justified. Even then, we need a system that can given us early warning if something is going to fail.\n",
    "\n",
    "An early warning, in many cases, may help us prepare for the problem, if not prevent it altogether. A sufficiently early warning will enable us to prevent the disaster. But if an early warning is too conservative, it will lead to unnecessary waste of money. So, aim of Classifiction is to determine which is already failed and we have to replace it early to avoid the consequences effects"
   ]
  },
  {
   "cell_type": "markdown",
   "metadata": {},
   "source": [
    "***Objectives***\n",
    "-------------------------\n",
    "    - Load Data\n",
    "    - Data Cleaning\n",
    "    - Class Imbalance\n",
    "    - Data Extraction\n",
    "    - Building Random Forest\n",
    "    - BUILD OPTIMAL SVM CLASSIFIER\n",
    "    - Preliminary / Unoptimized Model\n",
    "    - Model Performance (Unoptimized)\n",
    "    - Optimize SVM parameters\n",
    "    - Final SVM with optimal parameters\n",
    "    - Model Performance (Optimized)\n",
    "    - Multi-Layer Perceptron Neural Network "
   ]
  },
  {
   "cell_type": "code",
   "execution_count": 29,
   "metadata": {},
   "outputs": [],
   "source": [
    "import numpy as np\n",
    "import matplotlib.pyplot as plt\n",
    "import pandas as pd\n",
    "import seaborn as sns\n",
    "from sklearn.metrics import confusion_matrix, accuracy_score\n",
    "import matplotlib.pyplot as plt\n",
    "from sklearn.metrics import roc_curve, auc\n",
    "from sklearn.metrics import confusion_matrix\n",
    "from sklearn.metrics import classification_report\n",
    "from sklearn.model_selection import KFold, cross_val_score\n",
    "from sklearn.model_selection import train_test_split, GridSearchCV\n",
    "from sklearn.ensemble import RandomForestClassifier \n",
    "from urllib.request import urlopen \n",
    "from sklearn.svm import SVC # make support vector machine for classification\n",
    "from sklearn.metrics import plot_confusion_matrix # draws confusion matrix\n",
    "from sklearn import preprocessing"
   ]
  },
  {
   "cell_type": "markdown",
   "metadata": {},
   "source": [
    "## Load Data"
   ]
  },
  {
   "cell_type": "code",
   "execution_count": 4,
   "metadata": {
    "scrolled": false
   },
   "outputs": [
    {
     "data": {
      "text/html": [
       "<div>\n",
       "<style scoped>\n",
       "    .dataframe tbody tr th:only-of-type {\n",
       "        vertical-align: middle;\n",
       "    }\n",
       "\n",
       "    .dataframe tbody tr th {\n",
       "        vertical-align: top;\n",
       "    }\n",
       "\n",
       "    .dataframe thead th {\n",
       "        text-align: right;\n",
       "    }\n",
       "</style>\n",
       "<table border=\"1\" class=\"dataframe\">\n",
       "  <thead>\n",
       "    <tr style=\"text-align: right;\">\n",
       "      <th></th>\n",
       "      <th>setting1</th>\n",
       "      <th>setting2</th>\n",
       "      <th>setting3</th>\n",
       "      <th>s1</th>\n",
       "      <th>s2</th>\n",
       "      <th>s3</th>\n",
       "      <th>s4</th>\n",
       "      <th>s5</th>\n",
       "      <th>s6</th>\n",
       "      <th>s7</th>\n",
       "      <th>...</th>\n",
       "      <th>s13</th>\n",
       "      <th>s14</th>\n",
       "      <th>s15</th>\n",
       "      <th>s16</th>\n",
       "      <th>s17</th>\n",
       "      <th>s18</th>\n",
       "      <th>s19</th>\n",
       "      <th>s20</th>\n",
       "      <th>s21</th>\n",
       "      <th>Failure_status</th>\n",
       "    </tr>\n",
       "  </thead>\n",
       "  <tbody>\n",
       "    <tr>\n",
       "      <th>0</th>\n",
       "      <td>-0.0007</td>\n",
       "      <td>-0.0004</td>\n",
       "      <td>100.0</td>\n",
       "      <td>518.67</td>\n",
       "      <td>641.82</td>\n",
       "      <td>1589.70</td>\n",
       "      <td>1400.60</td>\n",
       "      <td>14.62</td>\n",
       "      <td>21.61</td>\n",
       "      <td>554.36</td>\n",
       "      <td>...</td>\n",
       "      <td>2388.02</td>\n",
       "      <td>8138.62</td>\n",
       "      <td>8.4195</td>\n",
       "      <td>0.03</td>\n",
       "      <td>392</td>\n",
       "      <td>2388</td>\n",
       "      <td>100.0</td>\n",
       "      <td>39.06</td>\n",
       "      <td>23.4190</td>\n",
       "      <td>no</td>\n",
       "    </tr>\n",
       "    <tr>\n",
       "      <th>1</th>\n",
       "      <td>0.0019</td>\n",
       "      <td>-0.0003</td>\n",
       "      <td>100.0</td>\n",
       "      <td>518.67</td>\n",
       "      <td>642.15</td>\n",
       "      <td>1591.82</td>\n",
       "      <td>1403.14</td>\n",
       "      <td>14.62</td>\n",
       "      <td>21.61</td>\n",
       "      <td>553.75</td>\n",
       "      <td>...</td>\n",
       "      <td>2388.07</td>\n",
       "      <td>8131.49</td>\n",
       "      <td>8.4318</td>\n",
       "      <td>0.03</td>\n",
       "      <td>392</td>\n",
       "      <td>2388</td>\n",
       "      <td>100.0</td>\n",
       "      <td>39.00</td>\n",
       "      <td>23.4236</td>\n",
       "      <td>no</td>\n",
       "    </tr>\n",
       "    <tr>\n",
       "      <th>2</th>\n",
       "      <td>-0.0043</td>\n",
       "      <td>0.0003</td>\n",
       "      <td>100.0</td>\n",
       "      <td>518.67</td>\n",
       "      <td>642.35</td>\n",
       "      <td>1587.99</td>\n",
       "      <td>1404.20</td>\n",
       "      <td>14.62</td>\n",
       "      <td>21.61</td>\n",
       "      <td>554.26</td>\n",
       "      <td>...</td>\n",
       "      <td>2388.03</td>\n",
       "      <td>8133.23</td>\n",
       "      <td>8.4178</td>\n",
       "      <td>0.03</td>\n",
       "      <td>390</td>\n",
       "      <td>2388</td>\n",
       "      <td>100.0</td>\n",
       "      <td>38.95</td>\n",
       "      <td>23.3442</td>\n",
       "      <td>no</td>\n",
       "    </tr>\n",
       "    <tr>\n",
       "      <th>3</th>\n",
       "      <td>0.0007</td>\n",
       "      <td>0.0000</td>\n",
       "      <td>100.0</td>\n",
       "      <td>518.67</td>\n",
       "      <td>642.35</td>\n",
       "      <td>1582.79</td>\n",
       "      <td>1401.87</td>\n",
       "      <td>14.62</td>\n",
       "      <td>21.61</td>\n",
       "      <td>554.45</td>\n",
       "      <td>...</td>\n",
       "      <td>2388.08</td>\n",
       "      <td>8133.83</td>\n",
       "      <td>8.3682</td>\n",
       "      <td>0.03</td>\n",
       "      <td>392</td>\n",
       "      <td>2388</td>\n",
       "      <td>100.0</td>\n",
       "      <td>38.88</td>\n",
       "      <td>23.3739</td>\n",
       "      <td>no</td>\n",
       "    </tr>\n",
       "    <tr>\n",
       "      <th>4</th>\n",
       "      <td>-0.0019</td>\n",
       "      <td>-0.0002</td>\n",
       "      <td>100.0</td>\n",
       "      <td>518.67</td>\n",
       "      <td>642.37</td>\n",
       "      <td>1582.85</td>\n",
       "      <td>1406.22</td>\n",
       "      <td>14.62</td>\n",
       "      <td>21.61</td>\n",
       "      <td>554.00</td>\n",
       "      <td>...</td>\n",
       "      <td>2388.04</td>\n",
       "      <td>8133.80</td>\n",
       "      <td>8.4294</td>\n",
       "      <td>0.03</td>\n",
       "      <td>393</td>\n",
       "      <td>2388</td>\n",
       "      <td>100.0</td>\n",
       "      <td>38.90</td>\n",
       "      <td>23.4044</td>\n",
       "      <td>no</td>\n",
       "    </tr>\n",
       "    <tr>\n",
       "      <th>...</th>\n",
       "      <td>...</td>\n",
       "      <td>...</td>\n",
       "      <td>...</td>\n",
       "      <td>...</td>\n",
       "      <td>...</td>\n",
       "      <td>...</td>\n",
       "      <td>...</td>\n",
       "      <td>...</td>\n",
       "      <td>...</td>\n",
       "      <td>...</td>\n",
       "      <td>...</td>\n",
       "      <td>...</td>\n",
       "      <td>...</td>\n",
       "      <td>...</td>\n",
       "      <td>...</td>\n",
       "      <td>...</td>\n",
       "      <td>...</td>\n",
       "      <td>...</td>\n",
       "      <td>...</td>\n",
       "      <td>...</td>\n",
       "      <td>...</td>\n",
       "    </tr>\n",
       "    <tr>\n",
       "      <th>20626</th>\n",
       "      <td>-0.0004</td>\n",
       "      <td>-0.0003</td>\n",
       "      <td>100.0</td>\n",
       "      <td>518.67</td>\n",
       "      <td>643.49</td>\n",
       "      <td>1597.98</td>\n",
       "      <td>1428.63</td>\n",
       "      <td>14.62</td>\n",
       "      <td>21.61</td>\n",
       "      <td>551.43</td>\n",
       "      <td>...</td>\n",
       "      <td>2388.26</td>\n",
       "      <td>8137.60</td>\n",
       "      <td>8.4956</td>\n",
       "      <td>0.03</td>\n",
       "      <td>397</td>\n",
       "      <td>2388</td>\n",
       "      <td>100.0</td>\n",
       "      <td>38.49</td>\n",
       "      <td>22.9735</td>\n",
       "      <td>yes</td>\n",
       "    </tr>\n",
       "    <tr>\n",
       "      <th>20627</th>\n",
       "      <td>-0.0016</td>\n",
       "      <td>-0.0005</td>\n",
       "      <td>100.0</td>\n",
       "      <td>518.67</td>\n",
       "      <td>643.54</td>\n",
       "      <td>1604.50</td>\n",
       "      <td>1433.58</td>\n",
       "      <td>14.62</td>\n",
       "      <td>21.61</td>\n",
       "      <td>550.86</td>\n",
       "      <td>...</td>\n",
       "      <td>2388.22</td>\n",
       "      <td>8136.50</td>\n",
       "      <td>8.5139</td>\n",
       "      <td>0.03</td>\n",
       "      <td>395</td>\n",
       "      <td>2388</td>\n",
       "      <td>100.0</td>\n",
       "      <td>38.30</td>\n",
       "      <td>23.1594</td>\n",
       "      <td>yes</td>\n",
       "    </tr>\n",
       "    <tr>\n",
       "      <th>20628</th>\n",
       "      <td>0.0004</td>\n",
       "      <td>0.0000</td>\n",
       "      <td>100.0</td>\n",
       "      <td>518.67</td>\n",
       "      <td>643.42</td>\n",
       "      <td>1602.46</td>\n",
       "      <td>1428.18</td>\n",
       "      <td>14.62</td>\n",
       "      <td>21.61</td>\n",
       "      <td>550.94</td>\n",
       "      <td>...</td>\n",
       "      <td>2388.24</td>\n",
       "      <td>8141.05</td>\n",
       "      <td>8.5646</td>\n",
       "      <td>0.03</td>\n",
       "      <td>398</td>\n",
       "      <td>2388</td>\n",
       "      <td>100.0</td>\n",
       "      <td>38.44</td>\n",
       "      <td>22.9333</td>\n",
       "      <td>yes</td>\n",
       "    </tr>\n",
       "    <tr>\n",
       "      <th>20629</th>\n",
       "      <td>-0.0011</td>\n",
       "      <td>0.0003</td>\n",
       "      <td>100.0</td>\n",
       "      <td>518.67</td>\n",
       "      <td>643.23</td>\n",
       "      <td>1605.26</td>\n",
       "      <td>1426.53</td>\n",
       "      <td>14.62</td>\n",
       "      <td>21.61</td>\n",
       "      <td>550.68</td>\n",
       "      <td>...</td>\n",
       "      <td>2388.23</td>\n",
       "      <td>8139.29</td>\n",
       "      <td>8.5389</td>\n",
       "      <td>0.03</td>\n",
       "      <td>395</td>\n",
       "      <td>2388</td>\n",
       "      <td>100.0</td>\n",
       "      <td>38.29</td>\n",
       "      <td>23.0640</td>\n",
       "      <td>yes</td>\n",
       "    </tr>\n",
       "    <tr>\n",
       "      <th>20630</th>\n",
       "      <td>-0.0032</td>\n",
       "      <td>-0.0005</td>\n",
       "      <td>100.0</td>\n",
       "      <td>518.67</td>\n",
       "      <td>643.85</td>\n",
       "      <td>1600.38</td>\n",
       "      <td>1432.14</td>\n",
       "      <td>14.62</td>\n",
       "      <td>21.61</td>\n",
       "      <td>550.79</td>\n",
       "      <td>...</td>\n",
       "      <td>2388.26</td>\n",
       "      <td>8137.33</td>\n",
       "      <td>8.5036</td>\n",
       "      <td>0.03</td>\n",
       "      <td>396</td>\n",
       "      <td>2388</td>\n",
       "      <td>100.0</td>\n",
       "      <td>38.37</td>\n",
       "      <td>23.0522</td>\n",
       "      <td>yes</td>\n",
       "    </tr>\n",
       "  </tbody>\n",
       "</table>\n",
       "<p>20631 rows × 25 columns</p>\n",
       "</div>"
      ],
      "text/plain": [
       "       setting1  setting2  setting3      s1      s2       s3       s4     s5  \\\n",
       "0       -0.0007   -0.0004     100.0  518.67  641.82  1589.70  1400.60  14.62   \n",
       "1        0.0019   -0.0003     100.0  518.67  642.15  1591.82  1403.14  14.62   \n",
       "2       -0.0043    0.0003     100.0  518.67  642.35  1587.99  1404.20  14.62   \n",
       "3        0.0007    0.0000     100.0  518.67  642.35  1582.79  1401.87  14.62   \n",
       "4       -0.0019   -0.0002     100.0  518.67  642.37  1582.85  1406.22  14.62   \n",
       "...         ...       ...       ...     ...     ...      ...      ...    ...   \n",
       "20626   -0.0004   -0.0003     100.0  518.67  643.49  1597.98  1428.63  14.62   \n",
       "20627   -0.0016   -0.0005     100.0  518.67  643.54  1604.50  1433.58  14.62   \n",
       "20628    0.0004    0.0000     100.0  518.67  643.42  1602.46  1428.18  14.62   \n",
       "20629   -0.0011    0.0003     100.0  518.67  643.23  1605.26  1426.53  14.62   \n",
       "20630   -0.0032   -0.0005     100.0  518.67  643.85  1600.38  1432.14  14.62   \n",
       "\n",
       "          s6      s7  ...      s13      s14     s15   s16  s17   s18    s19  \\\n",
       "0      21.61  554.36  ...  2388.02  8138.62  8.4195  0.03  392  2388  100.0   \n",
       "1      21.61  553.75  ...  2388.07  8131.49  8.4318  0.03  392  2388  100.0   \n",
       "2      21.61  554.26  ...  2388.03  8133.23  8.4178  0.03  390  2388  100.0   \n",
       "3      21.61  554.45  ...  2388.08  8133.83  8.3682  0.03  392  2388  100.0   \n",
       "4      21.61  554.00  ...  2388.04  8133.80  8.4294  0.03  393  2388  100.0   \n",
       "...      ...     ...  ...      ...      ...     ...   ...  ...   ...    ...   \n",
       "20626  21.61  551.43  ...  2388.26  8137.60  8.4956  0.03  397  2388  100.0   \n",
       "20627  21.61  550.86  ...  2388.22  8136.50  8.5139  0.03  395  2388  100.0   \n",
       "20628  21.61  550.94  ...  2388.24  8141.05  8.5646  0.03  398  2388  100.0   \n",
       "20629  21.61  550.68  ...  2388.23  8139.29  8.5389  0.03  395  2388  100.0   \n",
       "20630  21.61  550.79  ...  2388.26  8137.33  8.5036  0.03  396  2388  100.0   \n",
       "\n",
       "         s20      s21  Failure_status  \n",
       "0      39.06  23.4190              no  \n",
       "1      39.00  23.4236              no  \n",
       "2      38.95  23.3442              no  \n",
       "3      38.88  23.3739              no  \n",
       "4      38.90  23.4044              no  \n",
       "...      ...      ...             ...  \n",
       "20626  38.49  22.9735             yes  \n",
       "20627  38.30  23.1594             yes  \n",
       "20628  38.44  22.9333             yes  \n",
       "20629  38.29  23.0640             yes  \n",
       "20630  38.37  23.0522             yes  \n",
       "\n",
       "[20631 rows x 25 columns]"
      ]
     },
     "execution_count": 4,
     "metadata": {},
     "output_type": "execute_result"
    }
   ],
   "source": [
    "df_train = pd.read_csv('dataTopicF/train_FD001.csv')\n",
    "df_train"
   ]
  },
  {
   "cell_type": "code",
   "execution_count": 5,
   "metadata": {},
   "outputs": [
    {
     "data": {
      "text/html": [
       "<div>\n",
       "<style scoped>\n",
       "    .dataframe tbody tr th:only-of-type {\n",
       "        vertical-align: middle;\n",
       "    }\n",
       "\n",
       "    .dataframe tbody tr th {\n",
       "        vertical-align: top;\n",
       "    }\n",
       "\n",
       "    .dataframe thead th {\n",
       "        text-align: right;\n",
       "    }\n",
       "</style>\n",
       "<table border=\"1\" class=\"dataframe\">\n",
       "  <thead>\n",
       "    <tr style=\"text-align: right;\">\n",
       "      <th></th>\n",
       "      <th>setting1</th>\n",
       "      <th>setting2</th>\n",
       "      <th>setting3</th>\n",
       "      <th>s1</th>\n",
       "      <th>s2</th>\n",
       "      <th>s3</th>\n",
       "      <th>s4</th>\n",
       "      <th>s5</th>\n",
       "      <th>s6</th>\n",
       "      <th>s7</th>\n",
       "      <th>...</th>\n",
       "      <th>s13</th>\n",
       "      <th>s14</th>\n",
       "      <th>s15</th>\n",
       "      <th>s16</th>\n",
       "      <th>s17</th>\n",
       "      <th>s18</th>\n",
       "      <th>s19</th>\n",
       "      <th>s20</th>\n",
       "      <th>s21</th>\n",
       "      <th>Failure_status</th>\n",
       "    </tr>\n",
       "  </thead>\n",
       "  <tbody>\n",
       "    <tr>\n",
       "      <th>0</th>\n",
       "      <td>0.0023</td>\n",
       "      <td>0.0003</td>\n",
       "      <td>100.0</td>\n",
       "      <td>518.67</td>\n",
       "      <td>643.02</td>\n",
       "      <td>1585.29</td>\n",
       "      <td>1398.21</td>\n",
       "      <td>14.62</td>\n",
       "      <td>21.61</td>\n",
       "      <td>553.90</td>\n",
       "      <td>...</td>\n",
       "      <td>2388.03</td>\n",
       "      <td>8125.55</td>\n",
       "      <td>8.4052</td>\n",
       "      <td>0.03</td>\n",
       "      <td>392</td>\n",
       "      <td>2388</td>\n",
       "      <td>100.0</td>\n",
       "      <td>38.86</td>\n",
       "      <td>23.3735</td>\n",
       "      <td>no</td>\n",
       "    </tr>\n",
       "    <tr>\n",
       "      <th>1</th>\n",
       "      <td>-0.0027</td>\n",
       "      <td>-0.0003</td>\n",
       "      <td>100.0</td>\n",
       "      <td>518.67</td>\n",
       "      <td>641.71</td>\n",
       "      <td>1588.45</td>\n",
       "      <td>1395.42</td>\n",
       "      <td>14.62</td>\n",
       "      <td>21.61</td>\n",
       "      <td>554.85</td>\n",
       "      <td>...</td>\n",
       "      <td>2388.06</td>\n",
       "      <td>8139.62</td>\n",
       "      <td>8.3803</td>\n",
       "      <td>0.03</td>\n",
       "      <td>393</td>\n",
       "      <td>2388</td>\n",
       "      <td>100.0</td>\n",
       "      <td>39.02</td>\n",
       "      <td>23.3916</td>\n",
       "      <td>no</td>\n",
       "    </tr>\n",
       "    <tr>\n",
       "      <th>2</th>\n",
       "      <td>0.0003</td>\n",
       "      <td>0.0001</td>\n",
       "      <td>100.0</td>\n",
       "      <td>518.67</td>\n",
       "      <td>642.46</td>\n",
       "      <td>1586.94</td>\n",
       "      <td>1401.34</td>\n",
       "      <td>14.62</td>\n",
       "      <td>21.61</td>\n",
       "      <td>554.11</td>\n",
       "      <td>...</td>\n",
       "      <td>2388.03</td>\n",
       "      <td>8130.10</td>\n",
       "      <td>8.4441</td>\n",
       "      <td>0.03</td>\n",
       "      <td>393</td>\n",
       "      <td>2388</td>\n",
       "      <td>100.0</td>\n",
       "      <td>39.08</td>\n",
       "      <td>23.4166</td>\n",
       "      <td>no</td>\n",
       "    </tr>\n",
       "    <tr>\n",
       "      <th>3</th>\n",
       "      <td>0.0042</td>\n",
       "      <td>0.0000</td>\n",
       "      <td>100.0</td>\n",
       "      <td>518.67</td>\n",
       "      <td>642.44</td>\n",
       "      <td>1584.12</td>\n",
       "      <td>1406.42</td>\n",
       "      <td>14.62</td>\n",
       "      <td>21.61</td>\n",
       "      <td>554.07</td>\n",
       "      <td>...</td>\n",
       "      <td>2388.05</td>\n",
       "      <td>8132.90</td>\n",
       "      <td>8.3917</td>\n",
       "      <td>0.03</td>\n",
       "      <td>391</td>\n",
       "      <td>2388</td>\n",
       "      <td>100.0</td>\n",
       "      <td>39.00</td>\n",
       "      <td>23.3737</td>\n",
       "      <td>no</td>\n",
       "    </tr>\n",
       "    <tr>\n",
       "      <th>4</th>\n",
       "      <td>0.0014</td>\n",
       "      <td>0.0000</td>\n",
       "      <td>100.0</td>\n",
       "      <td>518.67</td>\n",
       "      <td>642.51</td>\n",
       "      <td>1587.19</td>\n",
       "      <td>1401.92</td>\n",
       "      <td>14.62</td>\n",
       "      <td>21.61</td>\n",
       "      <td>554.16</td>\n",
       "      <td>...</td>\n",
       "      <td>2388.03</td>\n",
       "      <td>8129.54</td>\n",
       "      <td>8.4031</td>\n",
       "      <td>0.03</td>\n",
       "      <td>390</td>\n",
       "      <td>2388</td>\n",
       "      <td>100.0</td>\n",
       "      <td>38.99</td>\n",
       "      <td>23.4130</td>\n",
       "      <td>no</td>\n",
       "    </tr>\n",
       "    <tr>\n",
       "      <th>...</th>\n",
       "      <td>...</td>\n",
       "      <td>...</td>\n",
       "      <td>...</td>\n",
       "      <td>...</td>\n",
       "      <td>...</td>\n",
       "      <td>...</td>\n",
       "      <td>...</td>\n",
       "      <td>...</td>\n",
       "      <td>...</td>\n",
       "      <td>...</td>\n",
       "      <td>...</td>\n",
       "      <td>...</td>\n",
       "      <td>...</td>\n",
       "      <td>...</td>\n",
       "      <td>...</td>\n",
       "      <td>...</td>\n",
       "      <td>...</td>\n",
       "      <td>...</td>\n",
       "      <td>...</td>\n",
       "      <td>...</td>\n",
       "      <td>...</td>\n",
       "    </tr>\n",
       "    <tr>\n",
       "      <th>13091</th>\n",
       "      <td>0.0049</td>\n",
       "      <td>0.0000</td>\n",
       "      <td>100.0</td>\n",
       "      <td>518.67</td>\n",
       "      <td>643.24</td>\n",
       "      <td>1599.45</td>\n",
       "      <td>1415.79</td>\n",
       "      <td>14.62</td>\n",
       "      <td>21.61</td>\n",
       "      <td>553.41</td>\n",
       "      <td>...</td>\n",
       "      <td>2388.00</td>\n",
       "      <td>8213.28</td>\n",
       "      <td>8.4715</td>\n",
       "      <td>0.03</td>\n",
       "      <td>394</td>\n",
       "      <td>2388</td>\n",
       "      <td>100.0</td>\n",
       "      <td>38.65</td>\n",
       "      <td>23.1974</td>\n",
       "      <td>yes</td>\n",
       "    </tr>\n",
       "    <tr>\n",
       "      <th>13092</th>\n",
       "      <td>-0.0011</td>\n",
       "      <td>-0.0001</td>\n",
       "      <td>100.0</td>\n",
       "      <td>518.67</td>\n",
       "      <td>643.22</td>\n",
       "      <td>1595.69</td>\n",
       "      <td>1422.05</td>\n",
       "      <td>14.62</td>\n",
       "      <td>21.61</td>\n",
       "      <td>553.22</td>\n",
       "      <td>...</td>\n",
       "      <td>2388.09</td>\n",
       "      <td>8210.85</td>\n",
       "      <td>8.4512</td>\n",
       "      <td>0.03</td>\n",
       "      <td>395</td>\n",
       "      <td>2388</td>\n",
       "      <td>100.0</td>\n",
       "      <td>38.57</td>\n",
       "      <td>23.2771</td>\n",
       "      <td>yes</td>\n",
       "    </tr>\n",
       "    <tr>\n",
       "      <th>13093</th>\n",
       "      <td>-0.0006</td>\n",
       "      <td>-0.0003</td>\n",
       "      <td>100.0</td>\n",
       "      <td>518.67</td>\n",
       "      <td>643.44</td>\n",
       "      <td>1593.15</td>\n",
       "      <td>1406.82</td>\n",
       "      <td>14.62</td>\n",
       "      <td>21.61</td>\n",
       "      <td>553.04</td>\n",
       "      <td>...</td>\n",
       "      <td>2388.04</td>\n",
       "      <td>8217.24</td>\n",
       "      <td>8.4569</td>\n",
       "      <td>0.03</td>\n",
       "      <td>395</td>\n",
       "      <td>2388</td>\n",
       "      <td>100.0</td>\n",
       "      <td>38.62</td>\n",
       "      <td>23.2051</td>\n",
       "      <td>yes</td>\n",
       "    </tr>\n",
       "    <tr>\n",
       "      <th>13094</th>\n",
       "      <td>-0.0038</td>\n",
       "      <td>0.0001</td>\n",
       "      <td>100.0</td>\n",
       "      <td>518.67</td>\n",
       "      <td>643.26</td>\n",
       "      <td>1594.99</td>\n",
       "      <td>1419.36</td>\n",
       "      <td>14.62</td>\n",
       "      <td>21.61</td>\n",
       "      <td>553.37</td>\n",
       "      <td>...</td>\n",
       "      <td>2388.08</td>\n",
       "      <td>8220.48</td>\n",
       "      <td>8.4711</td>\n",
       "      <td>0.03</td>\n",
       "      <td>395</td>\n",
       "      <td>2388</td>\n",
       "      <td>100.0</td>\n",
       "      <td>38.66</td>\n",
       "      <td>23.2699</td>\n",
       "      <td>yes</td>\n",
       "    </tr>\n",
       "    <tr>\n",
       "      <th>13095</th>\n",
       "      <td>0.0013</td>\n",
       "      <td>0.0003</td>\n",
       "      <td>100.0</td>\n",
       "      <td>518.67</td>\n",
       "      <td>642.95</td>\n",
       "      <td>1601.62</td>\n",
       "      <td>1424.99</td>\n",
       "      <td>14.62</td>\n",
       "      <td>21.61</td>\n",
       "      <td>552.48</td>\n",
       "      <td>...</td>\n",
       "      <td>2388.05</td>\n",
       "      <td>8214.64</td>\n",
       "      <td>8.4903</td>\n",
       "      <td>0.03</td>\n",
       "      <td>396</td>\n",
       "      <td>2388</td>\n",
       "      <td>100.0</td>\n",
       "      <td>38.70</td>\n",
       "      <td>23.1855</td>\n",
       "      <td>yes</td>\n",
       "    </tr>\n",
       "  </tbody>\n",
       "</table>\n",
       "<p>13096 rows × 25 columns</p>\n",
       "</div>"
      ],
      "text/plain": [
       "       setting1  setting2  setting3      s1      s2       s3       s4     s5  \\\n",
       "0        0.0023    0.0003     100.0  518.67  643.02  1585.29  1398.21  14.62   \n",
       "1       -0.0027   -0.0003     100.0  518.67  641.71  1588.45  1395.42  14.62   \n",
       "2        0.0003    0.0001     100.0  518.67  642.46  1586.94  1401.34  14.62   \n",
       "3        0.0042    0.0000     100.0  518.67  642.44  1584.12  1406.42  14.62   \n",
       "4        0.0014    0.0000     100.0  518.67  642.51  1587.19  1401.92  14.62   \n",
       "...         ...       ...       ...     ...     ...      ...      ...    ...   \n",
       "13091    0.0049    0.0000     100.0  518.67  643.24  1599.45  1415.79  14.62   \n",
       "13092   -0.0011   -0.0001     100.0  518.67  643.22  1595.69  1422.05  14.62   \n",
       "13093   -0.0006   -0.0003     100.0  518.67  643.44  1593.15  1406.82  14.62   \n",
       "13094   -0.0038    0.0001     100.0  518.67  643.26  1594.99  1419.36  14.62   \n",
       "13095    0.0013    0.0003     100.0  518.67  642.95  1601.62  1424.99  14.62   \n",
       "\n",
       "          s6      s7  ...      s13      s14     s15   s16  s17   s18    s19  \\\n",
       "0      21.61  553.90  ...  2388.03  8125.55  8.4052  0.03  392  2388  100.0   \n",
       "1      21.61  554.85  ...  2388.06  8139.62  8.3803  0.03  393  2388  100.0   \n",
       "2      21.61  554.11  ...  2388.03  8130.10  8.4441  0.03  393  2388  100.0   \n",
       "3      21.61  554.07  ...  2388.05  8132.90  8.3917  0.03  391  2388  100.0   \n",
       "4      21.61  554.16  ...  2388.03  8129.54  8.4031  0.03  390  2388  100.0   \n",
       "...      ...     ...  ...      ...      ...     ...   ...  ...   ...    ...   \n",
       "13091  21.61  553.41  ...  2388.00  8213.28  8.4715  0.03  394  2388  100.0   \n",
       "13092  21.61  553.22  ...  2388.09  8210.85  8.4512  0.03  395  2388  100.0   \n",
       "13093  21.61  553.04  ...  2388.04  8217.24  8.4569  0.03  395  2388  100.0   \n",
       "13094  21.61  553.37  ...  2388.08  8220.48  8.4711  0.03  395  2388  100.0   \n",
       "13095  21.61  552.48  ...  2388.05  8214.64  8.4903  0.03  396  2388  100.0   \n",
       "\n",
       "         s20      s21  Failure_status  \n",
       "0      38.86  23.3735              no  \n",
       "1      39.02  23.3916              no  \n",
       "2      39.08  23.4166              no  \n",
       "3      39.00  23.3737              no  \n",
       "4      38.99  23.4130              no  \n",
       "...      ...      ...             ...  \n",
       "13091  38.65  23.1974             yes  \n",
       "13092  38.57  23.2771             yes  \n",
       "13093  38.62  23.2051             yes  \n",
       "13094  38.66  23.2699             yes  \n",
       "13095  38.70  23.1855             yes  \n",
       "\n",
       "[13096 rows x 25 columns]"
      ]
     },
     "execution_count": 5,
     "metadata": {},
     "output_type": "execute_result"
    }
   ],
   "source": [
    "df_test = pd.read_csv('test_FD001.csv', sep=';')\n",
    "df_test"
   ]
  },
  {
   "cell_type": "markdown",
   "metadata": {},
   "source": [
    "## Cleaning\n",
    "- Missing values check\n",
    "    - dataframes have no missing values.\n",
    "- Duplicate rows check\n",
    "    - dataframes have no duplicated values.\n",
    "  "
   ]
  },
  {
   "cell_type": "code",
   "execution_count": 6,
   "metadata": {},
   "outputs": [
    {
     "name": "stdout",
     "output_type": "stream",
     "text": [
      "Number of variables: 25\n",
      "Number of observations: 20631\n",
      "Missing Values: 0\n",
      "Missing Values : 0.0\n",
      "Duplicate rows: 0\n",
      "Duplicate rows (%): 0.0\n",
      "Variable types: \n",
      "\tint64 2\n",
      "\tfloat64 22\n",
      "\tobject 1\n"
     ]
    }
   ],
   "source": [
    "print(f\"Number of variables: {len(df_train.columns)}\")\n",
    "print(f\"Number of observations: {df_train.shape[0]}\")\n",
    "print(f\"Missing Values: {df_train.isna().sum().sum()}\")\n",
    "print(f\"Missing Values : {round(df_train.isna().sum().sum()/df_train.shape[0]*100,3)}\")\n",
    "print(f\"Duplicate rows: {df_train[df_train.duplicated(keep=False)].shape[0]}\")\n",
    "print(f\"Duplicate rows (%): {round(df_train[df_train.duplicated(keep='first')].shape[0]/df_train.shape[0]*100,3)}\")\n",
    "print(\"Variable types: \")\n",
    "a=pd.crosstab(df_train.dtypes,columns=\"Count\")\n",
    "for i in pd.crosstab(df_train.dtypes,columns=\"Count\").index:\n",
    "    print(\"\\t\"+str(i).split()[0],a.loc[i][0])"
   ]
  },
  {
   "cell_type": "code",
   "execution_count": 7,
   "metadata": {},
   "outputs": [
    {
     "name": "stdout",
     "output_type": "stream",
     "text": [
      "Number of variables: 25\n",
      "Number of observations: 13096\n",
      "Missing Values: 0\n",
      "Missing Values : 0.0\n",
      "Duplicate rows: 0\n",
      "Duplicate rows (%): 0.0\n",
      "Variable types: \n",
      "\tint64 2\n",
      "\tfloat64 22\n",
      "\tobject 1\n"
     ]
    }
   ],
   "source": [
    "print(f\"Number of variables: {len(df_test.columns)}\")\n",
    "print(f\"Number of observations: {df_test.shape[0]}\")\n",
    "print(f\"Missing Values: {df_test.isna().sum().sum()}\")\n",
    "print(f\"Missing Values : {round(df_test.isna().sum().sum()/df_test.shape[0]*100,3)}\")\n",
    "print(f\"Duplicate rows: {df_test[df_test.duplicated(keep=False)].shape[0]}\")\n",
    "print(f\"Duplicate rows (%): {round(df_test[df_test.duplicated(keep='first')].shape[0]/df_test.shape[0]*100,3)}\")\n",
    "print(\"Variable types: \")\n",
    "a=pd.crosstab(df_test.dtypes,columns=\"Count\")\n",
    "for i in pd.crosstab(df_test.dtypes,columns=\"Count\").index:\n",
    "    print(\"\\t\"+str(i).split()[0],a.loc[i][0])"
   ]
  },
  {
   "cell_type": "markdown",
   "metadata": {},
   "source": [
    "## Class Imbalance\n",
    "\n",
    "The distribution of Failure status is important because it speaks to class imbalance within machine learning and data mining applications. Class imbalance is a term used to describe when a target class within a data set is outnumbered by another target class (or classes). This can create misleading accuracy metrics, known as an accuracy paradox. To make sure our target classes aren't imbalanced, create a function that will output the distribution of the target classes."
   ]
  },
  {
   "cell_type": "code",
   "execution_count": 8,
   "metadata": {},
   "outputs": [],
   "source": [
    "def print_dx_perc(data_frame, col):\n",
    "    \"\"\"Function used to print class distribution for our data set\"\"\"\n",
    "    try:\n",
    "        # Stores value counts\n",
    "        col_vals = data_frame[col].value_counts()\n",
    "        # Resets index to make index a column in data frame\n",
    "        col_vals = col_vals.reset_index()\n",
    "        # If the number of unique instances in column exceeds 20 print warning\n",
    "        if len(col_vals['index']) > 20:\n",
    "            print('Warning: values in column are more than 20 \\nPlease try a column with lower value counts!')\n",
    "        # Else it calculates/prints percentage for each unique value in column\n",
    "        else:\n",
    "            # Create a function to output the percentage\n",
    "            f = lambda x, y: 100 * (x / sum(y))\n",
    "            for i in range(0, len(col_vals['index'])):\n",
    "                print('{0} accounts for {1:.2f}% of the {2} column'\\\n",
    "                      .format(col_vals['index'][i],\n",
    "                              f(col_vals[col].iloc[i],\n",
    "                                col_vals[col]),\n",
    "                              col))\n",
    "    # try-except block goes here if it can't find the column in data frame\n",
    "    except KeyError as e:\n",
    "        print('{0}: Not found'.format(e))\n",
    "        print('Please choose the right column name!')"
   ]
  },
  {
   "cell_type": "code",
   "execution_count": 10,
   "metadata": {},
   "outputs": [
    {
     "name": "stdout",
     "output_type": "stream",
     "text": [
      "no accounts for 84.97% of the Failure_status column\n",
      "yes accounts for 15.03% of the Failure_status column\n"
     ]
    }
   ],
   "source": [
    "print_dx_perc(df_train, 'Failure_status')"
   ]
  },
  {
   "cell_type": "code",
   "execution_count": 11,
   "metadata": {},
   "outputs": [
    {
     "name": "stdout",
     "output_type": "stream",
     "text": [
      "no accounts for 67.27% of the Failure_status column\n",
      "yes accounts for 32.73% of the Failure_status column\n"
     ]
    }
   ],
   "source": [
    "print_dx_perc(df_test, 'Failure_status')"
   ]
  },
  {
   "cell_type": "markdown",
   "metadata": {},
   "source": [
    "Fortunately, this data set does not suffer from class imbalance."
   ]
  },
  {
   "cell_type": "markdown",
   "metadata": {},
   "source": [
    "## Data Extraction\n",
    "- obtain the X features and Y target variables for training and test dataset"
   ]
  },
  {
   "cell_type": "code",
   "execution_count": 12,
   "metadata": {},
   "outputs": [],
   "source": [
    "#define the training dataset\n",
    "X_train = df_train.iloc[:,0:-1]\n",
    "Y_train = df_train.iloc[:,-1]"
   ]
  },
  {
   "cell_type": "code",
   "execution_count": 13,
   "metadata": {},
   "outputs": [],
   "source": [
    "#define the test dataset\n",
    "X_test = df_test.iloc[:,0:-1]\n",
    "Y_test = df_test.iloc[:,-1]"
   ]
  },
  {
   "cell_type": "code",
   "execution_count": 14,
   "metadata": {},
   "outputs": [
    {
     "name": "stdout",
     "output_type": "stream",
     "text": [
      "Dataset     | Size/Length\n",
      "----------------------------------------\n",
      "Training X  | (20631, 24)\n",
      "Training y  | (20631,)\n",
      "Testing X   | (13096, 24)\n",
      "Testing y   | (13096,)\n"
     ]
    }
   ],
   "source": [
    "print(f\"Dataset     | Size/Length\")\n",
    "print(\"-\"*40)\n",
    "print(f\"Training X  | {X_train.shape}\")\n",
    "print(f\"Training y  | {Y_train.shape}\")\n",
    "print(f\"Testing X   | {X_test.shape}\")\n",
    "print(f\"Testing y   | {Y_test.shape}\")"
   ]
  },
  {
   "cell_type": "markdown",
   "metadata": {},
   "source": [
    "# Building Random Forest"
   ]
  },
  {
   "cell_type": "code",
   "execution_count": 15,
   "metadata": {},
   "outputs": [],
   "source": [
    "RF = RandomForestClassifier()"
   ]
  },
  {
   "cell_type": "code",
   "execution_count": 16,
   "metadata": {},
   "outputs": [
    {
     "data": {
      "text/plain": [
       "RandomForestClassifier()"
      ]
     },
     "execution_count": 16,
     "metadata": {},
     "output_type": "execute_result"
    }
   ],
   "source": [
    "RF.fit(X_train,Y_train)"
   ]
  },
  {
   "cell_type": "code",
   "execution_count": 17,
   "metadata": {},
   "outputs": [
    {
     "data": {
      "text/plain": [
       "<AxesSubplot:>"
      ]
     },
     "execution_count": 17,
     "metadata": {},
     "output_type": "execute_result"
    },
    {
     "data": {
      "image/png": "[encoded data removed]",
      "text/plain": [
       "<Figure size 432x288 with 2 Axes>"
      ]
     },
     "metadata": {
      "needs_background": "light"
     },
     "output_type": "display_data"
    }
   ],
   "source": [
    "Y_pred_RF = RF.predict(X_test)\n",
    "\n",
    "#create the confusion matrix\n",
    "\n",
    "cm = pd.DataFrame(confusion_matrix(Y_test, Y_pred_RF, normalize ='true')*100)\n",
    "colormap = sns.color_palette(\"Blues\")\n",
    "sns.heatmap(cm, annot=True,cmap=colormap)\n",
    "\n"
   ]
  },
  {
   "cell_type": "code",
   "execution_count": 18,
   "metadata": {},
   "outputs": [
    {
     "name": "stdout",
     "output_type": "stream",
     "text": [
      "Accuracy: 68.85308491142334%\n"
     ]
    }
   ],
   "source": [
    "accuracy_score(Y_test, Y_pred_RF)\n",
    "print(f\"Accuracy: {(accuracy_score(Y_test, Y_pred_RF)*100)}%\")"
   ]
  },
  {
   "cell_type": "markdown",
   "metadata": {},
   "source": [
    "# BUILD OPTIMAL SVM CLASSIFIER\n",
    "- Preliminary / Unoptimized Model\n",
    "- Model Parameters Optimization\n",
    "- Final Optimized Model and Conclusion"
   ]
  },
  {
   "cell_type": "markdown",
   "metadata": {},
   "source": [
    "## Preliminary / Unoptimized Model\n",
    "- build an unoptimized svm classifier for the training dataset\n",
    "- plot and draw confusion matrix to see how it performs on the testing dataset.\n",
    "- analyze clasification report.\n",
    "- evaluate model performance"
   ]
  },
  {
   "cell_type": "code",
   "execution_count": 19,
   "metadata": {},
   "outputs": [
    {
     "data": {
      "text/plain": [
       "SVC(random_state=42)"
      ]
     },
     "execution_count": 19,
     "metadata": {},
     "output_type": "execute_result"
    }
   ],
   "source": [
    "clf_svm_unoptimized = SVC(random_state=42)\n",
    "clf_svm_unoptimized.fit(X_train, Y_train)"
   ]
  },
  {
   "cell_type": "code",
   "execution_count": 20,
   "metadata": {},
   "outputs": [
    {
     "data": {
      "text/plain": [
       "Text(0.5, 1.0, 'Unoptimized Confusion Matrix')"
      ]
     },
     "execution_count": 20,
     "metadata": {},
     "output_type": "execute_result"
    },
    {
     "data": {
      "image/png": "[encoded data removed]",
      "text/plain": [
       "<Figure size 576x576 with 2 Axes>"
      ]
     },
     "metadata": {
      "needs_background": "light"
     },
     "output_type": "display_data"
    }
   ],
   "source": [
    "fig, ax = plt.subplots(figsize=(8,8))\n",
    "\n",
    "plot_confusion_matrix(\n",
    "    clf_svm_unoptimized,\n",
    "    X_test,\n",
    "    Y_test,\n",
    "    values_format='d',\n",
    "    ax=ax\n",
    ")\n",
    "plt.title('Unoptimized Confusion Matrix') "
   ]
  },
  {
   "cell_type": "markdown",
   "metadata": {},
   "source": [
    "## Model Performance (Unoptimized)\n",
    "- obtain predicted values given the test data\n",
    "- compute the accuracy of the classifier\n",
    "- obtain the classification report"
   ]
  },
  {
   "cell_type": "code",
   "execution_count": 21,
   "metadata": {},
   "outputs": [
    {
     "name": "stdout",
     "output_type": "stream",
     "text": [
      "Accuracy: 67.2724496029322%\n"
     ]
    }
   ],
   "source": [
    "preds = clf_svm_unoptimized.predict(X_test)\n",
    "print(f\"Accuracy: {(accuracy_score(Y_test,preds)*100)}%\")"
   ]
  },
  {
   "cell_type": "code",
   "execution_count": 22,
   "metadata": {},
   "outputs": [
    {
     "name": "stdout",
     "output_type": "stream",
     "text": [
      "['no' 'no' 'no' ... 'no' 'no' 'no']\n",
      "0         no\n",
      "1         no\n",
      "2         no\n",
      "3         no\n",
      "4         no\n",
      "        ... \n",
      "13091    yes\n",
      "13092    yes\n",
      "13093    yes\n",
      "13094    yes\n",
      "13095    yes\n",
      "Name: Failure_status, Length: 13096, dtype: object\n"
     ]
    }
   ],
   "source": [
    "print(preds)\n",
    "print(Y_test)"
   ]
  },
  {
   "cell_type": "code",
   "execution_count": 23,
   "metadata": {},
   "outputs": [
    {
     "name": "stderr",
     "output_type": "stream",
     "text": [
      "E:\\Anaconda\\lib\\site-packages\\sklearn\\metrics\\_classification.py:1221: UndefinedMetricWarning: Precision and F-score are ill-defined and being set to 0.0 in labels with no predicted samples. Use `zero_division` parameter to control this behavior.\n",
      "  _warn_prf(average, modifier, msg_start, len(result))\n"
     ]
    },
    {
     "name": "stdout",
     "output_type": "stream",
     "text": [
      "              precision    recall  f1-score   support\n",
      "\n",
      "          no       0.67      1.00      0.80      8810\n",
      "         yes       0.00      0.00      0.00      4286\n",
      "\n",
      "    accuracy                           0.67     13096\n",
      "   macro avg       0.34      0.50      0.40     13096\n",
      "weighted avg       0.45      0.67      0.54     13096\n",
      "\n"
     ]
    }
   ],
   "source": [
    "print(classification_report(Y_test,preds))"
   ]
  },
  {
   "cell_type": "markdown",
   "metadata": {},
   "source": [
    "## Optimize SVM parameters\n",
    "- we define some set of dafault values for the parameters C and gamma and the kernels to check for best fit.\n",
    "- the best kernel turned out to be 'rbf'. All the time."
   ]
  },
  {
   "cell_type": "code",
   "execution_count": null,
   "metadata": {},
   "outputs": [],
   "source": [
    "#this take long time for my laptop so, i assumed the below values\n",
    "#but i will try to check it latter again\n",
    "\"\"\"\n",
    "param_grid = [\n",
    "    {\n",
    "        'C':[0.5,1,10],\n",
    "        'gamma':['scale',1, 0.1, 0.01, 0.001],\n",
    "        'kernel':['rbf'] # ['rbf','poly','linear']\n",
    "    }\n",
    "]\n",
    "optimal_params = GridSearchCV(\n",
    "    SVC(),\n",
    "    param_grid,\n",
    "    cv=5,\n",
    "    scoring='accuracy',\n",
    "    verbose=0\n",
    ")\n",
    "\n",
    "C,g,k = optimal_params.fit(X_train, Y_train).best_params_.values()\n",
    "\"\"\"\""
   ]
  },
  {
   "cell_type": "code",
   "execution_count": null,
   "metadata": {},
   "outputs": [],
   "source": [
    "print(f\"C = {C}\")\n",
    "print(f\"gamma = {g}\")\n",
    "print(f\"kernel = {k}\")"
   ]
  },
  {
   "cell_type": "code",
   "execution_count": 24,
   "metadata": {},
   "outputs": [],
   "source": [
    "C = 100\n",
    "g = 0.01\n",
    "k = 'rbf'"
   ]
  },
  {
   "cell_type": "markdown",
   "metadata": {},
   "source": [
    "## Final SVM with optimal parameters\n",
    "- refit the svm model with the optimal parameters acquired.\n",
    "- an overall improvement compared to the prior unoptimized svm model."
   ]
  },
  {
   "cell_type": "code",
   "execution_count": 25,
   "metadata": {},
   "outputs": [
    {
     "data": {
      "text/plain": [
       "SVC(C=100, gamma=0.01, random_state=42)"
      ]
     },
     "execution_count": 25,
     "metadata": {},
     "output_type": "execute_result"
    }
   ],
   "source": [
    "clf_svm = SVC(random_state=42, C=C, gamma=g, kernel=k)\n",
    "clf_svm.fit(X_train, Y_train)"
   ]
  },
  {
   "cell_type": "code",
   "execution_count": 26,
   "metadata": {},
   "outputs": [
    {
     "data": {
      "text/plain": [
       "Text(0.5, 1.0, 'Optimized Confusion Matrix')"
      ]
     },
     "execution_count": 26,
     "metadata": {},
     "output_type": "execute_result"
    },
    {
     "data": {
      "image/png": "[encoded data removed]",
      "text/plain": [
       "<Figure size 576x576 with 2 Axes>"
      ]
     },
     "metadata": {
      "needs_background": "light"
     },
     "output_type": "display_data"
    }
   ],
   "source": [
    "fig, ax = plt.subplots(figsize=(8,8))\n",
    "plot_confusion_matrix(\n",
    "    clf_svm,\n",
    "    X_test,\n",
    "    Y_test,\n",
    "    values_format='d',\n",
    "    \n",
    "    ax=ax\n",
    ")\n",
    "\n",
    "plt.title('Optimized Confusion Matrix') "
   ]
  },
  {
   "cell_type": "markdown",
   "metadata": {},
   "source": [
    "## Model Performance (Optimized)\n",
    "- obtain predicted values given the test data\n",
    "- compute the accuracy of the classifier\n",
    "- obtain the classification report"
   ]
  },
  {
   "cell_type": "code",
   "execution_count": 27,
   "metadata": {},
   "outputs": [
    {
     "name": "stdout",
     "output_type": "stream",
     "text": [
      "Accuracy: 68.99053145998778%\n"
     ]
    }
   ],
   "source": [
    "preds = clf_svm.predict(X_test)\n",
    "print(f\"Accuracy: {(accuracy_score(Y_test,preds)*100)}%\")"
   ]
  },
  {
   "cell_type": "code",
   "execution_count": 28,
   "metadata": {},
   "outputs": [
    {
     "name": "stdout",
     "output_type": "stream",
     "text": [
      "              precision    recall  f1-score   support\n",
      "\n",
      "          no       0.69      1.00      0.81      8810\n",
      "         yes       0.89      0.06      0.11      4286\n",
      "\n",
      "    accuracy                           0.69     13096\n",
      "   macro avg       0.79      0.53      0.46     13096\n",
      "weighted avg       0.75      0.69      0.58     13096\n",
      "\n"
     ]
    }
   ],
   "source": [
    "print(classification_report(Y_test,preds))"
   ]
  },
  {
   "cell_type": "markdown",
   "metadata": {},
   "source": [
    "## Multi-Layer Perceptron Neural Network "
   ]
  },
  {
   "cell_type": "code",
   "execution_count": 30,
   "metadata": {},
   "outputs": [],
   "source": [
    "# Creating labelEncoder\n",
    "le = preprocessing.LabelEncoder()\n",
    "\n",
    "# Converting string labels into numbers.\n",
    "df_train['Failure_status']=le.fit_transform(df_train['Failure_status'])\n",
    "df_test['Failure_status']=le.fit_transform(df_test['Failure_status'])"
   ]
  },
  {
   "cell_type": "code",
   "execution_count": 31,
   "metadata": {},
   "outputs": [
    {
     "name": "stdout",
     "output_type": "stream",
     "text": [
      "Iteration 1, loss = 6.91740573\n",
      "Iteration 2, loss = 0.53654253\n",
      "Iteration 3, loss = 0.46207335\n",
      "Iteration 4, loss = 0.43545521\n",
      "Iteration 5, loss = 0.42682538\n",
      "Iteration 6, loss = 0.42413591\n",
      "Iteration 7, loss = 0.42339920\n",
      "Iteration 8, loss = 0.42321761\n",
      "Iteration 9, loss = 0.42319318\n",
      "Iteration 10, loss = 0.42317257\n",
      "Iteration 11, loss = 0.42318135\n",
      "Iteration 12, loss = 0.42319007\n",
      "Iteration 13, loss = 0.42318940\n",
      "Iteration 14, loss = 0.42319921\n",
      "Iteration 15, loss = 0.42318362\n",
      "Iteration 16, loss = 0.42318036\n",
      "Iteration 17, loss = 0.42319652\n",
      "Iteration 18, loss = 0.42321157\n",
      "Iteration 19, loss = 0.42319377\n",
      "Training loss did not improve more than tol=0.000100 for 10 consecutive epochs. Stopping.\n"
     ]
    },
    {
     "data": {
      "text/plain": [
       "MLPClassifier(hidden_layer_sizes=(6, 5), learning_rate_init=0.01,\n",
       "              random_state=5, verbose=True)"
      ]
     },
     "execution_count": 31,
     "metadata": {},
     "output_type": "execute_result"
    }
   ],
   "source": [
    "\n",
    "\n",
    "# Create model object\n",
    "clf = MLPClassifier(hidden_layer_sizes=(6,5),\n",
    "                    random_state=5,\n",
    "                    verbose=True,\n",
    "                    learning_rate_init=0.01)\n",
    "\n",
    "# Fit data onto the model\n",
    "clf.fit(X_train,Y_train)"
   ]
  },
  {
   "cell_type": "code",
   "execution_count": 33,
   "metadata": {},
   "outputs": [
    {
     "data": {
      "text/plain": [
       "0.6727244960293219"
      ]
     },
     "execution_count": 33,
     "metadata": {},
     "output_type": "execute_result"
    }
   ],
   "source": [
    "# Make prediction on test dataset\n",
    "ypred=clf.predict(X_test)\n",
    "\n",
    "# Import accuracy score \n",
    "from sklearn.metrics import accuracy_score\n",
    "\n",
    "# Calcuate accuracy\n",
    "accuracy_score(Y_test,ypred)"
   ]
  }
 ],
 "metadata": {
  "kernelspec": {
   "display_name": "Python 3",
   "language": "python",
   "name": "python3"
  },
  "language_info": {
   "codemirror_mode": {
    "name": "ipython",
    "version": 3
   },
   "file_extension": ".py",
   "mimetype": "text/x-python",
   "name": "python",
   "nbconvert_exporter": "python",
   "pygments_lexer": "ipython3",
   "version": "3.8.5"
  }
 },
 "nbformat": 4,
 "nbformat_minor": 4
}
